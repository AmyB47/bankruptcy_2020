{
 "cells": [
  {
   "cell_type": "code",
   "execution_count": null,
   "id": "complex-supply",
   "metadata": {},
   "outputs": [],
   "source": [
    "\"\"\"\n",
    "Annual 10-K filing for Q4 2019 are not in the Google Cloud Platform database\n",
    "\n",
    "Downdloaded zip file from SEC website containing Q4 2019 10-K\n",
    "\n",
    "there are 4 txt files and notes provided by SEC regarding ile contents and the data \n",
    "relationships to join the files\n",
    "\n",
    "2 of the files NUM and SUB are needed  \n",
    "\n",
    "the column names will need adjusted to be consistant with the GCP db field naming\n",
    "\"\"\""
   ]
  },
  {
   "cell_type": "code",
   "execution_count": null,
   "id": "literary-clinton",
   "metadata": {},
   "outputs": [],
   "source": [
    "import pandas as pd\n",
    "import numpy as np\n",
    "import datetime as dt"
   ]
  },
  {
   "cell_type": "code",
   "execution_count": 2,
   "id": "floral-aluminum",
   "metadata": {},
   "outputs": [],
   "source": [
    "#The NUM data set contains numeric data, one row per data point in the financial statements.\n",
    "NUM_q4 = pd.read_csv('../data/2019q4/num.txt', delimiter='\\t' , \n",
    "                     parse_dates=['ddate'] )"
   ]
  },
  {
   "cell_type": "code",
   "execution_count": 3,
   "id": "academic-platform",
   "metadata": {},
   "outputs": [
    {
     "data": {
      "text/plain": [
       "(2402955, 9)"
      ]
     },
     "execution_count": 3,
     "metadata": {},
     "output_type": "execute_result"
    }
   ],
   "source": [
    "NUM_q4.shape"
   ]
  },
  {
   "cell_type": "code",
   "execution_count": 4,
   "id": "structured-clear",
   "metadata": {},
   "outputs": [
    {
     "data": {
      "text/html": [
       "<div>\n",
       "<style scoped>\n",
       "    .dataframe tbody tr th:only-of-type {\n",
       "        vertical-align: middle;\n",
       "    }\n",
       "\n",
       "    .dataframe tbody tr th {\n",
       "        vertical-align: top;\n",
       "    }\n",
       "\n",
       "    .dataframe thead th {\n",
       "        text-align: right;\n",
       "    }\n",
       "</style>\n",
       "<table border=\"1\" class=\"dataframe\">\n",
       "  <thead>\n",
       "    <tr style=\"text-align: right;\">\n",
       "      <th></th>\n",
       "      <th>adsh</th>\n",
       "      <th>tag</th>\n",
       "      <th>version</th>\n",
       "      <th>coreg</th>\n",
       "      <th>ddate</th>\n",
       "      <th>qtrs</th>\n",
       "      <th>uom</th>\n",
       "      <th>value</th>\n",
       "      <th>footnote</th>\n",
       "    </tr>\n",
       "  </thead>\n",
       "  <tbody>\n",
       "    <tr>\n",
       "      <th>0</th>\n",
       "      <td>0001558370-19-008908</td>\n",
       "      <td>DerivativeNotionalAmount</td>\n",
       "      <td>invest/2013</td>\n",
       "      <td>FerrellgasLP</td>\n",
       "      <td>2018-05-31</td>\n",
       "      <td>0</td>\n",
       "      <td>USD</td>\n",
       "      <td>100000000.0</td>\n",
       "      <td>NaN</td>\n",
       "    </tr>\n",
       "    <tr>\n",
       "      <th>1</th>\n",
       "      <td>0001558370-19-008908</td>\n",
       "      <td>DerivativeNotionalAmount</td>\n",
       "      <td>invest/2013</td>\n",
       "      <td>FerrellgasLP</td>\n",
       "      <td>2017-07-31</td>\n",
       "      <td>0</td>\n",
       "      <td>USD</td>\n",
       "      <td>175000000.0</td>\n",
       "      <td>NaN</td>\n",
       "    </tr>\n",
       "    <tr>\n",
       "      <th>2</th>\n",
       "      <td>0001558370-19-008908</td>\n",
       "      <td>DerivativeNotionalAmount</td>\n",
       "      <td>invest/2013</td>\n",
       "      <td>FerrellgasLP</td>\n",
       "      <td>2012-05-31</td>\n",
       "      <td>0</td>\n",
       "      <td>USD</td>\n",
       "      <td>140000000.0</td>\n",
       "      <td>NaN</td>\n",
       "    </tr>\n",
       "    <tr>\n",
       "      <th>3</th>\n",
       "      <td>0001558370-19-008908</td>\n",
       "      <td>DerivativeNotionalAmount</td>\n",
       "      <td>invest/2013</td>\n",
       "      <td>NaN</td>\n",
       "      <td>2018-05-31</td>\n",
       "      <td>0</td>\n",
       "      <td>USD</td>\n",
       "      <td>100000000.0</td>\n",
       "      <td>NaN</td>\n",
       "    </tr>\n",
       "    <tr>\n",
       "      <th>4</th>\n",
       "      <td>0001558370-19-008908</td>\n",
       "      <td>DerivativeNotionalAmount</td>\n",
       "      <td>invest/2013</td>\n",
       "      <td>NaN</td>\n",
       "      <td>2018-04-30</td>\n",
       "      <td>0</td>\n",
       "      <td>USD</td>\n",
       "      <td>100000000.0</td>\n",
       "      <td>NaN</td>\n",
       "    </tr>\n",
       "  </tbody>\n",
       "</table>\n",
       "</div>"
      ],
      "text/plain": [
       "                   adsh                       tag      version         coreg  \\\n",
       "0  0001558370-19-008908  DerivativeNotionalAmount  invest/2013  FerrellgasLP   \n",
       "1  0001558370-19-008908  DerivativeNotionalAmount  invest/2013  FerrellgasLP   \n",
       "2  0001558370-19-008908  DerivativeNotionalAmount  invest/2013  FerrellgasLP   \n",
       "3  0001558370-19-008908  DerivativeNotionalAmount  invest/2013           NaN   \n",
       "4  0001558370-19-008908  DerivativeNotionalAmount  invest/2013           NaN   \n",
       "\n",
       "       ddate  qtrs  uom        value footnote  \n",
       "0 2018-05-31     0  USD  100000000.0      NaN  \n",
       "1 2017-07-31     0  USD  175000000.0      NaN  \n",
       "2 2012-05-31     0  USD  140000000.0      NaN  \n",
       "3 2018-05-31     0  USD  100000000.0      NaN  \n",
       "4 2018-04-30     0  USD  100000000.0      NaN  "
      ]
     },
     "execution_count": 4,
     "metadata": {},
     "output_type": "execute_result"
    }
   ],
   "source": [
    "NUM_q4.head()"
   ]
  },
  {
   "cell_type": "code",
   "execution_count": 5,
   "id": "medium-election",
   "metadata": {},
   "outputs": [],
   "source": [
    "# detailed explaination of each field provided by SEC\n",
    "# update field names to match the GCP labels\n",
    "\n",
    "NUM_q4.columns = ['adsh', 'measure_tag', 'version', 'coreg', \n",
    "                  'period_end_date', 'number_of_quarters','units', 'value','footnote']"
   ]
  },
  {
   "cell_type": "code",
   "execution_count": 6,
   "id": "broadband-tracker",
   "metadata": {},
   "outputs": [
    {
     "data": {
      "text/html": [
       "<div>\n",
       "<style scoped>\n",
       "    .dataframe tbody tr th:only-of-type {\n",
       "        vertical-align: middle;\n",
       "    }\n",
       "\n",
       "    .dataframe tbody tr th {\n",
       "        vertical-align: top;\n",
       "    }\n",
       "\n",
       "    .dataframe thead th {\n",
       "        text-align: right;\n",
       "    }\n",
       "</style>\n",
       "<table border=\"1\" class=\"dataframe\">\n",
       "  <thead>\n",
       "    <tr style=\"text-align: right;\">\n",
       "      <th></th>\n",
       "      <th>adsh</th>\n",
       "      <th>measure_tag</th>\n",
       "      <th>version</th>\n",
       "      <th>coreg</th>\n",
       "      <th>period_end_date</th>\n",
       "      <th>number_of_quarters</th>\n",
       "      <th>units</th>\n",
       "      <th>value</th>\n",
       "      <th>footnote</th>\n",
       "    </tr>\n",
       "  </thead>\n",
       "  <tbody>\n",
       "    <tr>\n",
       "      <th>0</th>\n",
       "      <td>0001558370-19-008908</td>\n",
       "      <td>DerivativeNotionalAmount</td>\n",
       "      <td>invest/2013</td>\n",
       "      <td>FerrellgasLP</td>\n",
       "      <td>2018-05-31</td>\n",
       "      <td>0</td>\n",
       "      <td>USD</td>\n",
       "      <td>100000000.0</td>\n",
       "      <td>NaN</td>\n",
       "    </tr>\n",
       "    <tr>\n",
       "      <th>1</th>\n",
       "      <td>0001558370-19-008908</td>\n",
       "      <td>DerivativeNotionalAmount</td>\n",
       "      <td>invest/2013</td>\n",
       "      <td>FerrellgasLP</td>\n",
       "      <td>2017-07-31</td>\n",
       "      <td>0</td>\n",
       "      <td>USD</td>\n",
       "      <td>175000000.0</td>\n",
       "      <td>NaN</td>\n",
       "    </tr>\n",
       "    <tr>\n",
       "      <th>2</th>\n",
       "      <td>0001558370-19-008908</td>\n",
       "      <td>DerivativeNotionalAmount</td>\n",
       "      <td>invest/2013</td>\n",
       "      <td>FerrellgasLP</td>\n",
       "      <td>2012-05-31</td>\n",
       "      <td>0</td>\n",
       "      <td>USD</td>\n",
       "      <td>140000000.0</td>\n",
       "      <td>NaN</td>\n",
       "    </tr>\n",
       "    <tr>\n",
       "      <th>3</th>\n",
       "      <td>0001558370-19-008908</td>\n",
       "      <td>DerivativeNotionalAmount</td>\n",
       "      <td>invest/2013</td>\n",
       "      <td>NaN</td>\n",
       "      <td>2018-05-31</td>\n",
       "      <td>0</td>\n",
       "      <td>USD</td>\n",
       "      <td>100000000.0</td>\n",
       "      <td>NaN</td>\n",
       "    </tr>\n",
       "    <tr>\n",
       "      <th>4</th>\n",
       "      <td>0001558370-19-008908</td>\n",
       "      <td>DerivativeNotionalAmount</td>\n",
       "      <td>invest/2013</td>\n",
       "      <td>NaN</td>\n",
       "      <td>2018-04-30</td>\n",
       "      <td>0</td>\n",
       "      <td>USD</td>\n",
       "      <td>100000000.0</td>\n",
       "      <td>NaN</td>\n",
       "    </tr>\n",
       "  </tbody>\n",
       "</table>\n",
       "</div>"
      ],
      "text/plain": [
       "                   adsh               measure_tag      version         coreg  \\\n",
       "0  0001558370-19-008908  DerivativeNotionalAmount  invest/2013  FerrellgasLP   \n",
       "1  0001558370-19-008908  DerivativeNotionalAmount  invest/2013  FerrellgasLP   \n",
       "2  0001558370-19-008908  DerivativeNotionalAmount  invest/2013  FerrellgasLP   \n",
       "3  0001558370-19-008908  DerivativeNotionalAmount  invest/2013           NaN   \n",
       "4  0001558370-19-008908  DerivativeNotionalAmount  invest/2013           NaN   \n",
       "\n",
       "  period_end_date  number_of_quarters units        value footnote  \n",
       "0      2018-05-31                   0   USD  100000000.0      NaN  \n",
       "1      2017-07-31                   0   USD  175000000.0      NaN  \n",
       "2      2012-05-31                   0   USD  140000000.0      NaN  \n",
       "3      2018-05-31                   0   USD  100000000.0      NaN  \n",
       "4      2018-04-30                   0   USD  100000000.0      NaN  "
      ]
     },
     "execution_count": 6,
     "metadata": {},
     "output_type": "execute_result"
    }
   ],
   "source": [
    "NUM_q4.head()"
   ]
  },
  {
   "cell_type": "code",
   "execution_count": 7,
   "id": "prerequisite-optimization",
   "metadata": {},
   "outputs": [
    {
     "name": "stdout",
     "output_type": "stream",
     "text": [
      "<class 'pandas.core.frame.DataFrame'>\n",
      "RangeIndex: 2402955 entries, 0 to 2402954\n",
      "Data columns (total 9 columns):\n",
      " #   Column              Dtype         \n",
      "---  ------              -----         \n",
      " 0   adsh                object        \n",
      " 1   measure_tag         object        \n",
      " 2   version             object        \n",
      " 3   coreg               object        \n",
      " 4   period_end_date     datetime64[ns]\n",
      " 5   number_of_quarters  int64         \n",
      " 6   units               object        \n",
      " 7   value               float64       \n",
      " 8   footnote            object        \n",
      "dtypes: datetime64[ns](1), float64(1), int64(1), object(6)\n",
      "memory usage: 165.0+ MB\n"
     ]
    }
   ],
   "source": [
    "NUM_q4.info()"
   ]
  },
  {
   "cell_type": "code",
   "execution_count": 8,
   "id": "minus-aside",
   "metadata": {},
   "outputs": [],
   "source": [
    "#The SUB (submissions) data set contains summary information about an entire EDGAR submission. \n",
    "\n",
    "SUB_q4 = pd.read_csv('../data/2019q4/sub.txt', delimiter='\\t', \n",
    "                     parse_dates=['period'], \n",
    "                     dtype={'sic':  'str', 'ein':'str', 'cik':'str', 'fy':'str', 'fp':'str'})"
   ]
  },
  {
   "cell_type": "code",
   "execution_count": 9,
   "id": "comfortable-document",
   "metadata": {},
   "outputs": [
    {
     "data": {
      "text/plain": [
       "(12664, 36)"
      ]
     },
     "execution_count": 9,
     "metadata": {},
     "output_type": "execute_result"
    }
   ],
   "source": [
    "SUB_q4.shape"
   ]
  },
  {
   "cell_type": "code",
   "execution_count": 10,
   "id": "super-appeal",
   "metadata": {},
   "outputs": [
    {
     "data": {
      "text/html": [
       "<div>\n",
       "<style scoped>\n",
       "    .dataframe tbody tr th:only-of-type {\n",
       "        vertical-align: middle;\n",
       "    }\n",
       "\n",
       "    .dataframe tbody tr th {\n",
       "        vertical-align: top;\n",
       "    }\n",
       "\n",
       "    .dataframe thead th {\n",
       "        text-align: right;\n",
       "    }\n",
       "</style>\n",
       "<table border=\"1\" class=\"dataframe\">\n",
       "  <thead>\n",
       "    <tr style=\"text-align: right;\">\n",
       "      <th></th>\n",
       "      <th>adsh</th>\n",
       "      <th>cik</th>\n",
       "      <th>name</th>\n",
       "      <th>sic</th>\n",
       "      <th>countryba</th>\n",
       "      <th>stprba</th>\n",
       "      <th>cityba</th>\n",
       "      <th>zipba</th>\n",
       "      <th>bas1</th>\n",
       "      <th>bas2</th>\n",
       "      <th>...</th>\n",
       "      <th>period</th>\n",
       "      <th>fy</th>\n",
       "      <th>fp</th>\n",
       "      <th>filed</th>\n",
       "      <th>accepted</th>\n",
       "      <th>prevrpt</th>\n",
       "      <th>detail</th>\n",
       "      <th>instance</th>\n",
       "      <th>nciks</th>\n",
       "      <th>aciks</th>\n",
       "    </tr>\n",
       "  </thead>\n",
       "  <tbody>\n",
       "    <tr>\n",
       "      <th>0</th>\n",
       "      <td>0000018498-19-000043</td>\n",
       "      <td>18498</td>\n",
       "      <td>GENESCO INC</td>\n",
       "      <td>5661</td>\n",
       "      <td>US</td>\n",
       "      <td>TN</td>\n",
       "      <td>NASHVILLE</td>\n",
       "      <td>37217</td>\n",
       "      <td>GENESCO PK 1415 MURFREESBORO RD</td>\n",
       "      <td>NaN</td>\n",
       "      <td>...</td>\n",
       "      <td>2019-09-30</td>\n",
       "      <td>NaN</td>\n",
       "      <td>NaN</td>\n",
       "      <td>20191001</td>\n",
       "      <td>2019-10-01 16:24:00.0</td>\n",
       "      <td>0</td>\n",
       "      <td>0</td>\n",
       "      <td>a8-krepurchase100119_htm.xml</td>\n",
       "      <td>1</td>\n",
       "      <td>NaN</td>\n",
       "    </tr>\n",
       "    <tr>\n",
       "      <th>1</th>\n",
       "      <td>0000032604-19-000040</td>\n",
       "      <td>32604</td>\n",
       "      <td>EMERSON ELECTRIC CO</td>\n",
       "      <td>3600</td>\n",
       "      <td>US</td>\n",
       "      <td>MO</td>\n",
       "      <td>ST LOUIS</td>\n",
       "      <td>63136</td>\n",
       "      <td>8000 W FLORISSANT AVE</td>\n",
       "      <td>P O BOX 4100</td>\n",
       "      <td>...</td>\n",
       "      <td>2019-09-30</td>\n",
       "      <td>NaN</td>\n",
       "      <td>NaN</td>\n",
       "      <td>20191001</td>\n",
       "      <td>2019-10-01 06:58:00.0</td>\n",
       "      <td>0</td>\n",
       "      <td>0</td>\n",
       "      <td>form8-kreviewannouncem_htm.xml</td>\n",
       "      <td>1</td>\n",
       "      <td>NaN</td>\n",
       "    </tr>\n",
       "    <tr>\n",
       "      <th>2</th>\n",
       "      <td>0000034088-19-000051</td>\n",
       "      <td>34088</td>\n",
       "      <td>EXXON MOBIL CORP</td>\n",
       "      <td>2911</td>\n",
       "      <td>US</td>\n",
       "      <td>TX</td>\n",
       "      <td>IRVING</td>\n",
       "      <td>75039-2298</td>\n",
       "      <td>5959 LAS COLINAS BLVD</td>\n",
       "      <td>NaN</td>\n",
       "      <td>...</td>\n",
       "      <td>2019-09-30</td>\n",
       "      <td>NaN</td>\n",
       "      <td>NaN</td>\n",
       "      <td>20191001</td>\n",
       "      <td>2019-10-01 17:16:00.0</td>\n",
       "      <td>0</td>\n",
       "      <td>0</td>\n",
       "      <td>r8k100119_htm.xml</td>\n",
       "      <td>1</td>\n",
       "      <td>NaN</td>\n",
       "    </tr>\n",
       "    <tr>\n",
       "      <th>3</th>\n",
       "      <td>0000037996-19-000071</td>\n",
       "      <td>37996</td>\n",
       "      <td>FORD MOTOR CO</td>\n",
       "      <td>3711</td>\n",
       "      <td>US</td>\n",
       "      <td>MI</td>\n",
       "      <td>DEARBORN</td>\n",
       "      <td>48126</td>\n",
       "      <td>ONE AMERICAN ROAD</td>\n",
       "      <td>NaN</td>\n",
       "      <td>...</td>\n",
       "      <td>2019-09-30</td>\n",
       "      <td>NaN</td>\n",
       "      <td>NaN</td>\n",
       "      <td>20191001</td>\n",
       "      <td>2019-10-01 07:05:00.0</td>\n",
       "      <td>1</td>\n",
       "      <td>0</td>\n",
       "      <td>a8-kdated9x30x2019_htm.xml</td>\n",
       "      <td>1</td>\n",
       "      <td>NaN</td>\n",
       "    </tr>\n",
       "    <tr>\n",
       "      <th>4</th>\n",
       "      <td>0000063754-19-000166</td>\n",
       "      <td>63754</td>\n",
       "      <td>MCCORMICK &amp; CO INC</td>\n",
       "      <td>2090</td>\n",
       "      <td>US</td>\n",
       "      <td>MD</td>\n",
       "      <td>HUNT VALLEY</td>\n",
       "      <td>21031</td>\n",
       "      <td>24 SCHILLING ROAD</td>\n",
       "      <td>SUITE 1</td>\n",
       "      <td>...</td>\n",
       "      <td>2019-09-30</td>\n",
       "      <td>NaN</td>\n",
       "      <td>NaN</td>\n",
       "      <td>20191001</td>\n",
       "      <td>2019-10-01 07:22:00.0</td>\n",
       "      <td>0</td>\n",
       "      <td>0</td>\n",
       "      <td>mkc-8xkx08x31x2019_htm.xml</td>\n",
       "      <td>1</td>\n",
       "      <td>NaN</td>\n",
       "    </tr>\n",
       "  </tbody>\n",
       "</table>\n",
       "<p>5 rows × 36 columns</p>\n",
       "</div>"
      ],
      "text/plain": [
       "                   adsh    cik                 name   sic countryba stprba  \\\n",
       "0  0000018498-19-000043  18498          GENESCO INC  5661        US     TN   \n",
       "1  0000032604-19-000040  32604  EMERSON ELECTRIC CO  3600        US     MO   \n",
       "2  0000034088-19-000051  34088     EXXON MOBIL CORP  2911        US     TX   \n",
       "3  0000037996-19-000071  37996        FORD MOTOR CO  3711        US     MI   \n",
       "4  0000063754-19-000166  63754   MCCORMICK & CO INC  2090        US     MD   \n",
       "\n",
       "        cityba       zipba                             bas1          bas2  \\\n",
       "0    NASHVILLE       37217  GENESCO PK 1415 MURFREESBORO RD           NaN   \n",
       "1     ST LOUIS       63136            8000 W FLORISSANT AVE  P O BOX 4100   \n",
       "2       IRVING  75039-2298            5959 LAS COLINAS BLVD           NaN   \n",
       "3     DEARBORN       48126                ONE AMERICAN ROAD           NaN   \n",
       "4  HUNT VALLEY       21031                24 SCHILLING ROAD       SUITE 1   \n",
       "\n",
       "   ...     period   fy   fp     filed               accepted prevrpt detail  \\\n",
       "0  ... 2019-09-30  NaN  NaN  20191001  2019-10-01 16:24:00.0       0      0   \n",
       "1  ... 2019-09-30  NaN  NaN  20191001  2019-10-01 06:58:00.0       0      0   \n",
       "2  ... 2019-09-30  NaN  NaN  20191001  2019-10-01 17:16:00.0       0      0   \n",
       "3  ... 2019-09-30  NaN  NaN  20191001  2019-10-01 07:05:00.0       1      0   \n",
       "4  ... 2019-09-30  NaN  NaN  20191001  2019-10-01 07:22:00.0       0      0   \n",
       "\n",
       "                         instance nciks aciks  \n",
       "0    a8-krepurchase100119_htm.xml     1   NaN  \n",
       "1  form8-kreviewannouncem_htm.xml     1   NaN  \n",
       "2               r8k100119_htm.xml     1   NaN  \n",
       "3      a8-kdated9x30x2019_htm.xml     1   NaN  \n",
       "4      mkc-8xkx08x31x2019_htm.xml     1   NaN  \n",
       "\n",
       "[5 rows x 36 columns]"
      ]
     },
     "execution_count": 10,
     "metadata": {},
     "output_type": "execute_result"
    }
   ],
   "source": [
    "SUB_q4.head()"
   ]
  },
  {
   "cell_type": "code",
   "execution_count": 11,
   "id": "bronze-harbor",
   "metadata": {},
   "outputs": [
    {
     "data": {
      "text/plain": [
       "array(['8-K', '10-Q', '10-Q/A', '10-K', '20-F', 'S-1', '10-K/A', 'S-1/A',\n",
       "       '8-K/A', '6-K', 'S-4', 'S-4/A', '6-K/A', 'POS AM', 'F-1', '40-F/A',\n",
       "       '20-F/A', '10-KT', '40-F', 'S-11/A', '8-K12B'], dtype=object)"
      ]
     },
     "execution_count": 11,
     "metadata": {},
     "output_type": "execute_result"
    }
   ],
   "source": [
    "# check forms included in this file\n",
    "# only keep the 10-K and 10-K/A\n",
    "\n",
    "SUB_q4.form.unique()"
   ]
  },
  {
   "cell_type": "code",
   "execution_count": 12,
   "id": "answering-delivery",
   "metadata": {},
   "outputs": [
    {
     "data": {
      "text/plain": [
       "array(['US', 'CA', 'CN', 'BM', 'GB', 'IL', 'BE', 'MO', 'KY', 'SK', 'AU',\n",
       "       'IE', 'ZA', 'GR', 'SG', 'BR', 'NL', 'CH', 'JP', 'EC', 'PH', 'MY',\n",
       "       'HK', 'TW', 'CY', 'GE', 'RS', 'CZ', 'UA', 'DE', 'PR', 'LU', 'BG',\n",
       "       nan, 'FR', 'AR', 'JE', 'TH', 'SE', 'VI', 'VG', 'MD', 'CO', 'GU',\n",
       "       'ID', 'PT', 'BS', 'AE', 'EE', 'DK', 'MX', 'AI', 'MC', 'MT', 'KR',\n",
       "       'KH', 'TR', 'IN', 'IT', 'KG', 'DO'], dtype=object)"
      ]
     },
     "execution_count": 12,
     "metadata": {},
     "output_type": "execute_result"
    }
   ],
   "source": [
    "# check all US located companies\n",
    "# will drop non-US companies\n",
    "\n",
    "SUB_q4.countryba.unique()"
   ]
  },
  {
   "cell_type": "code",
   "execution_count": 13,
   "id": "blocked-worship",
   "metadata": {},
   "outputs": [
    {
     "data": {
      "text/plain": [
       "Index(['adsh', 'cik', 'name', 'sic', 'countryba', 'stprba', 'cityba', 'zipba',\n",
       "       'bas1', 'bas2', 'baph', 'countryma', 'stprma', 'cityma', 'zipma',\n",
       "       'mas1', 'mas2', 'countryinc', 'stprinc', 'ein', 'former', 'changed',\n",
       "       'afs', 'wksi', 'fye', 'form', 'period', 'fy', 'fp', 'filed', 'accepted',\n",
       "       'prevrpt', 'detail', 'instance', 'nciks', 'aciks'],\n",
       "      dtype='object')"
      ]
     },
     "execution_count": 13,
     "metadata": {},
     "output_type": "execute_result"
    }
   ],
   "source": [
    "SUB_q4.columns"
   ]
  },
  {
   "cell_type": "code",
   "execution_count": 14,
   "id": "aggregate-spring",
   "metadata": {},
   "outputs": [
    {
     "name": "stdout",
     "output_type": "stream",
     "text": [
      "<class 'pandas.core.frame.DataFrame'>\n",
      "RangeIndex: 12664 entries, 0 to 12663\n",
      "Data columns (total 36 columns):\n",
      " #   Column      Non-Null Count  Dtype         \n",
      "---  ------      --------------  -----         \n",
      " 0   adsh        12664 non-null  object        \n",
      " 1   cik         12664 non-null  object        \n",
      " 2   name        12664 non-null  object        \n",
      " 3   sic         12662 non-null  object        \n",
      " 4   countryba   12649 non-null  object        \n",
      " 5   stprba      11842 non-null  object        \n",
      " 6   cityba      12649 non-null  object        \n",
      " 7   zipba       12642 non-null  object        \n",
      " 8   bas1        12649 non-null  object        \n",
      " 9   bas2        5093 non-null   object        \n",
      " 10  baph        12652 non-null  object        \n",
      " 11  countryma   12604 non-null  object        \n",
      " 12  stprma      11847 non-null  object        \n",
      " 13  cityma      12604 non-null  object        \n",
      " 14  zipma       12593 non-null  object        \n",
      " 15  mas1        12600 non-null  object        \n",
      " 16  mas2        5018 non-null   object        \n",
      " 17  countryinc  11531 non-null  object        \n",
      " 18  stprinc     11027 non-null  object        \n",
      " 19  ein         12663 non-null  object        \n",
      " 20  former      7344 non-null   object        \n",
      " 21  changed     7344 non-null   float64       \n",
      " 22  afs         12638 non-null  object        \n",
      " 23  wksi        12664 non-null  int64         \n",
      " 24  fye         12636 non-null  float64       \n",
      " 25  form        12664 non-null  object        \n",
      " 26  period      12664 non-null  datetime64[ns]\n",
      " 27  fy          6140 non-null   object        \n",
      " 28  fp          6128 non-null   object        \n",
      " 29  filed       12664 non-null  int64         \n",
      " 30  accepted    12664 non-null  object        \n",
      " 31  prevrpt     12664 non-null  int64         \n",
      " 32  detail      12664 non-null  int64         \n",
      " 33  instance    12664 non-null  object        \n",
      " 34  nciks       12664 non-null  int64         \n",
      " 35  aciks       375 non-null    object        \n",
      "dtypes: datetime64[ns](1), float64(2), int64(5), object(28)\n",
      "memory usage: 3.5+ MB\n"
     ]
    }
   ],
   "source": [
    "SUB_q4.info()"
   ]
  },
  {
   "cell_type": "code",
   "execution_count": 15,
   "id": "improved-dallas",
   "metadata": {},
   "outputs": [],
   "source": [
    "# Will merge NUM and SUB files and then filter like how GCP queries were filtered\n",
    "# per details from SEC of how to merge these datasets on adsh\n",
    "\n",
    "all_q4 = pd.merge(NUM_q4, SUB_q4, how='left', on=['adsh'])"
   ]
  },
  {
   "cell_type": "code",
   "execution_count": 16,
   "id": "missing-generic",
   "metadata": {},
   "outputs": [
    {
     "data": {
      "text/plain": [
       "(2402955, 44)"
      ]
     },
     "execution_count": 16,
     "metadata": {},
     "output_type": "execute_result"
    }
   ],
   "source": [
    "all_q4.shape"
   ]
  },
  {
   "cell_type": "code",
   "execution_count": null,
   "id": "outdoor-bernard",
   "metadata": {},
   "outputs": [],
   "source": [
    "#all_q4.head()"
   ]
  },
  {
   "cell_type": "code",
   "execution_count": null,
   "id": "charming-flour",
   "metadata": {},
   "outputs": [],
   "source": [
    "#all_q4.tail()"
   ]
  },
  {
   "cell_type": "code",
   "execution_count": 17,
   "id": "affected-lighting",
   "metadata": {},
   "outputs": [],
   "source": [
    "# pickle out wide q4_2019 submissions\n",
    "\n",
    "import pickle\n",
    "\n",
    "with open('Q4_2019.pickle', 'wb') as to_write:\n",
    "    pickle.dump(all_q4, to_write)"
   ]
  },
  {
   "cell_type": "code",
   "execution_count": null,
   "id": "critical-knock",
   "metadata": {},
   "outputs": [],
   "source": []
  }
 ],
 "metadata": {
  "kernelspec": {
   "display_name": "Python [conda env:metis] *",
   "language": "python",
   "name": "conda-env-metis-py"
  },
  "language_info": {
   "codemirror_mode": {
    "name": "ipython",
    "version": 3
   },
   "file_extension": ".py",
   "mimetype": "text/x-python",
   "name": "python",
   "nbconvert_exporter": "python",
   "pygments_lexer": "ipython3",
   "version": "3.8.6"
  }
 },
 "nbformat": 4,
 "nbformat_minor": 5
}
