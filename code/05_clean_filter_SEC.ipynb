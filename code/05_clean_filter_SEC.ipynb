{
 "cells": [
  {
   "cell_type": "code",
   "execution_count": null,
   "id": "legislative-windows",
   "metadata": {},
   "outputs": [],
   "source": [
    "\"\"\"\n",
    "prepare training/validation set with data between 1/1/2014 - 12/31/2018\n",
    "\n",
    "filter SEC data to companies with assets > $100MM\n",
    "as initial target list is bankruptcies for large public \n",
    "companies with over this amount of assets\n",
    "\n",
    "examine amount of missing data points in SEC data\n",
    "\n",
    "pickle filtered df\n",
    "\n",
    "\"\"\""
   ]
  },
  {
   "cell_type": "code",
   "execution_count": 1,
   "id": "romance-serbia",
   "metadata": {},
   "outputs": [],
   "source": [
    "import psycopg2 as pg\n",
    "import pandas as pd\n",
    "import pandas.io.sql as pd_sql\n",
    "import numpy as np\n",
    "import datetime"
   ]
  },
  {
   "cell_type": "code",
   "execution_count": 2,
   "id": "consistent-volunteer",
   "metadata": {},
   "outputs": [],
   "source": [
    "from pandasql import sqldf\n",
    "# PandaSQL needs to be able to reference the global variables already defined (namely, `df`)\n",
    "pysqldf = lambda q: sqldf(q, globals())"
   ]
  },
  {
   "cell_type": "code",
   "execution_count": 3,
   "id": "passive-journalism",
   "metadata": {},
   "outputs": [],
   "source": [
    "# Postgres info to connect\n",
    "\n",
    "connection_args = {\n",
    "    'host': 'localhost',  \n",
    "    'dbname': 'bankruptcy',  \n",
    "    'port': 5432          \n",
    "}\n",
    "\n",
    "connection = pg.connect(**connection_args)\n",
    "connection.autocommit = True   \n",
    "                              "
   ]
  },
  {
   "cell_type": "code",
   "execution_count": 4,
   "id": "entertaining-olympus",
   "metadata": {},
   "outputs": [
    {
     "data": {
      "text/html": [
       "<div>\n",
       "<style scoped>\n",
       "    .dataframe tbody tr th:only-of-type {\n",
       "        vertical-align: middle;\n",
       "    }\n",
       "\n",
       "    .dataframe tbody tr th {\n",
       "        vertical-align: top;\n",
       "    }\n",
       "\n",
       "    .dataframe thead th {\n",
       "        text-align: right;\n",
       "    }\n",
       "</style>\n",
       "<table border=\"1\" class=\"dataframe\">\n",
       "  <thead>\n",
       "    <tr style=\"text-align: right;\">\n",
       "      <th></th>\n",
       "      <th>company_name</th>\n",
       "      <th>period_end_date</th>\n",
       "      <th>submission_number</th>\n",
       "      <th>central_index_key</th>\n",
       "      <th>ein</th>\n",
       "      <th>sic</th>\n",
       "      <th>fiscal_year_end</th>\n",
       "      <th>fiscal_year</th>\n",
       "      <th>form</th>\n",
       "      <th>date_filed</th>\n",
       "      <th>...</th>\n",
       "      <th>OperatingIncomeLoss</th>\n",
       "      <th>ProfitLoss</th>\n",
       "      <th>RepaymentsOfLongTermDebt</th>\n",
       "      <th>Revenues</th>\n",
       "      <th>SalesRevenueNet</th>\n",
       "      <th>StockholdersEquity</th>\n",
       "      <th>TotalAsset</th>\n",
       "      <th>Industry</th>\n",
       "      <th>div_code</th>\n",
       "      <th>Division</th>\n",
       "    </tr>\n",
       "  </thead>\n",
       "  <tbody>\n",
       "    <tr>\n",
       "      <th>0</th>\n",
       "      <td>'MKTG, INC.'</td>\n",
       "      <td>2014-03-31 00:00:00.000000</td>\n",
       "      <td>0001019056-14-000881</td>\n",
       "      <td>886475</td>\n",
       "      <td>061340408</td>\n",
       "      <td>7310</td>\n",
       "      <td>331</td>\n",
       "      <td>2013</td>\n",
       "      <td>10-K</td>\n",
       "      <td>2014-06-27 00:00:00.000000</td>\n",
       "      <td>...</td>\n",
       "      <td>2830011.0</td>\n",
       "      <td>2293272.0</td>\n",
       "      <td>NaN</td>\n",
       "      <td>NaN</td>\n",
       "      <td>NaN</td>\n",
       "      <td>12190322.0</td>\n",
       "      <td>NaN</td>\n",
       "      <td>Services-Advertising</td>\n",
       "      <td>73</td>\n",
       "      <td>Services</td>\n",
       "    </tr>\n",
       "    <tr>\n",
       "      <th>1</th>\n",
       "      <td>024 PHARMA, INC.</td>\n",
       "      <td>2015-12-31 00:00:00.000000</td>\n",
       "      <td>0001683168-17-000653</td>\n",
       "      <td>1307969</td>\n",
       "      <td>201862731</td>\n",
       "      <td>3089</td>\n",
       "      <td>1231</td>\n",
       "      <td>2016</td>\n",
       "      <td>10-K</td>\n",
       "      <td>2017-03-24 00:00:00.000000</td>\n",
       "      <td>...</td>\n",
       "      <td>NaN</td>\n",
       "      <td>NaN</td>\n",
       "      <td>NaN</td>\n",
       "      <td>NaN</td>\n",
       "      <td>NaN</td>\n",
       "      <td>137994.0</td>\n",
       "      <td>NaN</td>\n",
       "      <td>Plastics Products, NEC</td>\n",
       "      <td>30</td>\n",
       "      <td>Manufacturing</td>\n",
       "    </tr>\n",
       "    <tr>\n",
       "      <th>2</th>\n",
       "      <td>024 PHARMA, INC.</td>\n",
       "      <td>2016-12-31 00:00:00.000000</td>\n",
       "      <td>0001683168-17-000653</td>\n",
       "      <td>1307969</td>\n",
       "      <td>201862731</td>\n",
       "      <td>3089</td>\n",
       "      <td>1231</td>\n",
       "      <td>2016</td>\n",
       "      <td>10-K</td>\n",
       "      <td>2017-03-24 00:00:00.000000</td>\n",
       "      <td>...</td>\n",
       "      <td>NaN</td>\n",
       "      <td>NaN</td>\n",
       "      <td>NaN</td>\n",
       "      <td>1079541.0</td>\n",
       "      <td>NaN</td>\n",
       "      <td>759035.0</td>\n",
       "      <td>NaN</td>\n",
       "      <td>Plastics Products, NEC</td>\n",
       "      <td>30</td>\n",
       "      <td>Manufacturing</td>\n",
       "    </tr>\n",
       "    <tr>\n",
       "      <th>3</th>\n",
       "      <td>1 800 FLOWERS COM INC</td>\n",
       "      <td>2014-06-30 00:00:00.000000</td>\n",
       "      <td>0001437749-14-016921</td>\n",
       "      <td>1084869</td>\n",
       "      <td>113117311</td>\n",
       "      <td>5990</td>\n",
       "      <td>630</td>\n",
       "      <td>2014</td>\n",
       "      <td>10-K</td>\n",
       "      <td>2014-09-12 00:00:00.000000</td>\n",
       "      <td>...</td>\n",
       "      <td>23706000.0</td>\n",
       "      <td>14675000.0</td>\n",
       "      <td>NaN</td>\n",
       "      <td>NaN</td>\n",
       "      <td>756345000.0</td>\n",
       "      <td>183199000.0</td>\n",
       "      <td>NaN</td>\n",
       "      <td>Retail-Retail Stores, NEC</td>\n",
       "      <td>59</td>\n",
       "      <td>Retail Trade</td>\n",
       "    </tr>\n",
       "    <tr>\n",
       "      <th>4</th>\n",
       "      <td>1 800 FLOWERS COM INC</td>\n",
       "      <td>2014-06-30 00:00:00.000000</td>\n",
       "      <td>0001437749-15-017184</td>\n",
       "      <td>1084869</td>\n",
       "      <td>113117311</td>\n",
       "      <td>5990</td>\n",
       "      <td>630</td>\n",
       "      <td>2015</td>\n",
       "      <td>10-K</td>\n",
       "      <td>2015-09-11 00:00:00.000000</td>\n",
       "      <td>...</td>\n",
       "      <td>23706000.0</td>\n",
       "      <td>14675000.0</td>\n",
       "      <td>NaN</td>\n",
       "      <td>NaN</td>\n",
       "      <td>756345000.0</td>\n",
       "      <td>183228000.0</td>\n",
       "      <td>NaN</td>\n",
       "      <td>Retail-Retail Stores, NEC</td>\n",
       "      <td>59</td>\n",
       "      <td>Retail Trade</td>\n",
       "    </tr>\n",
       "  </tbody>\n",
       "</table>\n",
       "<p>5 rows × 47 columns</p>\n",
       "</div>"
      ],
      "text/plain": [
       "            company_name             period_end_date     submission_number  \\\n",
       "0           'MKTG, INC.'  2014-03-31 00:00:00.000000  0001019056-14-000881   \n",
       "1       024 PHARMA, INC.  2015-12-31 00:00:00.000000  0001683168-17-000653   \n",
       "2       024 PHARMA, INC.  2016-12-31 00:00:00.000000  0001683168-17-000653   \n",
       "3  1 800 FLOWERS COM INC  2014-06-30 00:00:00.000000  0001437749-14-016921   \n",
       "4  1 800 FLOWERS COM INC  2014-06-30 00:00:00.000000  0001437749-15-017184   \n",
       "\n",
       "  central_index_key        ein   sic  fiscal_year_end  fiscal_year  form  \\\n",
       "0            886475  061340408  7310              331         2013  10-K   \n",
       "1           1307969  201862731  3089             1231         2016  10-K   \n",
       "2           1307969  201862731  3089             1231         2016  10-K   \n",
       "3           1084869  113117311  5990              630         2014  10-K   \n",
       "4           1084869  113117311  5990              630         2015  10-K   \n",
       "\n",
       "                   date_filed  ...  OperatingIncomeLoss  ProfitLoss  \\\n",
       "0  2014-06-27 00:00:00.000000  ...            2830011.0   2293272.0   \n",
       "1  2017-03-24 00:00:00.000000  ...                  NaN         NaN   \n",
       "2  2017-03-24 00:00:00.000000  ...                  NaN         NaN   \n",
       "3  2014-09-12 00:00:00.000000  ...           23706000.0  14675000.0   \n",
       "4  2015-09-11 00:00:00.000000  ...           23706000.0  14675000.0   \n",
       "\n",
       "   RepaymentsOfLongTermDebt   Revenues  SalesRevenueNet  StockholdersEquity  \\\n",
       "0                       NaN        NaN              NaN          12190322.0   \n",
       "1                       NaN        NaN              NaN            137994.0   \n",
       "2                       NaN  1079541.0              NaN            759035.0   \n",
       "3                       NaN        NaN      756345000.0         183199000.0   \n",
       "4                       NaN        NaN      756345000.0         183228000.0   \n",
       "\n",
       "   TotalAsset                   Industry  div_code       Division  \n",
       "0         NaN       Services-Advertising        73       Services  \n",
       "1         NaN     Plastics Products, NEC        30  Manufacturing  \n",
       "2         NaN     Plastics Products, NEC        30  Manufacturing  \n",
       "3         NaN  Retail-Retail Stores, NEC        59   Retail Trade  \n",
       "4         NaN  Retail-Retail Stores, NEC        59   Retail Trade  \n",
       "\n",
       "[5 rows x 47 columns]"
      ]
     },
     "execution_count": 4,
     "metadata": {},
     "output_type": "execute_result"
    }
   ],
   "source": [
    "# few fields for first initial model\n",
    "# all 2019 data held out for test set\n",
    "\n",
    "query = \"\"\"\n",
    "SELECT *\n",
    "FROM sec_wide_all\n",
    "WHERE  period_end_date < '2019-01-01' \n",
    ";\n",
    "\"\"\"\n",
    "\n",
    "sec_data = pd_sql.read_sql(query, connection)\n",
    "sec_data.head()\n"
   ]
  },
  {
   "cell_type": "code",
   "execution_count": 5,
   "id": "forbidden-failing",
   "metadata": {},
   "outputs": [
    {
     "data": {
      "text/plain": [
       "Index(['company_name', 'period_end_date', 'submission_number',\n",
       "       'central_index_key', 'ein', 'sic', 'fiscal_year_end', 'fiscal_year',\n",
       "       'form', 'date_filed', 'Assets', 'AssetsCurrent',\n",
       "       'CashAndCashEquivalentsAtCarryingValue',\n",
       "       'CashAndCashEquivalentsPeriodIncreaseDecrease', 'CommonStockValue',\n",
       "       'CostsAndExpenses', 'CurrentAsset', 'DeferredIncomeTaxExpenseBenefit',\n",
       "       'DeferredIncomeTaxLiabilities', 'DeferredIncomeTaxLiabilitiesNet',\n",
       "       'DeferredIncomeTaxesAndTaxCredits', 'Depreciation',\n",
       "       'EarningsPerShareBasic', 'EarningsPerShareDiluted', 'GrossProfit',\n",
       "       'Liabilities', 'LiabilitiesAndStockholdersEquity', 'LiabilitiesCurrent',\n",
       "       'LongTermDebt', 'LongTermDebtCurrent',\n",
       "       'LongTermDebtMaturitiesRepaymentsOfPrincipalInNextTwelveMonths',\n",
       "       'LongTermDebtNoncurrent', 'NetCashProvidedByUsedInFinancingActivities',\n",
       "       'NetCashProvidedByUsedInInvestingActivities',\n",
       "       'NetCashProvidedByUsedInOperatingActivities', 'NetIncomeLoss',\n",
       "       'OperatingExpenses', 'OperatingIncomeLoss', 'ProfitLoss',\n",
       "       'RepaymentsOfLongTermDebt', 'Revenues', 'SalesRevenueNet',\n",
       "       'StockholdersEquity', 'TotalAsset', 'Industry', 'div_code', 'Division'],\n",
       "      dtype='object')"
      ]
     },
     "execution_count": 5,
     "metadata": {},
     "output_type": "execute_result"
    }
   ],
   "source": [
    "sec_data.columns"
   ]
  },
  {
   "cell_type": "code",
   "execution_count": 6,
   "id": "hairy-pharmacy",
   "metadata": {},
   "outputs": [
    {
     "name": "stdout",
     "output_type": "stream",
     "text": [
      "<class 'pandas.core.frame.DataFrame'>\n",
      "RangeIndex: 173062 entries, 0 to 173061\n",
      "Data columns (total 47 columns):\n",
      " #   Column                                                         Non-Null Count   Dtype  \n",
      "---  ------                                                         --------------   -----  \n",
      " 0   company_name                                                   173062 non-null  object \n",
      " 1   period_end_date                                                173062 non-null  object \n",
      " 2   submission_number                                              173062 non-null  object \n",
      " 3   central_index_key                                              173062 non-null  object \n",
      " 4   ein                                                            173062 non-null  object \n",
      " 5   sic                                                            173062 non-null  object \n",
      " 6   fiscal_year_end                                                173062 non-null  int64  \n",
      " 7   fiscal_year                                                    173062 non-null  int64  \n",
      " 8   form                                                           173062 non-null  object \n",
      " 9   date_filed                                                     173062 non-null  object \n",
      " 10  Assets                                                         60326 non-null   float64\n",
      " 11  AssetsCurrent                                                  45081 non-null   float64\n",
      " 12  CashAndCashEquivalentsAtCarryingValue                          71473 non-null   float64\n",
      " 13  CashAndCashEquivalentsPeriodIncreaseDecrease                   53781 non-null   float64\n",
      " 14  CommonStockValue                                               47936 non-null   float64\n",
      " 15  CostsAndExpenses                                               18865 non-null   float64\n",
      " 16  CurrentAsset                                                   2 non-null       float64\n",
      " 17  DeferredIncomeTaxExpenseBenefit                                42191 non-null   float64\n",
      " 18  DeferredIncomeTaxLiabilities                                   23273 non-null   float64\n",
      " 19  DeferredIncomeTaxLiabilitiesNet                                3553 non-null    float64\n",
      " 20  DeferredIncomeTaxesAndTaxCredits                               6856 non-null    float64\n",
      " 21  Depreciation                                                   37466 non-null   float64\n",
      " 22  EarningsPerShareBasic                                          100720 non-null  float64\n",
      " 23  EarningsPerShareDiluted                                        99961 non-null   float64\n",
      " 24  GrossProfit                                                    63262 non-null   float64\n",
      " 25  Liabilities                                                    45844 non-null   float64\n",
      " 26  LiabilitiesAndStockholdersEquity                               57769 non-null   float64\n",
      " 27  LiabilitiesCurrent                                             45099 non-null   float64\n",
      " 28  LongTermDebt                                                   16987 non-null   float64\n",
      " 29  LongTermDebtCurrent                                            13041 non-null   float64\n",
      " 30  LongTermDebtMaturitiesRepaymentsOfPrincipalInNextTwelveMonths  9351 non-null    float64\n",
      " 31  LongTermDebtNoncurrent                                         16135 non-null   float64\n",
      " 32  NetCashProvidedByUsedInFinancingActivities                     47641 non-null   float64\n",
      " 33  NetCashProvidedByUsedInInvestingActivities                     43813 non-null   float64\n",
      " 34  NetCashProvidedByUsedInOperatingActivities                     48686 non-null   float64\n",
      " 35  NetIncomeLoss                                                  137143 non-null  float64\n",
      " 36  OperatingExpenses                                              44769 non-null   float64\n",
      " 37  OperatingIncomeLoss                                            93392 non-null   float64\n",
      " 38  ProfitLoss                                                     47578 non-null   float64\n",
      " 39  RepaymentsOfLongTermDebt                                       18036 non-null   float64\n",
      " 40  Revenues                                                       66338 non-null   float64\n",
      " 41  SalesRevenueNet                                                37841 non-null   float64\n",
      " 42  StockholdersEquity                                             69791 non-null   float64\n",
      " 43  TotalAsset                                                     7 non-null       float64\n",
      " 44  Industry                                                       173062 non-null  object \n",
      " 45  div_code                                                       173062 non-null  object \n",
      " 46  Division                                                       173062 non-null  object \n",
      "dtypes: float64(34), int64(2), object(11)\n",
      "memory usage: 62.1+ MB\n"
     ]
    }
   ],
   "source": [
    "sec_data.info()"
   ]
  },
  {
   "cell_type": "code",
   "execution_count": 24,
   "id": "recent-departure",
   "metadata": {},
   "outputs": [
    {
     "data": {
      "text/plain": [
       "array(['024 PHARMA, INC.', '1 800 FLOWERS COM INC', '12 RETECH CORP', ...,\n",
       "       'ZYNEX INC', 'ZYNGA INC', 'ZZLL INFORMATION TECHNOLOGY, INC'],\n",
       "      dtype=object)"
      ]
     },
     "execution_count": 24,
     "metadata": {},
     "output_type": "execute_result"
    }
   ],
   "source": [
    "# look at companies who don't have \"Assets\" filled in, determine if company using another field\n",
    "sec_data[sec_data['Assets'].isna()].company_name.unique()\n"
   ]
  },
  {
   "cell_type": "code",
   "execution_count": 21,
   "id": "noble-object",
   "metadata": {},
   "outputs": [],
   "source": [
    "examine_one = sec_data[sec_data['company_name']=='ZYNGA INC'].sort_values(by='period_end_date')\n",
    "examine_one.to_excel('examine_one_co.xlsx', index=False)\n",
    "\n",
    "# ZYNGA keeps re-submitting the annual report for a previous end_date.  Not different data, \n",
    "# just less data than originally submitted"
   ]
  },
  {
   "cell_type": "code",
   "execution_count": 23,
   "id": "premium-allen",
   "metadata": {},
   "outputs": [],
   "source": [
    "# will examine another company\n",
    "examine_two = sec_data[sec_data['company_name']=='ZZLL INFORMATION TECHNOLOGY, INC'].sort_values(by='period_end_date')\n",
    "examine_two.to_excel('examine_two_co.xlsx', index=False)\n",
    "\n",
    "## ZZLL submitted updated information\n"
   ]
  },
  {
   "cell_type": "code",
   "execution_count": 25,
   "id": "finite-extraction",
   "metadata": {},
   "outputs": [],
   "source": [
    "# 12 RETECH CORP\n",
    "\n",
    "examine_3 = sec_data[sec_data['company_name']=='12 RETECH CORP'].sort_values(by='period_end_date')\n",
    "examine_3.to_excel('examine_3_co.xlsx', index=False)\n",
    "\n",
    "# resubmitting prior period_end the following year but not submitting new informaton.\n"
   ]
  },
  {
   "cell_type": "code",
   "execution_count": 40,
   "id": "aquatic-france",
   "metadata": {},
   "outputs": [],
   "source": [
    "#############"
   ]
  },
  {
   "cell_type": "code",
   "execution_count": null,
   "id": "fresh-software",
   "metadata": {},
   "outputs": [],
   "source": [
    "# Filter SEC data to be the companies with over 100MM in assets\n",
    "# as bankruptcy list is companies who had over this amount"
   ]
  },
  {
   "cell_type": "code",
   "execution_count": 32,
   "id": "prospective-producer",
   "metadata": {},
   "outputs": [],
   "source": [
    "\n",
    "query= \"\"\"\n",
    "SELECT  company_name, period_end_date, date_filed, Assets, AssetsCurrent, Liabilities, LiabilitiesCurrent,\n",
    "    NetIncomeLoss, LiabilitiesAndStockholdersEquity, StockholdersEquity, OperatingIncomeLoss, Revenues, \n",
    "    EarningsPerShareBasic, EarningsPerShareDiluted, Division\n",
    "FROM sec_data\n",
    "WHERE Assets > 100000000\n",
    ";\n",
    "\"\"\"\n",
    "\n",
    "over_100MM = pysqldf(query)\n"
   ]
  },
  {
   "cell_type": "code",
   "execution_count": 33,
   "id": "sufficient-third",
   "metadata": {},
   "outputs": [
    {
     "data": {
      "text/plain": [
       "(37265, 15)"
      ]
     },
     "execution_count": 33,
     "metadata": {},
     "output_type": "execute_result"
    }
   ],
   "source": [
    "over_100MM.shape"
   ]
  },
  {
   "cell_type": "code",
   "execution_count": 34,
   "id": "impossible-harbor",
   "metadata": {},
   "outputs": [
    {
     "name": "stdout",
     "output_type": "stream",
     "text": [
      "<class 'pandas.core.frame.DataFrame'>\n",
      "RangeIndex: 37265 entries, 0 to 37264\n",
      "Data columns (total 15 columns):\n",
      " #   Column                            Non-Null Count  Dtype  \n",
      "---  ------                            --------------  -----  \n",
      " 0   company_name                      37265 non-null  object \n",
      " 1   period_end_date                   37265 non-null  object \n",
      " 2   date_filed                        37265 non-null  object \n",
      " 3   Assets                            37265 non-null  float64\n",
      " 4   AssetsCurrent                     24474 non-null  float64\n",
      " 5   Liabilities                       27473 non-null  float64\n",
      " 6   LiabilitiesCurrent                24444 non-null  float64\n",
      " 7   NetIncomeLoss                     33473 non-null  float64\n",
      " 8   LiabilitiesAndStockholdersEquity  34558 non-null  float64\n",
      " 9   StockholdersEquity                32473 non-null  float64\n",
      " 10  OperatingIncomeLoss               27249 non-null  float64\n",
      " 11  Revenues                          16673 non-null  float64\n",
      " 12  EarningsPerShareBasic             28690 non-null  float64\n",
      " 13  EarningsPerShareDiluted           28276 non-null  float64\n",
      " 14  Division                          37265 non-null  object \n",
      "dtypes: float64(11), object(4)\n",
      "memory usage: 4.3+ MB\n"
     ]
    }
   ],
   "source": [
    "over_100MM.info()"
   ]
  },
  {
   "cell_type": "code",
   "execution_count": 35,
   "id": "turkish-lexington",
   "metadata": {},
   "outputs": [
    {
     "data": {
      "text/html": [
       "<div>\n",
       "<style scoped>\n",
       "    .dataframe tbody tr th:only-of-type {\n",
       "        vertical-align: middle;\n",
       "    }\n",
       "\n",
       "    .dataframe tbody tr th {\n",
       "        vertical-align: top;\n",
       "    }\n",
       "\n",
       "    .dataframe thead th {\n",
       "        text-align: right;\n",
       "    }\n",
       "</style>\n",
       "<table border=\"1\" class=\"dataframe\">\n",
       "  <thead>\n",
       "    <tr style=\"text-align: right;\">\n",
       "      <th></th>\n",
       "      <th>company_name</th>\n",
       "      <th>period_end_date</th>\n",
       "      <th>date_filed</th>\n",
       "      <th>Assets</th>\n",
       "      <th>AssetsCurrent</th>\n",
       "      <th>Liabilities</th>\n",
       "      <th>LiabilitiesCurrent</th>\n",
       "      <th>NetIncomeLoss</th>\n",
       "      <th>LiabilitiesAndStockholdersEquity</th>\n",
       "      <th>StockholdersEquity</th>\n",
       "      <th>OperatingIncomeLoss</th>\n",
       "      <th>Revenues</th>\n",
       "      <th>EarningsPerShareBasic</th>\n",
       "      <th>EarningsPerShareDiluted</th>\n",
       "      <th>Division</th>\n",
       "      <th>value_count</th>\n",
       "    </tr>\n",
       "  </thead>\n",
       "  <tbody>\n",
       "    <tr>\n",
       "      <th>0</th>\n",
       "      <td>1 800 FLOWERS COM INC</td>\n",
       "      <td>2014-06-30 00:00:00.000000</td>\n",
       "      <td>2014-09-12 00:00:00.000000</td>\n",
       "      <td>267569000.0</td>\n",
       "      <td>91818000.0</td>\n",
       "      <td>81451000.0</td>\n",
       "      <td>74307000.0</td>\n",
       "      <td>NaN</td>\n",
       "      <td>267569000.0</td>\n",
       "      <td>183199000.0</td>\n",
       "      <td>23706000.0</td>\n",
       "      <td>NaN</td>\n",
       "      <td>0.24</td>\n",
       "      <td>0.23</td>\n",
       "      <td>Retail Trade</td>\n",
       "      <td>13</td>\n",
       "    </tr>\n",
       "    <tr>\n",
       "      <th>1</th>\n",
       "      <td>1 800 FLOWERS COM INC</td>\n",
       "      <td>2014-06-30 00:00:00.000000</td>\n",
       "      <td>2015-09-11 00:00:00.000000</td>\n",
       "      <td>267569000.0</td>\n",
       "      <td>91818000.0</td>\n",
       "      <td>81451000.0</td>\n",
       "      <td>74307000.0</td>\n",
       "      <td>NaN</td>\n",
       "      <td>267569000.0</td>\n",
       "      <td>183228000.0</td>\n",
       "      <td>23706000.0</td>\n",
       "      <td>NaN</td>\n",
       "      <td>0.24</td>\n",
       "      <td>0.23</td>\n",
       "      <td>Retail Trade</td>\n",
       "      <td>13</td>\n",
       "    </tr>\n",
       "    <tr>\n",
       "      <th>2</th>\n",
       "      <td>1 800 FLOWERS COM INC</td>\n",
       "      <td>2015-06-30 00:00:00.000000</td>\n",
       "      <td>2015-09-11 00:00:00.000000</td>\n",
       "      <td>501946000.0</td>\n",
       "      <td>159968000.0</td>\n",
       "      <td>291690000.0</td>\n",
       "      <td>123607000.0</td>\n",
       "      <td>NaN</td>\n",
       "      <td>501946000.0</td>\n",
       "      <td>208449000.0</td>\n",
       "      <td>37617000.0</td>\n",
       "      <td>NaN</td>\n",
       "      <td>0.31</td>\n",
       "      <td>0.30</td>\n",
       "      <td>Retail Trade</td>\n",
       "      <td>13</td>\n",
       "    </tr>\n",
       "    <tr>\n",
       "      <th>3</th>\n",
       "      <td>1 800 FLOWERS COM INC</td>\n",
       "      <td>2015-06-30 00:00:00.000000</td>\n",
       "      <td>2016-09-16 00:00:00.000000</td>\n",
       "      <td>497073000.0</td>\n",
       "      <td>155095000.0</td>\n",
       "      <td>286817000.0</td>\n",
       "      <td>123607000.0</td>\n",
       "      <td>NaN</td>\n",
       "      <td>497073000.0</td>\n",
       "      <td>208449000.0</td>\n",
       "      <td>37617000.0</td>\n",
       "      <td>NaN</td>\n",
       "      <td>0.31</td>\n",
       "      <td>0.30</td>\n",
       "      <td>Retail Trade</td>\n",
       "      <td>13</td>\n",
       "    </tr>\n",
       "    <tr>\n",
       "      <th>4</th>\n",
       "      <td>1 800 FLOWERS COM INC</td>\n",
       "      <td>2016-06-30 00:00:00.000000</td>\n",
       "      <td>2016-09-16 00:00:00.000000</td>\n",
       "      <td>506514000.0</td>\n",
       "      <td>166659000.0</td>\n",
       "      <td>263928000.0</td>\n",
       "      <td>120861000.0</td>\n",
       "      <td>NaN</td>\n",
       "      <td>506514000.0</td>\n",
       "      <td>242586000.0</td>\n",
       "      <td>43282000.0</td>\n",
       "      <td>NaN</td>\n",
       "      <td>0.57</td>\n",
       "      <td>0.55</td>\n",
       "      <td>Retail Trade</td>\n",
       "      <td>13</td>\n",
       "    </tr>\n",
       "  </tbody>\n",
       "</table>\n",
       "</div>"
      ],
      "text/plain": [
       "            company_name             period_end_date  \\\n",
       "0  1 800 FLOWERS COM INC  2014-06-30 00:00:00.000000   \n",
       "1  1 800 FLOWERS COM INC  2014-06-30 00:00:00.000000   \n",
       "2  1 800 FLOWERS COM INC  2015-06-30 00:00:00.000000   \n",
       "3  1 800 FLOWERS COM INC  2015-06-30 00:00:00.000000   \n",
       "4  1 800 FLOWERS COM INC  2016-06-30 00:00:00.000000   \n",
       "\n",
       "                   date_filed       Assets  AssetsCurrent  Liabilities  \\\n",
       "0  2014-09-12 00:00:00.000000  267569000.0     91818000.0   81451000.0   \n",
       "1  2015-09-11 00:00:00.000000  267569000.0     91818000.0   81451000.0   \n",
       "2  2015-09-11 00:00:00.000000  501946000.0    159968000.0  291690000.0   \n",
       "3  2016-09-16 00:00:00.000000  497073000.0    155095000.0  286817000.0   \n",
       "4  2016-09-16 00:00:00.000000  506514000.0    166659000.0  263928000.0   \n",
       "\n",
       "   LiabilitiesCurrent  NetIncomeLoss  LiabilitiesAndStockholdersEquity  \\\n",
       "0          74307000.0            NaN                       267569000.0   \n",
       "1          74307000.0            NaN                       267569000.0   \n",
       "2         123607000.0            NaN                       501946000.0   \n",
       "3         123607000.0            NaN                       497073000.0   \n",
       "4         120861000.0            NaN                       506514000.0   \n",
       "\n",
       "   StockholdersEquity  OperatingIncomeLoss  Revenues  EarningsPerShareBasic  \\\n",
       "0         183199000.0           23706000.0       NaN                   0.24   \n",
       "1         183228000.0           23706000.0       NaN                   0.24   \n",
       "2         208449000.0           37617000.0       NaN                   0.31   \n",
       "3         208449000.0           37617000.0       NaN                   0.31   \n",
       "4         242586000.0           43282000.0       NaN                   0.57   \n",
       "\n",
       "   EarningsPerShareDiluted      Division  value_count  \n",
       "0                     0.23  Retail Trade           13  \n",
       "1                     0.23  Retail Trade           13  \n",
       "2                     0.30  Retail Trade           13  \n",
       "3                     0.30  Retail Trade           13  \n",
       "4                     0.55  Retail Trade           13  "
      ]
     },
     "execution_count": 35,
     "metadata": {},
     "output_type": "execute_result"
    }
   ],
   "source": [
    "# create new field that counts how many of the following fields are not null\n",
    "\n",
    "over_100MM['value_count'] = over_100MM.apply(lambda x: x.count(), axis=1)\n",
    "over_100MM.head()"
   ]
  },
  {
   "cell_type": "code",
   "execution_count": 41,
   "id": "sacred-claim",
   "metadata": {},
   "outputs": [
    {
     "data": {
      "text/plain": [
       "(37265, 16)"
      ]
     },
     "execution_count": 41,
     "metadata": {},
     "output_type": "execute_result"
    }
   ],
   "source": [
    "over_100MM.shape"
   ]
  },
  {
   "cell_type": "code",
   "execution_count": 42,
   "id": "acknowledged-intro",
   "metadata": {},
   "outputs": [
    {
     "data": {
      "text/plain": [
       "5376"
      ]
     },
     "execution_count": 42,
     "metadata": {},
     "output_type": "execute_result"
    }
   ],
   "source": [
    "over_100MM.company_name.nunique()"
   ]
  },
  {
   "cell_type": "code",
   "execution_count": 43,
   "id": "alike-toolbox",
   "metadata": {},
   "outputs": [
    {
     "data": {
      "text/plain": [
       "60"
      ]
     },
     "execution_count": 43,
     "metadata": {},
     "output_type": "execute_result"
    }
   ],
   "source": [
    "over_100MM.period_end_date.nunique()"
   ]
  },
  {
   "cell_type": "code",
   "execution_count": 38,
   "id": "pressed-supply",
   "metadata": {},
   "outputs": [
    {
     "data": {
      "text/html": [
       "<div>\n",
       "<style scoped>\n",
       "    .dataframe tbody tr th:only-of-type {\n",
       "        vertical-align: middle;\n",
       "    }\n",
       "\n",
       "    .dataframe tbody tr th {\n",
       "        vertical-align: top;\n",
       "    }\n",
       "\n",
       "    .dataframe thead th {\n",
       "        text-align: right;\n",
       "    }\n",
       "</style>\n",
       "<table border=\"1\" class=\"dataframe\">\n",
       "  <thead>\n",
       "    <tr style=\"text-align: right;\">\n",
       "      <th></th>\n",
       "      <th>company_name</th>\n",
       "      <th>period_end_date</th>\n",
       "      <th>date_filed</th>\n",
       "      <th>Assets</th>\n",
       "      <th>AssetsCurrent</th>\n",
       "      <th>Liabilities</th>\n",
       "      <th>LiabilitiesCurrent</th>\n",
       "      <th>NetIncomeLoss</th>\n",
       "      <th>LiabilitiesAndStockholdersEquity</th>\n",
       "      <th>StockholdersEquity</th>\n",
       "      <th>OperatingIncomeLoss</th>\n",
       "      <th>Revenues</th>\n",
       "      <th>EarningsPerShareBasic</th>\n",
       "      <th>EarningsPerShareDiluted</th>\n",
       "      <th>Division</th>\n",
       "      <th>value_count</th>\n",
       "    </tr>\n",
       "  </thead>\n",
       "  <tbody>\n",
       "    <tr>\n",
       "      <th>0</th>\n",
       "      <td>1 800 FLOWERS COM INC</td>\n",
       "      <td>2014-06-30 00:00:00.000000</td>\n",
       "      <td>2014-09-12 00:00:00.000000</td>\n",
       "      <td>267569000.0</td>\n",
       "      <td>91818000.0</td>\n",
       "      <td>81451000.0</td>\n",
       "      <td>74307000.0</td>\n",
       "      <td>NaN</td>\n",
       "      <td>267569000.0</td>\n",
       "      <td>183199000.0</td>\n",
       "      <td>23706000.0</td>\n",
       "      <td>NaN</td>\n",
       "      <td>0.24</td>\n",
       "      <td>0.23</td>\n",
       "      <td>Retail Trade</td>\n",
       "      <td>13</td>\n",
       "    </tr>\n",
       "    <tr>\n",
       "      <th>1</th>\n",
       "      <td>1 800 FLOWERS COM INC</td>\n",
       "      <td>2014-06-30 00:00:00.000000</td>\n",
       "      <td>2015-09-11 00:00:00.000000</td>\n",
       "      <td>267569000.0</td>\n",
       "      <td>91818000.0</td>\n",
       "      <td>81451000.0</td>\n",
       "      <td>74307000.0</td>\n",
       "      <td>NaN</td>\n",
       "      <td>267569000.0</td>\n",
       "      <td>183228000.0</td>\n",
       "      <td>23706000.0</td>\n",
       "      <td>NaN</td>\n",
       "      <td>0.24</td>\n",
       "      <td>0.23</td>\n",
       "      <td>Retail Trade</td>\n",
       "      <td>13</td>\n",
       "    </tr>\n",
       "  </tbody>\n",
       "</table>\n",
       "</div>"
      ],
      "text/plain": [
       "            company_name             period_end_date  \\\n",
       "0  1 800 FLOWERS COM INC  2014-06-30 00:00:00.000000   \n",
       "1  1 800 FLOWERS COM INC  2014-06-30 00:00:00.000000   \n",
       "\n",
       "                   date_filed       Assets  AssetsCurrent  Liabilities  \\\n",
       "0  2014-09-12 00:00:00.000000  267569000.0     91818000.0   81451000.0   \n",
       "1  2015-09-11 00:00:00.000000  267569000.0     91818000.0   81451000.0   \n",
       "\n",
       "   LiabilitiesCurrent  NetIncomeLoss  LiabilitiesAndStockholdersEquity  \\\n",
       "0          74307000.0            NaN                       267569000.0   \n",
       "1          74307000.0            NaN                       267569000.0   \n",
       "\n",
       "   StockholdersEquity  OperatingIncomeLoss  Revenues  EarningsPerShareBasic  \\\n",
       "0         183199000.0           23706000.0       NaN                   0.24   \n",
       "1         183228000.0           23706000.0       NaN                   0.24   \n",
       "\n",
       "   EarningsPerShareDiluted      Division  value_count  \n",
       "0                     0.23  Retail Trade           13  \n",
       "1                     0.23  Retail Trade           13  "
      ]
     },
     "execution_count": 38,
     "metadata": {},
     "output_type": "execute_result"
    }
   ],
   "source": [
    "# for each company and period_end_date -- sort df by non_null_count, and then sort by date_filed the SEC 10-K form\n",
    "\n",
    "# if same value count for later submitted report - keep the later submitted report\n",
    "\n",
    "over_100MM.sort_values(by=['company_name', 'period_end_date', 'value_count', 'date_filed'], inplace=True)\n",
    "over_100MM.head(2)"
   ]
  },
  {
   "cell_type": "code",
   "execution_count": 44,
   "id": "adjacent-revision",
   "metadata": {},
   "outputs": [],
   "source": [
    "# keep one row for each company and period_end_date\n",
    "# with way data sorted, keep the last row in company name , period end date grouping\n",
    "\n",
    "filtered_over100MM  = over_100MM.groupby(['company_name', 'period_end_date']).tail(1)"
   ]
  },
  {
   "cell_type": "code",
   "execution_count": 45,
   "id": "expired-spiritual",
   "metadata": {},
   "outputs": [
    {
     "data": {
      "text/plain": [
       "(20479, 16)"
      ]
     },
     "execution_count": 45,
     "metadata": {},
     "output_type": "execute_result"
    }
   ],
   "source": [
    "filtered_over100MM.shape"
   ]
  },
  {
   "cell_type": "code",
   "execution_count": 46,
   "id": "internal-christopher",
   "metadata": {},
   "outputs": [
    {
     "data": {
      "text/plain": [
       "5376"
      ]
     },
     "execution_count": 46,
     "metadata": {},
     "output_type": "execute_result"
    }
   ],
   "source": [
    "filtered_over100MM.company_name.nunique()"
   ]
  },
  {
   "cell_type": "code",
   "execution_count": 47,
   "id": "veterinary-certificate",
   "metadata": {},
   "outputs": [
    {
     "data": {
      "text/plain": [
       "60"
      ]
     },
     "execution_count": 47,
     "metadata": {},
     "output_type": "execute_result"
    }
   ],
   "source": [
    "filtered_over100MM.period_end_date.nunique()"
   ]
  },
  {
   "cell_type": "code",
   "execution_count": 48,
   "id": "prompt-longitude",
   "metadata": {},
   "outputs": [
    {
     "name": "stdout",
     "output_type": "stream",
     "text": [
      "<class 'pandas.core.frame.DataFrame'>\n",
      "Int64Index: 20479 entries, 1 to 37262\n",
      "Data columns (total 16 columns):\n",
      " #   Column                            Non-Null Count  Dtype  \n",
      "---  ------                            --------------  -----  \n",
      " 0   company_name                      20479 non-null  object \n",
      " 1   period_end_date                   20479 non-null  object \n",
      " 2   date_filed                        20479 non-null  object \n",
      " 3   Assets                            20479 non-null  float64\n",
      " 4   AssetsCurrent                     14205 non-null  float64\n",
      " 5   Liabilities                       16163 non-null  float64\n",
      " 6   LiabilitiesCurrent                14194 non-null  float64\n",
      " 7   NetIncomeLoss                     18571 non-null  float64\n",
      " 8   LiabilitiesAndStockholdersEquity  20136 non-null  float64\n",
      " 9   StockholdersEquity                18504 non-null  float64\n",
      " 10  OperatingIncomeLoss               14959 non-null  float64\n",
      " 11  Revenues                          9686 non-null   float64\n",
      " 12  EarningsPerShareBasic             15680 non-null  float64\n",
      " 13  EarningsPerShareDiluted           15427 non-null  float64\n",
      " 14  Division                          20479 non-null  object \n",
      " 15  value_count                       20479 non-null  int64  \n",
      "dtypes: float64(11), int64(1), object(4)\n",
      "memory usage: 2.7+ MB\n"
     ]
    }
   ],
   "source": [
    "filtered_over100MM.info()"
   ]
  },
  {
   "cell_type": "code",
   "execution_count": 51,
   "id": "aquatic-canvas",
   "metadata": {},
   "outputs": [],
   "source": [
    "# pickle the filtered df\n",
    "import pickle\n",
    "\n",
    "with open('SEC_filtered_over100MM.pickle', 'wb') as to_write:\n",
    "    pickle.dump(filtered_over100MM, to_write)"
   ]
  },
  {
   "cell_type": "code",
   "execution_count": null,
   "id": "olympic-miller",
   "metadata": {},
   "outputs": [],
   "source": []
  },
  {
   "cell_type": "code",
   "execution_count": null,
   "id": "friendly-barbados",
   "metadata": {},
   "outputs": [],
   "source": []
  }
 ],
 "metadata": {
  "kernelspec": {
   "display_name": "Python 3",
   "language": "python",
   "name": "python3"
  },
  "language_info": {
   "codemirror_mode": {
    "name": "ipython",
    "version": 3
   },
   "file_extension": ".py",
   "mimetype": "text/x-python",
   "name": "python",
   "nbconvert_exporter": "python",
   "pygments_lexer": "ipython3",
   "version": "3.8.6"
  }
 },
 "nbformat": 4,
 "nbformat_minor": 5
}
