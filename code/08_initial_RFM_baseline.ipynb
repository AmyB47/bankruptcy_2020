{
 "cells": [
  {
   "cell_type": "code",
   "execution_count": null,
   "id": "legislative-windows",
   "metadata": {},
   "outputs": [],
   "source": [
    "\"\"\"\n",
    "Run initial Random Forest model with a couple features\n",
    "\n",
    "\"\"\""
   ]
  },
  {
   "cell_type": "code",
   "execution_count": 53,
   "id": "romance-serbia",
   "metadata": {},
   "outputs": [],
   "source": [
    "import pandas as pd\n",
    "import numpy as np\n",
    "import datetime\n",
    "import pickle"
   ]
  },
  {
   "cell_type": "code",
   "execution_count": 54,
   "id": "fifth-lebanon",
   "metadata": {},
   "outputs": [],
   "source": [
    "from sklearn.model_selection import train_test_split\n",
    "from sklearn.ensemble import RandomForestClassifier\n",
    "from sklearn.metrics import confusion_matrix\n",
    "from sklearn.metrics import precision_score, recall_score, precision_recall_curve,f1_score, fbeta_score "
   ]
  },
  {
   "cell_type": "code",
   "execution_count": 55,
   "id": "textile-arthur",
   "metadata": {},
   "outputs": [],
   "source": [
    "import matplotlib.pyplot as plt\n",
    "import seaborn as sns"
   ]
  },
  {
   "cell_type": "code",
   "execution_count": 56,
   "id": "supreme-fleet",
   "metadata": {},
   "outputs": [
    {
     "data": {
      "text/html": [
       "<div>\n",
       "<style scoped>\n",
       "    .dataframe tbody tr th:only-of-type {\n",
       "        vertical-align: middle;\n",
       "    }\n",
       "\n",
       "    .dataframe tbody tr th {\n",
       "        vertical-align: top;\n",
       "    }\n",
       "\n",
       "    .dataframe thead th {\n",
       "        text-align: right;\n",
       "    }\n",
       "</style>\n",
       "<table border=\"1\" class=\"dataframe\">\n",
       "  <thead>\n",
       "    <tr style=\"text-align: right;\">\n",
       "      <th></th>\n",
       "      <th>company_name</th>\n",
       "      <th>period_end_date</th>\n",
       "      <th>date_bankruptcy</th>\n",
       "      <th>days</th>\n",
       "      <th>Assets</th>\n",
       "      <th>AssetsCurrent</th>\n",
       "      <th>Liabilities</th>\n",
       "      <th>LiabilitiesCurrent</th>\n",
       "      <th>NetIncomeLoss</th>\n",
       "      <th>LiabilitiesAndStockholdersEquity</th>\n",
       "      <th>StockholdersEquity</th>\n",
       "      <th>OperatingIncomeLoss</th>\n",
       "      <th>Revenues</th>\n",
       "      <th>EarningsPerShareBasic</th>\n",
       "      <th>EarningsPerShareDiluted</th>\n",
       "      <th>Division</th>\n",
       "      <th>target</th>\n",
       "    </tr>\n",
       "  </thead>\n",
       "  <tbody>\n",
       "    <tr>\n",
       "      <th>0</th>\n",
       "      <td>1 800 FLOWERS COM INC</td>\n",
       "      <td>2014-06-30</td>\n",
       "      <td>NaT</td>\n",
       "      <td>NaN</td>\n",
       "      <td>267569000.0</td>\n",
       "      <td>91818000.0</td>\n",
       "      <td>81451000.0</td>\n",
       "      <td>74307000.0</td>\n",
       "      <td>NaN</td>\n",
       "      <td>267569000.0</td>\n",
       "      <td>183228000.0</td>\n",
       "      <td>23706000.0</td>\n",
       "      <td>NaN</td>\n",
       "      <td>0.24</td>\n",
       "      <td>0.23</td>\n",
       "      <td>Retail Trade</td>\n",
       "      <td>0</td>\n",
       "    </tr>\n",
       "    <tr>\n",
       "      <th>1</th>\n",
       "      <td>1 800 FLOWERS COM INC</td>\n",
       "      <td>2015-06-30</td>\n",
       "      <td>NaT</td>\n",
       "      <td>NaN</td>\n",
       "      <td>497073000.0</td>\n",
       "      <td>155095000.0</td>\n",
       "      <td>286817000.0</td>\n",
       "      <td>123607000.0</td>\n",
       "      <td>NaN</td>\n",
       "      <td>497073000.0</td>\n",
       "      <td>208449000.0</td>\n",
       "      <td>37617000.0</td>\n",
       "      <td>NaN</td>\n",
       "      <td>0.31</td>\n",
       "      <td>0.30</td>\n",
       "      <td>Retail Trade</td>\n",
       "      <td>0</td>\n",
       "    </tr>\n",
       "    <tr>\n",
       "      <th>2</th>\n",
       "      <td>1 800 FLOWERS COM INC</td>\n",
       "      <td>2016-06-30</td>\n",
       "      <td>NaT</td>\n",
       "      <td>NaN</td>\n",
       "      <td>506514000.0</td>\n",
       "      <td>166659000.0</td>\n",
       "      <td>263928000.0</td>\n",
       "      <td>120861000.0</td>\n",
       "      <td>NaN</td>\n",
       "      <td>506514000.0</td>\n",
       "      <td>242586000.0</td>\n",
       "      <td>43282000.0</td>\n",
       "      <td>NaN</td>\n",
       "      <td>0.57</td>\n",
       "      <td>0.55</td>\n",
       "      <td>Retail Trade</td>\n",
       "      <td>0</td>\n",
       "    </tr>\n",
       "    <tr>\n",
       "      <th>3</th>\n",
       "      <td>1 800 FLOWERS COM INC</td>\n",
       "      <td>2017-06-30</td>\n",
       "      <td>NaT</td>\n",
       "      <td>NaN</td>\n",
       "      <td>552470000.0</td>\n",
       "      <td>257402000.0</td>\n",
       "      <td>270231000.0</td>\n",
       "      <td>125175000.0</td>\n",
       "      <td>NaN</td>\n",
       "      <td>552470000.0</td>\n",
       "      <td>NaN</td>\n",
       "      <td>46359000.0</td>\n",
       "      <td>1.193625e+09</td>\n",
       "      <td>0.68</td>\n",
       "      <td>0.65</td>\n",
       "      <td>Retail Trade</td>\n",
       "      <td>0</td>\n",
       "    </tr>\n",
       "    <tr>\n",
       "      <th>4</th>\n",
       "      <td>1 800 FLOWERS COM INC</td>\n",
       "      <td>2018-06-30</td>\n",
       "      <td>NaT</td>\n",
       "      <td>NaN</td>\n",
       "      <td>570889000.0</td>\n",
       "      <td>273021000.0</td>\n",
       "      <td>255985000.0</td>\n",
       "      <td>124799000.0</td>\n",
       "      <td>40791000.0</td>\n",
       "      <td>570889000.0</td>\n",
       "      <td>314904000.0</td>\n",
       "      <td>41048000.0</td>\n",
       "      <td>NaN</td>\n",
       "      <td>0.63</td>\n",
       "      <td>0.61</td>\n",
       "      <td>Retail Trade</td>\n",
       "      <td>0</td>\n",
       "    </tr>\n",
       "  </tbody>\n",
       "</table>\n",
       "</div>"
      ],
      "text/plain": [
       "            company_name period_end_date date_bankruptcy  days       Assets  \\\n",
       "0  1 800 FLOWERS COM INC      2014-06-30             NaT   NaN  267569000.0   \n",
       "1  1 800 FLOWERS COM INC      2015-06-30             NaT   NaN  497073000.0   \n",
       "2  1 800 FLOWERS COM INC      2016-06-30             NaT   NaN  506514000.0   \n",
       "3  1 800 FLOWERS COM INC      2017-06-30             NaT   NaN  552470000.0   \n",
       "4  1 800 FLOWERS COM INC      2018-06-30             NaT   NaN  570889000.0   \n",
       "\n",
       "   AssetsCurrent  Liabilities  LiabilitiesCurrent  NetIncomeLoss  \\\n",
       "0     91818000.0   81451000.0          74307000.0            NaN   \n",
       "1    155095000.0  286817000.0         123607000.0            NaN   \n",
       "2    166659000.0  263928000.0         120861000.0            NaN   \n",
       "3    257402000.0  270231000.0         125175000.0            NaN   \n",
       "4    273021000.0  255985000.0         124799000.0     40791000.0   \n",
       "\n",
       "   LiabilitiesAndStockholdersEquity  StockholdersEquity  OperatingIncomeLoss  \\\n",
       "0                       267569000.0         183228000.0           23706000.0   \n",
       "1                       497073000.0         208449000.0           37617000.0   \n",
       "2                       506514000.0         242586000.0           43282000.0   \n",
       "3                       552470000.0                 NaN           46359000.0   \n",
       "4                       570889000.0         314904000.0           41048000.0   \n",
       "\n",
       "       Revenues  EarningsPerShareBasic  EarningsPerShareDiluted      Division  \\\n",
       "0           NaN                   0.24                     0.23  Retail Trade   \n",
       "1           NaN                   0.31                     0.30  Retail Trade   \n",
       "2           NaN                   0.57                     0.55  Retail Trade   \n",
       "3  1.193625e+09                   0.68                     0.65  Retail Trade   \n",
       "4           NaN                   0.63                     0.61  Retail Trade   \n",
       "\n",
       "   target  \n",
       "0       0  \n",
       "1       0  \n",
       "2       0  \n",
       "3       0  \n",
       "4       0  "
      ]
     },
     "execution_count": 56,
     "metadata": {},
     "output_type": "execute_result"
    }
   ],
   "source": [
    "# the df with features and target\n",
    "\n",
    "with open('model_data.pickle', 'rb') as read_file:\n",
    "    model_data = pickle.load(read_file)\n",
    "    \n",
    "model_data.head()"
   ]
  },
  {
   "cell_type": "code",
   "execution_count": 57,
   "id": "golden-document",
   "metadata": {},
   "outputs": [
    {
     "data": {
      "text/html": [
       "<div>\n",
       "<style scoped>\n",
       "    .dataframe tbody tr th:only-of-type {\n",
       "        vertical-align: middle;\n",
       "    }\n",
       "\n",
       "    .dataframe tbody tr th {\n",
       "        vertical-align: top;\n",
       "    }\n",
       "\n",
       "    .dataframe thead th {\n",
       "        text-align: right;\n",
       "    }\n",
       "</style>\n",
       "<table border=\"1\" class=\"dataframe\">\n",
       "  <thead>\n",
       "    <tr style=\"text-align: right;\">\n",
       "      <th></th>\n",
       "      <th>Assets</th>\n",
       "      <th>Liabilities</th>\n",
       "      <th>target</th>\n",
       "    </tr>\n",
       "  </thead>\n",
       "  <tbody>\n",
       "    <tr>\n",
       "      <th>0</th>\n",
       "      <td>267569000.0</td>\n",
       "      <td>81451000.0</td>\n",
       "      <td>0</td>\n",
       "    </tr>\n",
       "    <tr>\n",
       "      <th>1</th>\n",
       "      <td>497073000.0</td>\n",
       "      <td>286817000.0</td>\n",
       "      <td>0</td>\n",
       "    </tr>\n",
       "  </tbody>\n",
       "</table>\n",
       "</div>"
      ],
      "text/plain": [
       "        Assets  Liabilities  target\n",
       "0  267569000.0   81451000.0       0\n",
       "1  497073000.0  286817000.0       0"
      ]
     },
     "execution_count": 57,
     "metadata": {},
     "output_type": "execute_result"
    }
   ],
   "source": [
    "## RF will not accept NaNs\n",
    "## drop NANs for intial baseline model with only a couple numeric features\n",
    "\n",
    "model_subset = model_data[['Assets', 'Liabilities', 'target']]\n",
    "model_subset.head(2)"
   ]
  },
  {
   "cell_type": "code",
   "execution_count": 58,
   "id": "extended-combination",
   "metadata": {},
   "outputs": [
    {
     "data": {
      "text/plain": [
       "(20493, 3)"
      ]
     },
     "execution_count": 58,
     "metadata": {},
     "output_type": "execute_result"
    }
   ],
   "source": [
    "model_subset.shape"
   ]
  },
  {
   "cell_type": "code",
   "execution_count": 59,
   "id": "extended-opportunity",
   "metadata": {},
   "outputs": [],
   "source": [
    "model_ready = model_subset.dropna()"
   ]
  },
  {
   "cell_type": "code",
   "execution_count": 60,
   "id": "fifteen-assault",
   "metadata": {},
   "outputs": [
    {
     "data": {
      "text/plain": [
       "(16170, 3)"
      ]
     },
     "execution_count": 60,
     "metadata": {},
     "output_type": "execute_result"
    }
   ],
   "source": [
    "model_ready.shape"
   ]
  },
  {
   "cell_type": "code",
   "execution_count": 61,
   "id": "grave-reach",
   "metadata": {},
   "outputs": [
    {
     "name": "stderr",
     "output_type": "stream",
     "text": [
      "<ipython-input-61-b75c6baf067d>:3: SettingWithCopyWarning: \n",
      "A value is trying to be set on a copy of a slice from a DataFrame.\n",
      "Try using .loc[row_indexer,col_indexer] = value instead\n",
      "\n",
      "See the caveats in the documentation: https://pandas.pydata.org/pandas-docs/stable/user_guide/indexing.html#returning-a-view-versus-a-copy\n",
      "  model_ready['Assets_MM'] = model_ready['Assets'] / 1e6\n",
      "<ipython-input-61-b75c6baf067d>:4: SettingWithCopyWarning: \n",
      "A value is trying to be set on a copy of a slice from a DataFrame.\n",
      "Try using .loc[row_indexer,col_indexer] = value instead\n",
      "\n",
      "See the caveats in the documentation: https://pandas.pydata.org/pandas-docs/stable/user_guide/indexing.html#returning-a-view-versus-a-copy\n",
      "  model_ready['Libilities_MM'] = model_ready['Liabilities'] / 1e6\n"
     ]
    }
   ],
   "source": [
    "# RFM will not process with large numbers\n",
    "# put assets and liabilities in millions\n",
    "model_ready['Assets_MM'] = model_ready['Assets'] / 1e6\n",
    "model_ready['Libilities_MM'] = model_ready['Liabilities'] / 1e6"
   ]
  },
  {
   "cell_type": "code",
   "execution_count": 62,
   "id": "departmental-skiing",
   "metadata": {},
   "outputs": [
    {
     "data": {
      "text/html": [
       "<div>\n",
       "<style scoped>\n",
       "    .dataframe tbody tr th:only-of-type {\n",
       "        vertical-align: middle;\n",
       "    }\n",
       "\n",
       "    .dataframe tbody tr th {\n",
       "        vertical-align: top;\n",
       "    }\n",
       "\n",
       "    .dataframe thead th {\n",
       "        text-align: right;\n",
       "    }\n",
       "</style>\n",
       "<table border=\"1\" class=\"dataframe\">\n",
       "  <thead>\n",
       "    <tr style=\"text-align: right;\">\n",
       "      <th></th>\n",
       "      <th>Assets</th>\n",
       "      <th>Liabilities</th>\n",
       "      <th>target</th>\n",
       "      <th>Assets_MM</th>\n",
       "      <th>Libilities_MM</th>\n",
       "    </tr>\n",
       "  </thead>\n",
       "  <tbody>\n",
       "    <tr>\n",
       "      <th>0</th>\n",
       "      <td>267569000.0</td>\n",
       "      <td>81451000.0</td>\n",
       "      <td>0</td>\n",
       "      <td>267.569</td>\n",
       "      <td>81.451</td>\n",
       "    </tr>\n",
       "    <tr>\n",
       "      <th>1</th>\n",
       "      <td>497073000.0</td>\n",
       "      <td>286817000.0</td>\n",
       "      <td>0</td>\n",
       "      <td>497.073</td>\n",
       "      <td>286.817</td>\n",
       "    </tr>\n",
       "    <tr>\n",
       "      <th>2</th>\n",
       "      <td>506514000.0</td>\n",
       "      <td>263928000.0</td>\n",
       "      <td>0</td>\n",
       "      <td>506.514</td>\n",
       "      <td>263.928</td>\n",
       "    </tr>\n",
       "    <tr>\n",
       "      <th>3</th>\n",
       "      <td>552470000.0</td>\n",
       "      <td>270231000.0</td>\n",
       "      <td>0</td>\n",
       "      <td>552.470</td>\n",
       "      <td>270.231</td>\n",
       "    </tr>\n",
       "    <tr>\n",
       "      <th>4</th>\n",
       "      <td>570889000.0</td>\n",
       "      <td>255985000.0</td>\n",
       "      <td>0</td>\n",
       "      <td>570.889</td>\n",
       "      <td>255.985</td>\n",
       "    </tr>\n",
       "  </tbody>\n",
       "</table>\n",
       "</div>"
      ],
      "text/plain": [
       "        Assets  Liabilities  target  Assets_MM  Libilities_MM\n",
       "0  267569000.0   81451000.0       0    267.569         81.451\n",
       "1  497073000.0  286817000.0       0    497.073        286.817\n",
       "2  506514000.0  263928000.0       0    506.514        263.928\n",
       "3  552470000.0  270231000.0       0    552.470        270.231\n",
       "4  570889000.0  255985000.0       0    570.889        255.985"
      ]
     },
     "execution_count": 62,
     "metadata": {},
     "output_type": "execute_result"
    }
   ],
   "source": [
    "model_ready.head()\n"
   ]
  },
  {
   "cell_type": "code",
   "execution_count": 63,
   "id": "allied-robert",
   "metadata": {},
   "outputs": [
    {
     "name": "stderr",
     "output_type": "stream",
     "text": [
      "<ipython-input-63-8a291e6b7bea>:1: SettingWithCopyWarning: \n",
      "A value is trying to be set on a copy of a slice from a DataFrame\n",
      "\n",
      "See the caveats in the documentation: https://pandas.pydata.org/pandas-docs/stable/user_guide/indexing.html#returning-a-view-versus-a-copy\n",
      "  model_ready.dropna(inplace=True)\n"
     ]
    }
   ],
   "source": [
    "model_ready.dropna(inplace=True)\n"
   ]
  },
  {
   "cell_type": "code",
   "execution_count": 64,
   "id": "developmental-mileage",
   "metadata": {},
   "outputs": [],
   "source": [
    "X = model_ready[['Assets_MM', 'Libilities_MM']]\n",
    "\n",
    "y = model_ready['target']"
   ]
  },
  {
   "cell_type": "code",
   "execution_count": 65,
   "id": "champion-insulin",
   "metadata": {},
   "outputs": [],
   "source": [
    "xtrain, xval, ytrain, yval = train_test_split(X, y, test_size=0.3, random_state=42)\n"
   ]
  },
  {
   "cell_type": "code",
   "execution_count": 66,
   "id": "blank-johnston",
   "metadata": {},
   "outputs": [
    {
     "data": {
      "text/plain": [
       "RandomForestClassifier()"
      ]
     },
     "execution_count": 66,
     "metadata": {},
     "output_type": "execute_result"
    }
   ],
   "source": [
    "randomforest = RandomForestClassifier(n_estimators=100)\n",
    "randomforest.fit(xtrain, ytrain)\n"
   ]
  },
  {
   "cell_type": "code",
   "execution_count": 67,
   "id": "conditional-valentine",
   "metadata": {},
   "outputs": [
    {
     "data": {
      "text/plain": [
       "0.9971139971139971"
      ]
     },
     "execution_count": 67,
     "metadata": {},
     "output_type": "execute_result"
    }
   ],
   "source": [
    "randomforest.score(xval, yval)"
   ]
  },
  {
   "cell_type": "code",
   "execution_count": null,
   "id": "reported-blogger",
   "metadata": {},
   "outputs": [],
   "source": [
    "# with True Positives so low, will not be looking at model accuracy\n",
    "# a dummy classifier would have high accuracy"
   ]
  },
  {
   "cell_type": "code",
   "execution_count": 68,
   "id": "wound-montana",
   "metadata": {},
   "outputs": [],
   "source": [
    "# Print confusion matrix for inital Random Forest model\n",
    "rf_confusion = confusion_matrix(yval, randomforest.predict(xval))\n"
   ]
  },
  {
   "cell_type": "code",
   "execution_count": 69,
   "id": "broad-croatia",
   "metadata": {},
   "outputs": [
    {
     "data": {
      "text/plain": [
       "array([[4837,    1],\n",
       "       [  13,    0]])"
      ]
     },
     "execution_count": 69,
     "metadata": {},
     "output_type": "execute_result"
    }
   ],
   "source": [
    "rf_confusion"
   ]
  },
  {
   "cell_type": "code",
   "execution_count": 70,
   "id": "french-porcelain",
   "metadata": {},
   "outputs": [
    {
     "data": {
      "image/png": "[encoded data removed]",
      "text/plain": [
       "<Figure size 900x600 with 2 Axes>"
      ]
     },
     "metadata": {
      "needs_background": "light"
     },
     "output_type": "display_data"
    }
   ],
   "source": [
    "plt.figure(dpi=150)\n",
    "sns.heatmap(rf_confusion, cmap=plt.cm.Blues, annot=True, square=True, fmt=\"d\",\n",
    "           xticklabels=['No', 'Yes'],\n",
    "           yticklabels=['No', 'Yes'])\n",
    "\n",
    "plt.xlabel('Predicted Bankruptcy')\n",
    "plt.ylabel('Actual Bankruptcy')\n",
    "plt.title('Random Forest Confusion Matrix');"
   ]
  },
  {
   "cell_type": "code",
   "execution_count": null,
   "id": "friendly-barbados",
   "metadata": {},
   "outputs": [],
   "source": []
  }
 ],
 "metadata": {
  "kernelspec": {
   "display_name": "Python 3",
   "language": "python",
   "name": "python3"
  },
  "language_info": {
   "codemirror_mode": {
    "name": "ipython",
    "version": 3
   },
   "file_extension": ".py",
   "mimetype": "text/x-python",
   "name": "python",
   "nbconvert_exporter": "python",
   "pygments_lexer": "ipython3",
   "version": "3.8.6"
  }
 },
 "nbformat": 4,
 "nbformat_minor": 5
}
