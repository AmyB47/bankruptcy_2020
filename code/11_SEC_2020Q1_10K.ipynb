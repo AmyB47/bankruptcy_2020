{
 "cells": [
  {
   "cell_type": "code",
   "execution_count": null,
   "id": "complex-supply",
   "metadata": {},
   "outputs": [],
   "source": [
    "\"\"\"\n",
    "Annual 10-K filing for Q4 2019 are not in the Google Cloud Platform database\n",
    "\n",
    "Text files of data available by quarter from SEC website\n",
    "\n",
    "Many companies sent 2019 reports in Q1 2020 \n",
    "\n",
    "prepare Q1 2020 data and extract the 2019 period_end_date reports\n",
    "\"\"\""
   ]
  },
  {
   "cell_type": "code",
   "execution_count": 1,
   "id": "literary-clinton",
   "metadata": {},
   "outputs": [],
   "source": [
    "import pandas as pd\n",
    "import numpy as np\n",
    "import datetime as dt"
   ]
  },
  {
   "cell_type": "code",
   "execution_count": 2,
   "id": "modern-basketball",
   "metadata": {},
   "outputs": [],
   "source": [
    "import pandas.io.sql as pd_sql\n",
    "\n",
    "from pandasql import sqldf\n",
    "# PandaSQL needs to be able to reference the global variables already defined\n",
    "pysqldf = lambda q: sqldf(q, globals())"
   ]
  },
  {
   "cell_type": "code",
   "execution_count": 3,
   "id": "blond-newark",
   "metadata": {},
   "outputs": [],
   "source": [
    "import psycopg2 as pg\n",
    "\n",
    "# Postgres info to connect\n",
    "\n",
    "connection_args = {\n",
    "    'host': 'localhost',  \n",
    "    'dbname': 'bankruptcy',  \n",
    "    'port': 5432          \n",
    "}\n",
    "\n",
    "connection = pg.connect(**connection_args)\n",
    "connection.autocommit = True   "
   ]
  },
  {
   "cell_type": "code",
   "execution_count": 4,
   "id": "floral-aluminum",
   "metadata": {},
   "outputs": [],
   "source": [
    "#The NUM data set contains numeric data, one row per data point in the financial statements.\n",
    "NUM_q = pd.read_csv('../data/2020q1/num.txt', delimiter='\\t' , \n",
    "                     parse_dates=['ddate'] )"
   ]
  },
  {
   "cell_type": "code",
   "execution_count": 5,
   "id": "academic-platform",
   "metadata": {},
   "outputs": [
    {
     "data": {
      "text/plain": [
       "(3005393, 9)"
      ]
     },
     "execution_count": 5,
     "metadata": {},
     "output_type": "execute_result"
    }
   ],
   "source": [
    "NUM_q.shape"
   ]
  },
  {
   "cell_type": "code",
   "execution_count": 6,
   "id": "structured-clear",
   "metadata": {},
   "outputs": [
    {
     "data": {
      "text/html": [
       "<div>\n",
       "<style scoped>\n",
       "    .dataframe tbody tr th:only-of-type {\n",
       "        vertical-align: middle;\n",
       "    }\n",
       "\n",
       "    .dataframe tbody tr th {\n",
       "        vertical-align: top;\n",
       "    }\n",
       "\n",
       "    .dataframe thead th {\n",
       "        text-align: right;\n",
       "    }\n",
       "</style>\n",
       "<table border=\"1\" class=\"dataframe\">\n",
       "  <thead>\n",
       "    <tr style=\"text-align: right;\">\n",
       "      <th></th>\n",
       "      <th>adsh</th>\n",
       "      <th>tag</th>\n",
       "      <th>version</th>\n",
       "      <th>coreg</th>\n",
       "      <th>ddate</th>\n",
       "      <th>qtrs</th>\n",
       "      <th>uom</th>\n",
       "      <th>value</th>\n",
       "      <th>footnote</th>\n",
       "    </tr>\n",
       "  </thead>\n",
       "  <tbody>\n",
       "    <tr>\n",
       "      <th>0</th>\n",
       "      <td>0000028823-20-000056</td>\n",
       "      <td>DecreaseInUnrecognizedTaxBenefitsIsReasonablyP...</td>\n",
       "      <td>us-gaap/2018</td>\n",
       "      <td>NaN</td>\n",
       "      <td>2019-12-31</td>\n",
       "      <td>0</td>\n",
       "      <td>USD</td>\n",
       "      <td>7000000.0</td>\n",
       "      <td>NaN</td>\n",
       "    </tr>\n",
       "    <tr>\n",
       "      <th>1</th>\n",
       "      <td>0000030697-20-000002</td>\n",
       "      <td>DecreaseInUnrecognizedTaxBenefitsIsReasonablyP...</td>\n",
       "      <td>us-gaap/2018</td>\n",
       "      <td>NaN</td>\n",
       "      <td>2019-12-31</td>\n",
       "      <td>0</td>\n",
       "      <td>USD</td>\n",
       "      <td>1661000.0</td>\n",
       "      <td>NaN</td>\n",
       "    </tr>\n",
       "    <tr>\n",
       "      <th>2</th>\n",
       "      <td>0000931148-20-000024</td>\n",
       "      <td>DecreaseInUnrecognizedTaxBenefitsIsReasonablyP...</td>\n",
       "      <td>us-gaap/2018</td>\n",
       "      <td>NaN</td>\n",
       "      <td>2019-12-31</td>\n",
       "      <td>0</td>\n",
       "      <td>USD</td>\n",
       "      <td>200000.0</td>\n",
       "      <td>NaN</td>\n",
       "    </tr>\n",
       "    <tr>\n",
       "      <th>3</th>\n",
       "      <td>0001281761-20-000010</td>\n",
       "      <td>DecreaseInUnrecognizedTaxBenefitsIsReasonablyP...</td>\n",
       "      <td>us-gaap/2018</td>\n",
       "      <td>NaN</td>\n",
       "      <td>2019-12-31</td>\n",
       "      <td>0</td>\n",
       "      <td>USD</td>\n",
       "      <td>28000000.0</td>\n",
       "      <td>NaN</td>\n",
       "    </tr>\n",
       "    <tr>\n",
       "      <th>4</th>\n",
       "      <td>0000055785-20-000016</td>\n",
       "      <td>DecreaseInUnrecognizedTaxBenefitsIsReasonablyP...</td>\n",
       "      <td>us-gaap/2018</td>\n",
       "      <td>NaN</td>\n",
       "      <td>2019-12-31</td>\n",
       "      <td>0</td>\n",
       "      <td>USD</td>\n",
       "      <td>180000000.0</td>\n",
       "      <td>NaN</td>\n",
       "    </tr>\n",
       "  </tbody>\n",
       "</table>\n",
       "</div>"
      ],
      "text/plain": [
       "                   adsh                                                tag  \\\n",
       "0  0000028823-20-000056  DecreaseInUnrecognizedTaxBenefitsIsReasonablyP...   \n",
       "1  0000030697-20-000002  DecreaseInUnrecognizedTaxBenefitsIsReasonablyP...   \n",
       "2  0000931148-20-000024  DecreaseInUnrecognizedTaxBenefitsIsReasonablyP...   \n",
       "3  0001281761-20-000010  DecreaseInUnrecognizedTaxBenefitsIsReasonablyP...   \n",
       "4  0000055785-20-000016  DecreaseInUnrecognizedTaxBenefitsIsReasonablyP...   \n",
       "\n",
       "        version coreg      ddate  qtrs  uom        value footnote  \n",
       "0  us-gaap/2018   NaN 2019-12-31     0  USD    7000000.0      NaN  \n",
       "1  us-gaap/2018   NaN 2019-12-31     0  USD    1661000.0      NaN  \n",
       "2  us-gaap/2018   NaN 2019-12-31     0  USD     200000.0      NaN  \n",
       "3  us-gaap/2018   NaN 2019-12-31     0  USD   28000000.0      NaN  \n",
       "4  us-gaap/2018   NaN 2019-12-31     0  USD  180000000.0      NaN  "
      ]
     },
     "execution_count": 6,
     "metadata": {},
     "output_type": "execute_result"
    }
   ],
   "source": [
    "NUM_q.head()"
   ]
  },
  {
   "cell_type": "code",
   "execution_count": 7,
   "id": "medium-election",
   "metadata": {},
   "outputs": [],
   "source": [
    "# detailed explaination of each field provided by SEC\n",
    "# update field names to match the GCP labels\n",
    "\n",
    "NUM_q.columns = ['adsh', 'measure_tag', 'version', 'coreg', \n",
    "                  'period_end_date', 'number_of_quarters','units', 'value','footnote']"
   ]
  },
  {
   "cell_type": "code",
   "execution_count": 8,
   "id": "broadband-tracker",
   "metadata": {},
   "outputs": [
    {
     "data": {
      "text/html": [
       "<div>\n",
       "<style scoped>\n",
       "    .dataframe tbody tr th:only-of-type {\n",
       "        vertical-align: middle;\n",
       "    }\n",
       "\n",
       "    .dataframe tbody tr th {\n",
       "        vertical-align: top;\n",
       "    }\n",
       "\n",
       "    .dataframe thead th {\n",
       "        text-align: right;\n",
       "    }\n",
       "</style>\n",
       "<table border=\"1\" class=\"dataframe\">\n",
       "  <thead>\n",
       "    <tr style=\"text-align: right;\">\n",
       "      <th></th>\n",
       "      <th>adsh</th>\n",
       "      <th>measure_tag</th>\n",
       "      <th>version</th>\n",
       "      <th>coreg</th>\n",
       "      <th>period_end_date</th>\n",
       "      <th>number_of_quarters</th>\n",
       "      <th>units</th>\n",
       "      <th>value</th>\n",
       "      <th>footnote</th>\n",
       "    </tr>\n",
       "  </thead>\n",
       "  <tbody>\n",
       "    <tr>\n",
       "      <th>0</th>\n",
       "      <td>0000028823-20-000056</td>\n",
       "      <td>DecreaseInUnrecognizedTaxBenefitsIsReasonablyP...</td>\n",
       "      <td>us-gaap/2018</td>\n",
       "      <td>NaN</td>\n",
       "      <td>2019-12-31</td>\n",
       "      <td>0</td>\n",
       "      <td>USD</td>\n",
       "      <td>7000000.0</td>\n",
       "      <td>NaN</td>\n",
       "    </tr>\n",
       "    <tr>\n",
       "      <th>1</th>\n",
       "      <td>0000030697-20-000002</td>\n",
       "      <td>DecreaseInUnrecognizedTaxBenefitsIsReasonablyP...</td>\n",
       "      <td>us-gaap/2018</td>\n",
       "      <td>NaN</td>\n",
       "      <td>2019-12-31</td>\n",
       "      <td>0</td>\n",
       "      <td>USD</td>\n",
       "      <td>1661000.0</td>\n",
       "      <td>NaN</td>\n",
       "    </tr>\n",
       "    <tr>\n",
       "      <th>2</th>\n",
       "      <td>0000931148-20-000024</td>\n",
       "      <td>DecreaseInUnrecognizedTaxBenefitsIsReasonablyP...</td>\n",
       "      <td>us-gaap/2018</td>\n",
       "      <td>NaN</td>\n",
       "      <td>2019-12-31</td>\n",
       "      <td>0</td>\n",
       "      <td>USD</td>\n",
       "      <td>200000.0</td>\n",
       "      <td>NaN</td>\n",
       "    </tr>\n",
       "    <tr>\n",
       "      <th>3</th>\n",
       "      <td>0001281761-20-000010</td>\n",
       "      <td>DecreaseInUnrecognizedTaxBenefitsIsReasonablyP...</td>\n",
       "      <td>us-gaap/2018</td>\n",
       "      <td>NaN</td>\n",
       "      <td>2019-12-31</td>\n",
       "      <td>0</td>\n",
       "      <td>USD</td>\n",
       "      <td>28000000.0</td>\n",
       "      <td>NaN</td>\n",
       "    </tr>\n",
       "    <tr>\n",
       "      <th>4</th>\n",
       "      <td>0000055785-20-000016</td>\n",
       "      <td>DecreaseInUnrecognizedTaxBenefitsIsReasonablyP...</td>\n",
       "      <td>us-gaap/2018</td>\n",
       "      <td>NaN</td>\n",
       "      <td>2019-12-31</td>\n",
       "      <td>0</td>\n",
       "      <td>USD</td>\n",
       "      <td>180000000.0</td>\n",
       "      <td>NaN</td>\n",
       "    </tr>\n",
       "  </tbody>\n",
       "</table>\n",
       "</div>"
      ],
      "text/plain": [
       "                   adsh                                        measure_tag  \\\n",
       "0  0000028823-20-000056  DecreaseInUnrecognizedTaxBenefitsIsReasonablyP...   \n",
       "1  0000030697-20-000002  DecreaseInUnrecognizedTaxBenefitsIsReasonablyP...   \n",
       "2  0000931148-20-000024  DecreaseInUnrecognizedTaxBenefitsIsReasonablyP...   \n",
       "3  0001281761-20-000010  DecreaseInUnrecognizedTaxBenefitsIsReasonablyP...   \n",
       "4  0000055785-20-000016  DecreaseInUnrecognizedTaxBenefitsIsReasonablyP...   \n",
       "\n",
       "        version coreg period_end_date  number_of_quarters units        value  \\\n",
       "0  us-gaap/2018   NaN      2019-12-31                   0   USD    7000000.0   \n",
       "1  us-gaap/2018   NaN      2019-12-31                   0   USD    1661000.0   \n",
       "2  us-gaap/2018   NaN      2019-12-31                   0   USD     200000.0   \n",
       "3  us-gaap/2018   NaN      2019-12-31                   0   USD   28000000.0   \n",
       "4  us-gaap/2018   NaN      2019-12-31                   0   USD  180000000.0   \n",
       "\n",
       "  footnote  \n",
       "0      NaN  \n",
       "1      NaN  \n",
       "2      NaN  \n",
       "3      NaN  \n",
       "4      NaN  "
      ]
     },
     "execution_count": 8,
     "metadata": {},
     "output_type": "execute_result"
    }
   ],
   "source": [
    "NUM_q.head()"
   ]
  },
  {
   "cell_type": "code",
   "execution_count": 9,
   "id": "prerequisite-optimization",
   "metadata": {},
   "outputs": [
    {
     "name": "stdout",
     "output_type": "stream",
     "text": [
      "<class 'pandas.core.frame.DataFrame'>\n",
      "RangeIndex: 3005393 entries, 0 to 3005392\n",
      "Data columns (total 9 columns):\n",
      " #   Column              Dtype         \n",
      "---  ------              -----         \n",
      " 0   adsh                object        \n",
      " 1   measure_tag         object        \n",
      " 2   version             object        \n",
      " 3   coreg               object        \n",
      " 4   period_end_date     datetime64[ns]\n",
      " 5   number_of_quarters  int64         \n",
      " 6   units               object        \n",
      " 7   value               float64       \n",
      " 8   footnote            object        \n",
      "dtypes: datetime64[ns](1), float64(1), int64(1), object(6)\n",
      "memory usage: 206.4+ MB\n"
     ]
    }
   ],
   "source": [
    "NUM_q.info()"
   ]
  },
  {
   "cell_type": "code",
   "execution_count": 10,
   "id": "minus-aside",
   "metadata": {},
   "outputs": [],
   "source": [
    "#The SUB (submissions) data set contains summary information about an entire EDGAR submission. \n",
    "\n",
    "SUB_q = pd.read_csv('../data/2020q1/sub.txt', delimiter='\\t', \n",
    "                     parse_dates=['period'], \n",
    "                     dtype={'sic':  'str', 'ein':'str', 'cik':'str', 'fy':'str', 'fp':'str'})"
   ]
  },
  {
   "cell_type": "code",
   "execution_count": 11,
   "id": "comfortable-document",
   "metadata": {},
   "outputs": [
    {
     "data": {
      "text/plain": [
       "(13561, 36)"
      ]
     },
     "execution_count": 11,
     "metadata": {},
     "output_type": "execute_result"
    }
   ],
   "source": [
    "SUB_q.shape"
   ]
  },
  {
   "cell_type": "code",
   "execution_count": 12,
   "id": "super-appeal",
   "metadata": {},
   "outputs": [
    {
     "data": {
      "text/html": [
       "<div>\n",
       "<style scoped>\n",
       "    .dataframe tbody tr th:only-of-type {\n",
       "        vertical-align: middle;\n",
       "    }\n",
       "\n",
       "    .dataframe tbody tr th {\n",
       "        vertical-align: top;\n",
       "    }\n",
       "\n",
       "    .dataframe thead th {\n",
       "        text-align: right;\n",
       "    }\n",
       "</style>\n",
       "<table border=\"1\" class=\"dataframe\">\n",
       "  <thead>\n",
       "    <tr style=\"text-align: right;\">\n",
       "      <th></th>\n",
       "      <th>adsh</th>\n",
       "      <th>cik</th>\n",
       "      <th>name</th>\n",
       "      <th>sic</th>\n",
       "      <th>countryba</th>\n",
       "      <th>stprba</th>\n",
       "      <th>cityba</th>\n",
       "      <th>zipba</th>\n",
       "      <th>bas1</th>\n",
       "      <th>bas2</th>\n",
       "      <th>...</th>\n",
       "      <th>period</th>\n",
       "      <th>fy</th>\n",
       "      <th>fp</th>\n",
       "      <th>filed</th>\n",
       "      <th>accepted</th>\n",
       "      <th>prevrpt</th>\n",
       "      <th>detail</th>\n",
       "      <th>instance</th>\n",
       "      <th>nciks</th>\n",
       "      <th>aciks</th>\n",
       "    </tr>\n",
       "  </thead>\n",
       "  <tbody>\n",
       "    <tr>\n",
       "      <th>0</th>\n",
       "      <td>0000004977-20-000002</td>\n",
       "      <td>4977</td>\n",
       "      <td>AFLAC INC</td>\n",
       "      <td>6321</td>\n",
       "      <td>US</td>\n",
       "      <td>GA</td>\n",
       "      <td>COLUMBUS</td>\n",
       "      <td>31999</td>\n",
       "      <td>1932 WYNNTON RD</td>\n",
       "      <td>NaN</td>\n",
       "      <td>...</td>\n",
       "      <td>2019-12-31</td>\n",
       "      <td>NaN</td>\n",
       "      <td>NaN</td>\n",
       "      <td>20200102</td>\n",
       "      <td>2020-01-02 07:45:00.0</td>\n",
       "      <td>0</td>\n",
       "      <td>0</td>\n",
       "      <td>afl8-kxdecember2019xot_htm.xml</td>\n",
       "      <td>1</td>\n",
       "      <td>NaN</td>\n",
       "    </tr>\n",
       "    <tr>\n",
       "      <th>1</th>\n",
       "      <td>0000018498-20-000002</td>\n",
       "      <td>18498</td>\n",
       "      <td>GENESCO INC</td>\n",
       "      <td>5661</td>\n",
       "      <td>US</td>\n",
       "      <td>TN</td>\n",
       "      <td>NASHVILLE</td>\n",
       "      <td>37217</td>\n",
       "      <td>GENESCO PK 1415 MURFREESBORO RD</td>\n",
       "      <td>NaN</td>\n",
       "      <td>...</td>\n",
       "      <td>2019-12-31</td>\n",
       "      <td>NaN</td>\n",
       "      <td>NaN</td>\n",
       "      <td>20200102</td>\n",
       "      <td>2020-01-02 17:05:00.0</td>\n",
       "      <td>0</td>\n",
       "      <td>0</td>\n",
       "      <td>a8-ktogast010220_htm.xml</td>\n",
       "      <td>1</td>\n",
       "      <td>NaN</td>\n",
       "    </tr>\n",
       "    <tr>\n",
       "      <th>2</th>\n",
       "      <td>0000052795-20-000004</td>\n",
       "      <td>52795</td>\n",
       "      <td>ANIXTER INTERNATIONAL INC</td>\n",
       "      <td>5063</td>\n",
       "      <td>US</td>\n",
       "      <td>IL</td>\n",
       "      <td>GLENVIEW</td>\n",
       "      <td>60026</td>\n",
       "      <td>2301 PATRIOT BLVD</td>\n",
       "      <td>NaN</td>\n",
       "      <td>...</td>\n",
       "      <td>2019-12-31</td>\n",
       "      <td>NaN</td>\n",
       "      <td>NaN</td>\n",
       "      <td>20200102</td>\n",
       "      <td>2020-01-02 06:38:00.0</td>\n",
       "      <td>1</td>\n",
       "      <td>0</td>\n",
       "      <td>a8-kxsecondamendedmerg_htm.xml</td>\n",
       "      <td>1</td>\n",
       "      <td>NaN</td>\n",
       "    </tr>\n",
       "    <tr>\n",
       "      <th>3</th>\n",
       "      <td>0000082811-20-000002</td>\n",
       "      <td>82811</td>\n",
       "      <td>REGAL BELOIT CORP</td>\n",
       "      <td>3621</td>\n",
       "      <td>US</td>\n",
       "      <td>WI</td>\n",
       "      <td>BELOIT</td>\n",
       "      <td>53511</td>\n",
       "      <td>200 STATE ST</td>\n",
       "      <td>NaN</td>\n",
       "      <td>...</td>\n",
       "      <td>2019-12-31</td>\n",
       "      <td>NaN</td>\n",
       "      <td>NaN</td>\n",
       "      <td>20200102</td>\n",
       "      <td>2020-01-02 09:09:00.0</td>\n",
       "      <td>0</td>\n",
       "      <td>0</td>\n",
       "      <td>a8-kdec272019cover_htm.xml</td>\n",
       "      <td>1</td>\n",
       "      <td>NaN</td>\n",
       "    </tr>\n",
       "    <tr>\n",
       "      <th>4</th>\n",
       "      <td>0000091767-20-000003</td>\n",
       "      <td>91767</td>\n",
       "      <td>SONOCO PRODUCTS CO</td>\n",
       "      <td>2650</td>\n",
       "      <td>US</td>\n",
       "      <td>SC</td>\n",
       "      <td>HARTSVILLE</td>\n",
       "      <td>29551-0160</td>\n",
       "      <td>ONE NORTH SECOND ST</td>\n",
       "      <td>P O BOX 160</td>\n",
       "      <td>...</td>\n",
       "      <td>2019-12-31</td>\n",
       "      <td>NaN</td>\n",
       "      <td>NaN</td>\n",
       "      <td>20200102</td>\n",
       "      <td>2020-01-02 11:55:00.0</td>\n",
       "      <td>1</td>\n",
       "      <td>0</td>\n",
       "      <td>son-20191231_htm.xml</td>\n",
       "      <td>1</td>\n",
       "      <td>NaN</td>\n",
       "    </tr>\n",
       "  </tbody>\n",
       "</table>\n",
       "<p>5 rows × 36 columns</p>\n",
       "</div>"
      ],
      "text/plain": [
       "                   adsh    cik                       name   sic countryba  \\\n",
       "0  0000004977-20-000002   4977                  AFLAC INC  6321        US   \n",
       "1  0000018498-20-000002  18498                GENESCO INC  5661        US   \n",
       "2  0000052795-20-000004  52795  ANIXTER INTERNATIONAL INC  5063        US   \n",
       "3  0000082811-20-000002  82811          REGAL BELOIT CORP  3621        US   \n",
       "4  0000091767-20-000003  91767         SONOCO PRODUCTS CO  2650        US   \n",
       "\n",
       "  stprba      cityba       zipba                             bas1  \\\n",
       "0     GA    COLUMBUS       31999                  1932 WYNNTON RD   \n",
       "1     TN   NASHVILLE       37217  GENESCO PK 1415 MURFREESBORO RD   \n",
       "2     IL    GLENVIEW       60026                2301 PATRIOT BLVD   \n",
       "3     WI      BELOIT       53511                     200 STATE ST   \n",
       "4     SC  HARTSVILLE  29551-0160              ONE NORTH SECOND ST   \n",
       "\n",
       "          bas2  ...     period   fy   fp     filed               accepted  \\\n",
       "0          NaN  ... 2019-12-31  NaN  NaN  20200102  2020-01-02 07:45:00.0   \n",
       "1          NaN  ... 2019-12-31  NaN  NaN  20200102  2020-01-02 17:05:00.0   \n",
       "2          NaN  ... 2019-12-31  NaN  NaN  20200102  2020-01-02 06:38:00.0   \n",
       "3          NaN  ... 2019-12-31  NaN  NaN  20200102  2020-01-02 09:09:00.0   \n",
       "4  P O BOX 160  ... 2019-12-31  NaN  NaN  20200102  2020-01-02 11:55:00.0   \n",
       "\n",
       "  prevrpt detail                        instance nciks aciks  \n",
       "0       0      0  afl8-kxdecember2019xot_htm.xml     1   NaN  \n",
       "1       0      0        a8-ktogast010220_htm.xml     1   NaN  \n",
       "2       1      0  a8-kxsecondamendedmerg_htm.xml     1   NaN  \n",
       "3       0      0      a8-kdec272019cover_htm.xml     1   NaN  \n",
       "4       1      0            son-20191231_htm.xml     1   NaN  \n",
       "\n",
       "[5 rows x 36 columns]"
      ]
     },
     "execution_count": 12,
     "metadata": {},
     "output_type": "execute_result"
    }
   ],
   "source": [
    "SUB_q.head()"
   ]
  },
  {
   "cell_type": "code",
   "execution_count": null,
   "id": "bronze-harbor",
   "metadata": {},
   "outputs": [],
   "source": [
    "# check forms included in this file\n",
    "# only keep the 10-K and 10-K/A\n",
    "\n",
    "SUB_q.form.unique()"
   ]
  },
  {
   "cell_type": "code",
   "execution_count": null,
   "id": "answering-delivery",
   "metadata": {},
   "outputs": [],
   "source": [
    "# check all US located companies\n",
    "# will drop non-US companies\n",
    "\n",
    "SUB_q.countryba.unique()"
   ]
  },
  {
   "cell_type": "code",
   "execution_count": null,
   "id": "blocked-worship",
   "metadata": {},
   "outputs": [],
   "source": [
    "SUB_q.columns"
   ]
  },
  {
   "cell_type": "code",
   "execution_count": null,
   "id": "aggregate-spring",
   "metadata": {},
   "outputs": [],
   "source": [
    "SUB_q.info()"
   ]
  },
  {
   "cell_type": "code",
   "execution_count": 13,
   "id": "improved-dallas",
   "metadata": {},
   "outputs": [],
   "source": [
    "# Will merge NUM and SUB files and then filter like how GCP queries were filtered\n",
    "# per details from SEC of how to merge these datasets on adsh\n",
    "\n",
    "all_q = pd.merge(NUM_q, SUB_q, how='left', on=['adsh'])"
   ]
  },
  {
   "cell_type": "code",
   "execution_count": 14,
   "id": "missing-generic",
   "metadata": {},
   "outputs": [
    {
     "data": {
      "text/plain": [
       "(3005393, 44)"
      ]
     },
     "execution_count": 14,
     "metadata": {},
     "output_type": "execute_result"
    }
   ],
   "source": [
    "all_q.shape"
   ]
  },
  {
   "cell_type": "code",
   "execution_count": null,
   "id": "outdoor-bernard",
   "metadata": {},
   "outputs": [],
   "source": [
    "#all_q.head()"
   ]
  },
  {
   "cell_type": "code",
   "execution_count": null,
   "id": "charming-flour",
   "metadata": {},
   "outputs": [],
   "source": [
    "#all_q.tail()"
   ]
  },
  {
   "cell_type": "code",
   "execution_count": null,
   "id": "checked-advancement",
   "metadata": {},
   "outputs": [],
   "source": [
    "#all_q.columns"
   ]
  },
  {
   "cell_type": "code",
   "execution_count": null,
   "id": "express-doubt",
   "metadata": {},
   "outputs": [],
   "source": [
    "import pickle\n",
    "\n",
    "with open('Q1_2020.pickle', 'wb') as to_write:\n",
    "    pickle.dump(all_q, to_write)"
   ]
  },
  {
   "cell_type": "code",
   "execution_count": null,
   "id": "grand-rebel",
   "metadata": {},
   "outputs": [],
   "source": []
  },
  {
   "cell_type": "code",
   "execution_count": null,
   "id": "optimum-salon",
   "metadata": {},
   "outputs": [],
   "source": []
  }
 ],
 "metadata": {
  "kernelspec": {
   "display_name": "Python [conda env:metis] *",
   "language": "python",
   "name": "conda-env-metis-py"
  },
  "language_info": {
   "codemirror_mode": {
    "name": "ipython",
    "version": 3
   },
   "file_extension": ".py",
   "mimetype": "text/x-python",
   "name": "python",
   "nbconvert_exporter": "python",
   "pygments_lexer": "ipython3",
   "version": "3.8.6"
  }
 },
 "nbformat": 4,
 "nbformat_minor": 5
}
