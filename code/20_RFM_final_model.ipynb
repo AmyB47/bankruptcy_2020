{
 "cells": [
  {
   "cell_type": "code",
   "execution_count": 1,
   "id": "legislative-windows",
   "metadata": {},
   "outputs": [
    {
     "data": {
      "text/plain": [
       "'\\n\\nFINAL RANDOM FOREST MODEL  \\n\\nTEST ON HOLD OUT SET\\n\\n'"
      ]
     },
     "execution_count": 1,
     "metadata": {},
     "output_type": "execute_result"
    }
   ],
   "source": [
    "\"\"\"\n",
    "\n",
    "FINAL RANDOM FOREST MODEL  \n",
    "\n",
    "TEST ON HOLD OUT SET\n",
    "\n",
    "\"\"\""
   ]
  },
  {
   "cell_type": "code",
   "execution_count": 66,
   "id": "romance-serbia",
   "metadata": {},
   "outputs": [],
   "source": [
    "import pandas as pd\n",
    "import numpy as np\n",
    "import datetime\n",
    "import pickle"
   ]
  },
  {
   "cell_type": "code",
   "execution_count": 67,
   "id": "fifth-lebanon",
   "metadata": {},
   "outputs": [],
   "source": [
    "from sklearn.model_selection import train_test_split, KFold\n",
    "from sklearn.preprocessing import OneHotEncoder\n",
    "from sklearn.ensemble import RandomForestClassifier\n",
    "from sklearn.metrics import confusion_matrix, roc_auc_score, roc_curve\n",
    "from sklearn.metrics import precision_score, recall_score, precision_recall_curve, f1_score, fbeta_score "
   ]
  },
  {
   "cell_type": "code",
   "execution_count": 68,
   "id": "textile-arthur",
   "metadata": {},
   "outputs": [],
   "source": [
    "import matplotlib.pyplot as plt\n",
    "import seaborn as sns"
   ]
  },
  {
   "cell_type": "code",
   "execution_count": 69,
   "id": "developing-establishment",
   "metadata": {},
   "outputs": [],
   "source": [
    "from imblearn.over_sampling import RandomOverSampler, SMOTE\n",
    "from collections import Counter"
   ]
  },
  {
   "cell_type": "code",
   "execution_count": 70,
   "id": "proof-badge",
   "metadata": {},
   "outputs": [],
   "source": [
    "from sklearn.metrics import plot_roc_curve, plot_precision_recall_curve"
   ]
  },
  {
   "cell_type": "code",
   "execution_count": 71,
   "id": "supreme-fleet",
   "metadata": {},
   "outputs": [
    {
     "data": {
      "text/html": [
       "<div>\n",
       "<style scoped>\n",
       "    .dataframe tbody tr th:only-of-type {\n",
       "        vertical-align: middle;\n",
       "    }\n",
       "\n",
       "    .dataframe tbody tr th {\n",
       "        vertical-align: top;\n",
       "    }\n",
       "\n",
       "    .dataframe thead th {\n",
       "        text-align: right;\n",
       "    }\n",
       "</style>\n",
       "<table border=\"1\" class=\"dataframe\">\n",
       "  <thead>\n",
       "    <tr style=\"text-align: right;\">\n",
       "      <th></th>\n",
       "      <th>company_name</th>\n",
       "      <th>FULL_NAME</th>\n",
       "      <th>period_end_date</th>\n",
       "      <th>submission_number</th>\n",
       "      <th>central_index_key</th>\n",
       "      <th>ein</th>\n",
       "      <th>sic</th>\n",
       "      <th>fiscal_year_end</th>\n",
       "      <th>fiscal_year</th>\n",
       "      <th>form</th>\n",
       "      <th>...</th>\n",
       "      <th>current_ratio</th>\n",
       "      <th>leverage</th>\n",
       "      <th>return_on_equity</th>\n",
       "      <th>return_on_assets</th>\n",
       "      <th>ratio_1</th>\n",
       "      <th>ratio_2</th>\n",
       "      <th>ratio_3</th>\n",
       "      <th>ratio_4</th>\n",
       "      <th>EarningsPerShareBasic</th>\n",
       "      <th>EarningsPerShareDiluted</th>\n",
       "    </tr>\n",
       "  </thead>\n",
       "  <tbody>\n",
       "    <tr>\n",
       "      <th>0</th>\n",
       "      <td>1 800 FLOWERS COM INC</td>\n",
       "      <td>NaN</td>\n",
       "      <td>2014-06-30</td>\n",
       "      <td>0001437749-17-015969</td>\n",
       "      <td>1084869</td>\n",
       "      <td>113117311</td>\n",
       "      <td>5990</td>\n",
       "      <td>630</td>\n",
       "      <td>2017</td>\n",
       "      <td>10-K</td>\n",
       "      <td>...</td>\n",
       "      <td>1.235657</td>\n",
       "      <td>1.460306</td>\n",
       "      <td>NaN</td>\n",
       "      <td>NaN</td>\n",
       "      <td>0.684788</td>\n",
       "      <td>1.179782</td>\n",
       "      <td>3.285030</td>\n",
       "      <td>4.099066</td>\n",
       "      <td>0.24</td>\n",
       "      <td>0.23</td>\n",
       "    </tr>\n",
       "    <tr>\n",
       "      <th>1</th>\n",
       "      <td>1 800 FLOWERS COM INC</td>\n",
       "      <td>NaN</td>\n",
       "      <td>2015-06-30</td>\n",
       "      <td>0001437749-18-017027</td>\n",
       "      <td>1084869</td>\n",
       "      <td>113117311</td>\n",
       "      <td>5990</td>\n",
       "      <td>630</td>\n",
       "      <td>2018</td>\n",
       "      <td>10-K</td>\n",
       "      <td>...</td>\n",
       "      <td>1.254743</td>\n",
       "      <td>2.384626</td>\n",
       "      <td>NaN</td>\n",
       "      <td>NaN</td>\n",
       "      <td>0.419353</td>\n",
       "      <td>0.980128</td>\n",
       "      <td>1.733067</td>\n",
       "      <td>1.792763</td>\n",
       "      <td>0.31</td>\n",
       "      <td>0.30</td>\n",
       "    </tr>\n",
       "    <tr>\n",
       "      <th>2</th>\n",
       "      <td>1 800 FLOWERS COM INC</td>\n",
       "      <td>NaN</td>\n",
       "      <td>2016-06-30</td>\n",
       "      <td>0001437749-19-018360</td>\n",
       "      <td>1084869</td>\n",
       "      <td>113117311</td>\n",
       "      <td>5990</td>\n",
       "      <td>630</td>\n",
       "      <td>2019</td>\n",
       "      <td>10-K</td>\n",
       "      <td>...</td>\n",
       "      <td>1.378931</td>\n",
       "      <td>2.073248</td>\n",
       "      <td>NaN</td>\n",
       "      <td>NaN</td>\n",
       "      <td>0.482335</td>\n",
       "      <td>1.028864</td>\n",
       "      <td>1.931751</td>\n",
       "      <td>2.104657</td>\n",
       "      <td>0.57</td>\n",
       "      <td>0.55</td>\n",
       "    </tr>\n",
       "    <tr>\n",
       "      <th>3</th>\n",
       "      <td>1 800 FLOWERS COM INC</td>\n",
       "      <td>NaN</td>\n",
       "      <td>2017-06-30</td>\n",
       "      <td>0001437749-19-018360</td>\n",
       "      <td>1084869</td>\n",
       "      <td>113117311</td>\n",
       "      <td>5990</td>\n",
       "      <td>630</td>\n",
       "      <td>2019</td>\n",
       "      <td>10-K</td>\n",
       "      <td>...</td>\n",
       "      <td>2.056337</td>\n",
       "      <td>1.957454</td>\n",
       "      <td>0.156042</td>\n",
       "      <td>0.079717</td>\n",
       "      <td>0.510868</td>\n",
       "      <td>0.941736</td>\n",
       "      <td>2.044436</td>\n",
       "      <td>2.043737</td>\n",
       "      <td>0.68</td>\n",
       "      <td>0.65</td>\n",
       "    </tr>\n",
       "    <tr>\n",
       "      <th>4</th>\n",
       "      <td>1 800 FLOWERS COM INC</td>\n",
       "      <td>NaN</td>\n",
       "      <td>2018-06-30</td>\n",
       "      <td>0001437749-19-018360</td>\n",
       "      <td>1084869</td>\n",
       "      <td>113117311</td>\n",
       "      <td>5990</td>\n",
       "      <td>630</td>\n",
       "      <td>2019</td>\n",
       "      <td>10-K</td>\n",
       "      <td>...</td>\n",
       "      <td>2.187686</td>\n",
       "      <td>1.812899</td>\n",
       "      <td>0.129535</td>\n",
       "      <td>0.071452</td>\n",
       "      <td>0.551603</td>\n",
       "      <td>0.856603</td>\n",
       "      <td>2.230166</td>\n",
       "      <td>2.031857</td>\n",
       "      <td>0.63</td>\n",
       "      <td>0.61</td>\n",
       "    </tr>\n",
       "  </tbody>\n",
       "</table>\n",
       "<p>5 rows × 52 columns</p>\n",
       "</div>"
      ],
      "text/plain": [
       "            company_name FULL_NAME period_end_date     submission_number  \\\n",
       "0  1 800 FLOWERS COM INC       NaN      2014-06-30  0001437749-17-015969   \n",
       "1  1 800 FLOWERS COM INC       NaN      2015-06-30  0001437749-18-017027   \n",
       "2  1 800 FLOWERS COM INC       NaN      2016-06-30  0001437749-19-018360   \n",
       "3  1 800 FLOWERS COM INC       NaN      2017-06-30  0001437749-19-018360   \n",
       "4  1 800 FLOWERS COM INC       NaN      2018-06-30  0001437749-19-018360   \n",
       "\n",
       "  central_index_key        ein   sic  fiscal_year_end  fiscal_year  form  ...  \\\n",
       "0           1084869  113117311  5990              630         2017  10-K  ...   \n",
       "1           1084869  113117311  5990              630         2018  10-K  ...   \n",
       "2           1084869  113117311  5990              630         2019  10-K  ...   \n",
       "3           1084869  113117311  5990              630         2019  10-K  ...   \n",
       "4           1084869  113117311  5990              630         2019  10-K  ...   \n",
       "\n",
       "  current_ratio  leverage return_on_equity return_on_assets   ratio_1  \\\n",
       "0      1.235657  1.460306              NaN              NaN  0.684788   \n",
       "1      1.254743  2.384626              NaN              NaN  0.419353   \n",
       "2      1.378931  2.073248              NaN              NaN  0.482335   \n",
       "3      2.056337  1.957454         0.156042         0.079717  0.510868   \n",
       "4      2.187686  1.812899         0.129535         0.071452  0.551603   \n",
       "\n",
       "    ratio_2   ratio_3   ratio_4  EarningsPerShareBasic  \\\n",
       "0  1.179782  3.285030  4.099066                   0.24   \n",
       "1  0.980128  1.733067  1.792763                   0.31   \n",
       "2  1.028864  1.931751  2.104657                   0.57   \n",
       "3  0.941736  2.044436  2.043737                   0.68   \n",
       "4  0.856603  2.230166  2.031857                   0.63   \n",
       "\n",
       "   EarningsPerShareDiluted  \n",
       "0                     0.23  \n",
       "1                     0.30  \n",
       "2                     0.55  \n",
       "3                     0.65  \n",
       "4                     0.61  \n",
       "\n",
       "[5 rows x 52 columns]"
      ]
     },
     "execution_count": 71,
     "metadata": {},
     "output_type": "execute_result"
    }
   ],
   "source": [
    "# the df with features and target\n",
    "\n",
    "with open('data_model_training.pickle', 'rb') as read_file:\n",
    "    model_data = pickle.load(read_file)\n",
    "    \n",
    "model_data.head()"
   ]
  },
  {
   "cell_type": "code",
   "execution_count": 72,
   "id": "foster-concern",
   "metadata": {},
   "outputs": [
    {
     "data": {
      "text/plain": [
       "(19919, 52)"
      ]
     },
     "execution_count": 72,
     "metadata": {},
     "output_type": "execute_result"
    }
   ],
   "source": [
    "model_data.shape"
   ]
  },
  {
   "cell_type": "code",
   "execution_count": 150,
   "id": "interesting-thumb",
   "metadata": {},
   "outputs": [
    {
     "data": {
      "text/plain": [
       "318057"
      ]
     },
     "execution_count": 150,
     "metadata": {},
     "output_type": "execute_result"
    }
   ],
   "source": [
    "model_data.isnull().sum().sum()"
   ]
  },
  {
   "cell_type": "code",
   "execution_count": 8,
   "id": "smooth-graham",
   "metadata": {},
   "outputs": [],
   "source": [
    "#model_data.columns"
   ]
  },
  {
   "cell_type": "code",
   "execution_count": 73,
   "id": "pediatric-occasions",
   "metadata": {},
   "outputs": [],
   "source": [
    "# fill infinity values with NaN\n",
    "\n",
    "model_data.replace([np.inf, -np.inf], np.nan, inplace=True)"
   ]
  },
  {
   "cell_type": "code",
   "execution_count": 76,
   "id": "delayed-tower",
   "metadata": {},
   "outputs": [],
   "source": [
    "## deviation features\n",
    "\n",
    "def add_deviation_feature(X, feature, category):\n",
    "    \n",
    "    # temp groupby object\n",
    "    category_gb = X.groupby(category)[feature]\n",
    "    \n",
    "    # create columns of category means and standard deviations\n",
    "    category_mean = category_gb.transform(lambda x: x.mean())\n",
    "    category_std = category_gb.transform(lambda x: x.std())\n",
    "    \n",
    "    # compute stds from category mean for each feature value,\n",
    "    # add to X as new feature\n",
    "    deviation_feature = (X[feature] - category_mean) / category_std \n",
    "    X[feature + '_Dev_' + category] = deviation_feature  "
   ]
  },
  {
   "cell_type": "code",
   "execution_count": 77,
   "id": "failing-broadcast",
   "metadata": {},
   "outputs": [],
   "source": [
    "add_deviation_feature(model_data, 'debt_ratio', 'Division')\n",
    "add_deviation_feature(model_data, 'debt_equity_ratio', 'Division')\n",
    "add_deviation_feature(model_data, 'current_ratio', 'Division')\n",
    "add_deviation_feature(model_data, 'leverage', 'Division')\n",
    "add_deviation_feature(model_data, 'return_on_equity', 'Division')\n",
    "add_deviation_feature(model_data, 'return_on_assets', 'Division')\n",
    "add_deviation_feature(model_data, 'ratio_1', 'Division')\n",
    "add_deviation_feature(model_data, 'ratio_2', 'Division')\n",
    "add_deviation_feature(model_data, 'ratio_3', 'Division')\n",
    "add_deviation_feature(model_data, 'ratio_4', 'Division')\n",
    "add_deviation_feature(model_data, 'EarningsPerShareBasic', 'Division')\n",
    "add_deviation_feature(model_data, 'EarningsPerShareDiluted', 'Division')"
   ]
  },
  {
   "cell_type": "code",
   "execution_count": 83,
   "id": "fifth-import",
   "metadata": {},
   "outputs": [],
   "source": [
    "# fill infinity values with NaN\n",
    "\n",
    "model_data.replace([np.inf, -np.inf], np.nan, inplace=True)"
   ]
  },
  {
   "cell_type": "code",
   "execution_count": 78,
   "id": "successful-crack",
   "metadata": {},
   "outputs": [
    {
     "data": {
      "text/plain": [
       "Index(['company_name', 'FULL_NAME', 'period_end_date', 'submission_number',\n",
       "       'central_index_key', 'ein', 'sic', 'fiscal_year_end', 'fiscal_year',\n",
       "       'form', 'date_filed', 'Industry', 'div_code', 'Division',\n",
       "       'bankruptcy_date', 'days', 'target', 'Assets_MM', 'AssetsCurrent_MM',\n",
       "       'Libilities_MM', 'LibilitiesCurrent_MM', 'NetIncomeLoss_MM',\n",
       "       'StockholdersEquity_MM', 'OperatingIncomeLoss_MM', 'Revenues_MM',\n",
       "       'CashAndCashEquivalentsAtCarryingValue_MM', 'CommonStockValue_MM',\n",
       "       'Goodwill_MM', 'GrossProfit_MM', 'InterestExpense_MM', 'Revenue_any_MM',\n",
       "       'SalesRevenueGoodsNet_MM', 'SalesRevenueNet_MM',\n",
       "       'NetCashProvidedByUsedInFinancingActivities_MM',\n",
       "       'NetCashProvidedByUsedInInvestingActivities_MM',\n",
       "       'NetCashProvidedByUsedInOperatingActivities_MM',\n",
       "       'LongTermDebtMaturitiesRepaymentsOfPrincipalInNextTwelveMonths_MM',\n",
       "       'LongTermDebtNoncurrent_MM', 'LongTermDebt_MM',\n",
       "       'RepaymentsOfLongTermDebt_MM', 'debt_ratio', 'debt_equity_ratio',\n",
       "       'current_ratio', 'leverage', 'return_on_equity', 'return_on_assets',\n",
       "       'ratio_1', 'ratio_2', 'ratio_3', 'ratio_4', 'EarningsPerShareBasic',\n",
       "       'EarningsPerShareDiluted', 'debt_ratio_Dev_Division',\n",
       "       'debt_equity_ratio_Dev_Division', 'current_ratio_Dev_Division',\n",
       "       'leverage_Dev_Division', 'return_on_equity_Dev_Division',\n",
       "       'return_on_assets_Dev_Division', 'ratio_1_Dev_Division',\n",
       "       'ratio_2_Dev_Division', 'ratio_3_Dev_Division', 'ratio_4_Dev_Division',\n",
       "       'EarningsPerShareBasic_Dev_Division',\n",
       "       'EarningsPerShareDiluted_Dev_Division'],\n",
       "      dtype='object')"
      ]
     },
     "execution_count": 78,
     "metadata": {},
     "output_type": "execute_result"
    }
   ],
   "source": [
    "model_data.columns"
   ]
  },
  {
   "cell_type": "code",
   "execution_count": 157,
   "id": "authorized-wagon",
   "metadata": {},
   "outputs": [
    {
     "data": {
      "text/plain": [
       "Timestamp('2018-12-31 00:00:00')"
      ]
     },
     "execution_count": 157,
     "metadata": {},
     "output_type": "execute_result"
    }
   ],
   "source": [
    "max(model_data.period_end_date)"
   ]
  },
  {
   "cell_type": "code",
   "execution_count": 84,
   "id": "finished-prayer",
   "metadata": {},
   "outputs": [],
   "source": [
    "## split into 3 parts to handle missing\n",
    "\n",
    "model_ready_1 = model_data[['company_name', 'FULL_NAME', 'period_end_date', 'submission_number',\n",
    "       'central_index_key', 'ein', 'sic', 'fiscal_year_end', 'fiscal_year',\n",
    "       'form', 'date_filed', 'Industry', 'div_code', 'Division',\n",
    "       'bankruptcy_date', 'days', 'target']]"
   ]
  },
  {
   "cell_type": "code",
   "execution_count": 85,
   "id": "golden-document",
   "metadata": {},
   "outputs": [],
   "source": [
    "## RF will not accept NaNs\n",
    "\n",
    "## change all NaN to zero where large values\n",
    "\n",
    "model_ready_2 = model_data[['Assets_MM', 'AssetsCurrent_MM',\n",
    "       'Libilities_MM', 'LibilitiesCurrent_MM', 'NetIncomeLoss_MM',\n",
    "       'StockholdersEquity_MM', 'OperatingIncomeLoss_MM', 'Revenues_MM',\n",
    "       'CashAndCashEquivalentsAtCarryingValue_MM', 'CommonStockValue_MM',\n",
    "       'Goodwill_MM', 'GrossProfit_MM', 'InterestExpense_MM', 'Revenue_any_MM',\n",
    "       'SalesRevenueGoodsNet_MM', 'SalesRevenueNet_MM',\n",
    "       'NetCashProvidedByUsedInFinancingActivities_MM',\n",
    "       'NetCashProvidedByUsedInInvestingActivities_MM',\n",
    "       'NetCashProvidedByUsedInOperatingActivities_MM',\n",
    "       'LongTermDebtMaturitiesRepaymentsOfPrincipalInNextTwelveMonths_MM',\n",
    "       'LongTermDebtNoncurrent_MM', 'LongTermDebt_MM',\n",
    "       'RepaymentsOfLongTermDebt_MM']].fillna(-999999)\n"
   ]
  },
  {
   "cell_type": "code",
   "execution_count": 81,
   "id": "lucky-organic",
   "metadata": {},
   "outputs": [
    {
     "data": {
      "text/plain": [
       "-999999.0"
      ]
     },
     "execution_count": 81,
     "metadata": {},
     "output_type": "execute_result"
    }
   ],
   "source": [
    "min(model_ready_2.OperatingIncomeLoss_MM)"
   ]
  },
  {
   "cell_type": "code",
   "execution_count": 82,
   "id": "forbidden-phone",
   "metadata": {},
   "outputs": [
    {
     "data": {
      "text/html": [
       "<div>\n",
       "<style scoped>\n",
       "    .dataframe tbody tr th:only-of-type {\n",
       "        vertical-align: middle;\n",
       "    }\n",
       "\n",
       "    .dataframe tbody tr th {\n",
       "        vertical-align: top;\n",
       "    }\n",
       "\n",
       "    .dataframe thead th {\n",
       "        text-align: right;\n",
       "    }\n",
       "</style>\n",
       "<table border=\"1\" class=\"dataframe\">\n",
       "  <thead>\n",
       "    <tr style=\"text-align: right;\">\n",
       "      <th></th>\n",
       "      <th>Assets_MM</th>\n",
       "      <th>AssetsCurrent_MM</th>\n",
       "      <th>Libilities_MM</th>\n",
       "      <th>LibilitiesCurrent_MM</th>\n",
       "      <th>NetIncomeLoss_MM</th>\n",
       "      <th>StockholdersEquity_MM</th>\n",
       "      <th>OperatingIncomeLoss_MM</th>\n",
       "      <th>Revenues_MM</th>\n",
       "      <th>CashAndCashEquivalentsAtCarryingValue_MM</th>\n",
       "      <th>CommonStockValue_MM</th>\n",
       "      <th>...</th>\n",
       "      <th>Revenue_any_MM</th>\n",
       "      <th>SalesRevenueGoodsNet_MM</th>\n",
       "      <th>SalesRevenueNet_MM</th>\n",
       "      <th>NetCashProvidedByUsedInFinancingActivities_MM</th>\n",
       "      <th>NetCashProvidedByUsedInInvestingActivities_MM</th>\n",
       "      <th>NetCashProvidedByUsedInOperatingActivities_MM</th>\n",
       "      <th>LongTermDebtMaturitiesRepaymentsOfPrincipalInNextTwelveMonths_MM</th>\n",
       "      <th>LongTermDebtNoncurrent_MM</th>\n",
       "      <th>LongTermDebt_MM</th>\n",
       "      <th>RepaymentsOfLongTermDebt_MM</th>\n",
       "    </tr>\n",
       "  </thead>\n",
       "  <tbody>\n",
       "    <tr>\n",
       "      <th>0</th>\n",
       "      <td>267.569</td>\n",
       "      <td>91.818</td>\n",
       "      <td>81.451</td>\n",
       "      <td>74.307</td>\n",
       "      <td>-999999.000</td>\n",
       "      <td>183.228</td>\n",
       "      <td>23.706</td>\n",
       "      <td>-999999.000</td>\n",
       "      <td>5.203</td>\n",
       "      <td>-999999.0</td>\n",
       "      <td>...</td>\n",
       "      <td>756.345</td>\n",
       "      <td>-999999.0</td>\n",
       "      <td>756.345</td>\n",
       "      <td>-6.002</td>\n",
       "      <td>-31.488</td>\n",
       "      <td>42.539</td>\n",
       "      <td>-999999.0</td>\n",
       "      <td>-999999.0</td>\n",
       "      <td>-999999.0</td>\n",
       "      <td>-999999.0</td>\n",
       "    </tr>\n",
       "    <tr>\n",
       "      <th>1</th>\n",
       "      <td>497.073</td>\n",
       "      <td>155.095</td>\n",
       "      <td>286.817</td>\n",
       "      <td>123.607</td>\n",
       "      <td>-999999.000</td>\n",
       "      <td>208.449</td>\n",
       "      <td>37.617</td>\n",
       "      <td>-999999.000</td>\n",
       "      <td>27.940</td>\n",
       "      <td>-999999.0</td>\n",
       "      <td>...</td>\n",
       "      <td>1121.506</td>\n",
       "      <td>-999999.0</td>\n",
       "      <td>1121.506</td>\n",
       "      <td>60.607</td>\n",
       "      <td>-163.603</td>\n",
       "      <td>125.733</td>\n",
       "      <td>-999999.0</td>\n",
       "      <td>-999999.0</td>\n",
       "      <td>-999999.0</td>\n",
       "      <td>-999999.0</td>\n",
       "    </tr>\n",
       "    <tr>\n",
       "      <th>2</th>\n",
       "      <td>502.941</td>\n",
       "      <td>166.659</td>\n",
       "      <td>260.355</td>\n",
       "      <td>120.861</td>\n",
       "      <td>-999999.000</td>\n",
       "      <td>242.586</td>\n",
       "      <td>43.282</td>\n",
       "      <td>1173.024</td>\n",
       "      <td>27.826</td>\n",
       "      <td>-999999.0</td>\n",
       "      <td>...</td>\n",
       "      <td>1173.024</td>\n",
       "      <td>-999999.0</td>\n",
       "      <td>1173.024</td>\n",
       "      <td>-23.849</td>\n",
       "      <td>-33.938</td>\n",
       "      <td>57.673</td>\n",
       "      <td>-999999.0</td>\n",
       "      <td>-999999.0</td>\n",
       "      <td>-999999.0</td>\n",
       "      <td>-999999.0</td>\n",
       "    </tr>\n",
       "    <tr>\n",
       "      <th>3</th>\n",
       "      <td>552.470</td>\n",
       "      <td>257.402</td>\n",
       "      <td>270.231</td>\n",
       "      <td>125.175</td>\n",
       "      <td>44.041</td>\n",
       "      <td>282.239</td>\n",
       "      <td>46.359</td>\n",
       "      <td>1193.625</td>\n",
       "      <td>149.732</td>\n",
       "      <td>-999999.0</td>\n",
       "      <td>...</td>\n",
       "      <td>1193.625</td>\n",
       "      <td>-999999.0</td>\n",
       "      <td>1193.625</td>\n",
       "      <td>-17.406</td>\n",
       "      <td>78.302</td>\n",
       "      <td>61.010</td>\n",
       "      <td>-999999.0</td>\n",
       "      <td>-999999.0</td>\n",
       "      <td>-999999.0</td>\n",
       "      <td>-999999.0</td>\n",
       "    </tr>\n",
       "    <tr>\n",
       "      <th>4</th>\n",
       "      <td>570.889</td>\n",
       "      <td>273.021</td>\n",
       "      <td>255.985</td>\n",
       "      <td>124.799</td>\n",
       "      <td>40.791</td>\n",
       "      <td>314.904</td>\n",
       "      <td>41.048</td>\n",
       "      <td>1151.921</td>\n",
       "      <td>147.240</td>\n",
       "      <td>-999999.0</td>\n",
       "      <td>...</td>\n",
       "      <td>1151.921</td>\n",
       "      <td>-999999.0</td>\n",
       "      <td>-999999.000</td>\n",
       "      <td>-19.027</td>\n",
       "      <td>-41.806</td>\n",
       "      <td>58.341</td>\n",
       "      <td>-999999.0</td>\n",
       "      <td>-999999.0</td>\n",
       "      <td>-999999.0</td>\n",
       "      <td>-999999.0</td>\n",
       "    </tr>\n",
       "  </tbody>\n",
       "</table>\n",
       "<p>5 rows × 23 columns</p>\n",
       "</div>"
      ],
      "text/plain": [
       "   Assets_MM  AssetsCurrent_MM  Libilities_MM  LibilitiesCurrent_MM  \\\n",
       "0    267.569            91.818         81.451                74.307   \n",
       "1    497.073           155.095        286.817               123.607   \n",
       "2    502.941           166.659        260.355               120.861   \n",
       "3    552.470           257.402        270.231               125.175   \n",
       "4    570.889           273.021        255.985               124.799   \n",
       "\n",
       "   NetIncomeLoss_MM  StockholdersEquity_MM  OperatingIncomeLoss_MM  \\\n",
       "0       -999999.000                183.228                  23.706   \n",
       "1       -999999.000                208.449                  37.617   \n",
       "2       -999999.000                242.586                  43.282   \n",
       "3            44.041                282.239                  46.359   \n",
       "4            40.791                314.904                  41.048   \n",
       "\n",
       "   Revenues_MM  CashAndCashEquivalentsAtCarryingValue_MM  CommonStockValue_MM  \\\n",
       "0  -999999.000                                     5.203            -999999.0   \n",
       "1  -999999.000                                    27.940            -999999.0   \n",
       "2     1173.024                                    27.826            -999999.0   \n",
       "3     1193.625                                   149.732            -999999.0   \n",
       "4     1151.921                                   147.240            -999999.0   \n",
       "\n",
       "   ...  Revenue_any_MM  SalesRevenueGoodsNet_MM  SalesRevenueNet_MM  \\\n",
       "0  ...         756.345                -999999.0             756.345   \n",
       "1  ...        1121.506                -999999.0            1121.506   \n",
       "2  ...        1173.024                -999999.0            1173.024   \n",
       "3  ...        1193.625                -999999.0            1193.625   \n",
       "4  ...        1151.921                -999999.0         -999999.000   \n",
       "\n",
       "   NetCashProvidedByUsedInFinancingActivities_MM  \\\n",
       "0                                         -6.002   \n",
       "1                                         60.607   \n",
       "2                                        -23.849   \n",
       "3                                        -17.406   \n",
       "4                                        -19.027   \n",
       "\n",
       "   NetCashProvidedByUsedInInvestingActivities_MM  \\\n",
       "0                                        -31.488   \n",
       "1                                       -163.603   \n",
       "2                                        -33.938   \n",
       "3                                         78.302   \n",
       "4                                        -41.806   \n",
       "\n",
       "   NetCashProvidedByUsedInOperatingActivities_MM  \\\n",
       "0                                         42.539   \n",
       "1                                        125.733   \n",
       "2                                         57.673   \n",
       "3                                         61.010   \n",
       "4                                         58.341   \n",
       "\n",
       "   LongTermDebtMaturitiesRepaymentsOfPrincipalInNextTwelveMonths_MM  \\\n",
       "0                                          -999999.0                  \n",
       "1                                          -999999.0                  \n",
       "2                                          -999999.0                  \n",
       "3                                          -999999.0                  \n",
       "4                                          -999999.0                  \n",
       "\n",
       "   LongTermDebtNoncurrent_MM  LongTermDebt_MM  RepaymentsOfLongTermDebt_MM  \n",
       "0                  -999999.0        -999999.0                    -999999.0  \n",
       "1                  -999999.0        -999999.0                    -999999.0  \n",
       "2                  -999999.0        -999999.0                    -999999.0  \n",
       "3                  -999999.0        -999999.0                    -999999.0  \n",
       "4                  -999999.0        -999999.0                    -999999.0  \n",
       "\n",
       "[5 rows x 23 columns]"
      ]
     },
     "execution_count": 82,
     "metadata": {},
     "output_type": "execute_result"
    }
   ],
   "source": [
    "model_ready_2.head()"
   ]
  },
  {
   "cell_type": "code",
   "execution_count": 86,
   "id": "second-groove",
   "metadata": {},
   "outputs": [],
   "source": [
    "## change to large extreme negative where ratios\n",
    "\n",
    "model_ready_3 = model_data[['debt_ratio', 'debt_equity_ratio',\n",
    "       'current_ratio', 'leverage', 'return_on_equity', 'return_on_assets',\n",
    "       'ratio_1', 'ratio_2', 'ratio_3', 'ratio_4', 'EarningsPerShareBasic',\n",
    "       'EarningsPerShareDiluted', 'debt_ratio_Dev_Division',\n",
    "       'debt_equity_ratio_Dev_Division', 'current_ratio_Dev_Division',\n",
    "       'leverage_Dev_Division', 'return_on_equity_Dev_Division',\n",
    "       'return_on_assets_Dev_Division', 'ratio_1_Dev_Division',\n",
    "       'ratio_2_Dev_Division', 'ratio_3_Dev_Division', 'ratio_4_Dev_Division',\n",
    "       'EarningsPerShareBasic_Dev_Division',\n",
    "       'EarningsPerShareDiluted_Dev_Division']].fillna(-999999)\n"
   ]
  },
  {
   "cell_type": "code",
   "execution_count": 87,
   "id": "proud-forum",
   "metadata": {},
   "outputs": [],
   "source": [
    "model_ready = pd.concat([model_ready_1, model_ready_2, model_ready_3], axis=1)"
   ]
  },
  {
   "cell_type": "code",
   "execution_count": 88,
   "id": "extended-combination",
   "metadata": {},
   "outputs": [
    {
     "data": {
      "text/plain": [
       "(19919, 64)"
      ]
     },
     "execution_count": 88,
     "metadata": {},
     "output_type": "execute_result"
    }
   ],
   "source": [
    "model_ready.shape"
   ]
  },
  {
   "cell_type": "code",
   "execution_count": 89,
   "id": "extended-opportunity",
   "metadata": {},
   "outputs": [
    {
     "data": {
      "text/plain": [
       "5373"
      ]
     },
     "execution_count": 89,
     "metadata": {},
     "output_type": "execute_result"
    }
   ],
   "source": [
    "model_ready.company_name.nunique()"
   ]
  },
  {
   "cell_type": "code",
   "execution_count": null,
   "id": "planned-event",
   "metadata": {},
   "outputs": [],
   "source": [
    "## count amount missing\n",
    "model_ready_3.any"
   ]
  },
  {
   "cell_type": "code",
   "execution_count": 90,
   "id": "cellular-wholesale",
   "metadata": {},
   "outputs": [
    {
     "data": {
      "text/html": [
       "<div>\n",
       "<style scoped>\n",
       "    .dataframe tbody tr th:only-of-type {\n",
       "        vertical-align: middle;\n",
       "    }\n",
       "\n",
       "    .dataframe tbody tr th {\n",
       "        vertical-align: top;\n",
       "    }\n",
       "\n",
       "    .dataframe thead th {\n",
       "        text-align: right;\n",
       "    }\n",
       "</style>\n",
       "<table border=\"1\" class=\"dataframe\">\n",
       "  <thead>\n",
       "    <tr style=\"text-align: right;\">\n",
       "      <th></th>\n",
       "      <th>Division_Agriculture, Forestry and Fishing</th>\n",
       "      <th>Division_Construction</th>\n",
       "      <th>Division_Finance, Insurance and Real Estate</th>\n",
       "      <th>Division_Manufacturing</th>\n",
       "      <th>Division_Mining</th>\n",
       "      <th>Division_Retail Trade</th>\n",
       "      <th>Division_Services</th>\n",
       "      <th>Division_Transportation, Communications, Electric, Gas and Sanitary service</th>\n",
       "      <th>Division_Wholesale Trade</th>\n",
       "    </tr>\n",
       "  </thead>\n",
       "  <tbody>\n",
       "    <tr>\n",
       "      <th>0</th>\n",
       "      <td>0.0</td>\n",
       "      <td>0.0</td>\n",
       "      <td>0.0</td>\n",
       "      <td>0.0</td>\n",
       "      <td>0.0</td>\n",
       "      <td>1.0</td>\n",
       "      <td>0.0</td>\n",
       "      <td>0.0</td>\n",
       "      <td>0.0</td>\n",
       "    </tr>\n",
       "    <tr>\n",
       "      <th>1</th>\n",
       "      <td>0.0</td>\n",
       "      <td>0.0</td>\n",
       "      <td>0.0</td>\n",
       "      <td>0.0</td>\n",
       "      <td>0.0</td>\n",
       "      <td>1.0</td>\n",
       "      <td>0.0</td>\n",
       "      <td>0.0</td>\n",
       "      <td>0.0</td>\n",
       "    </tr>\n",
       "    <tr>\n",
       "      <th>2</th>\n",
       "      <td>0.0</td>\n",
       "      <td>0.0</td>\n",
       "      <td>0.0</td>\n",
       "      <td>0.0</td>\n",
       "      <td>0.0</td>\n",
       "      <td>1.0</td>\n",
       "      <td>0.0</td>\n",
       "      <td>0.0</td>\n",
       "      <td>0.0</td>\n",
       "    </tr>\n",
       "    <tr>\n",
       "      <th>3</th>\n",
       "      <td>0.0</td>\n",
       "      <td>0.0</td>\n",
       "      <td>0.0</td>\n",
       "      <td>0.0</td>\n",
       "      <td>0.0</td>\n",
       "      <td>1.0</td>\n",
       "      <td>0.0</td>\n",
       "      <td>0.0</td>\n",
       "      <td>0.0</td>\n",
       "    </tr>\n",
       "    <tr>\n",
       "      <th>4</th>\n",
       "      <td>0.0</td>\n",
       "      <td>0.0</td>\n",
       "      <td>0.0</td>\n",
       "      <td>0.0</td>\n",
       "      <td>0.0</td>\n",
       "      <td>1.0</td>\n",
       "      <td>0.0</td>\n",
       "      <td>0.0</td>\n",
       "      <td>0.0</td>\n",
       "    </tr>\n",
       "    <tr>\n",
       "      <th>...</th>\n",
       "      <td>...</td>\n",
       "      <td>...</td>\n",
       "      <td>...</td>\n",
       "      <td>...</td>\n",
       "      <td>...</td>\n",
       "      <td>...</td>\n",
       "      <td>...</td>\n",
       "      <td>...</td>\n",
       "      <td>...</td>\n",
       "    </tr>\n",
       "    <tr>\n",
       "      <th>19914</th>\n",
       "      <td>0.0</td>\n",
       "      <td>0.0</td>\n",
       "      <td>0.0</td>\n",
       "      <td>0.0</td>\n",
       "      <td>0.0</td>\n",
       "      <td>0.0</td>\n",
       "      <td>1.0</td>\n",
       "      <td>0.0</td>\n",
       "      <td>0.0</td>\n",
       "    </tr>\n",
       "    <tr>\n",
       "      <th>19915</th>\n",
       "      <td>0.0</td>\n",
       "      <td>0.0</td>\n",
       "      <td>0.0</td>\n",
       "      <td>0.0</td>\n",
       "      <td>0.0</td>\n",
       "      <td>0.0</td>\n",
       "      <td>1.0</td>\n",
       "      <td>0.0</td>\n",
       "      <td>0.0</td>\n",
       "    </tr>\n",
       "    <tr>\n",
       "      <th>19916</th>\n",
       "      <td>0.0</td>\n",
       "      <td>0.0</td>\n",
       "      <td>0.0</td>\n",
       "      <td>0.0</td>\n",
       "      <td>0.0</td>\n",
       "      <td>0.0</td>\n",
       "      <td>1.0</td>\n",
       "      <td>0.0</td>\n",
       "      <td>0.0</td>\n",
       "    </tr>\n",
       "    <tr>\n",
       "      <th>19917</th>\n",
       "      <td>0.0</td>\n",
       "      <td>0.0</td>\n",
       "      <td>0.0</td>\n",
       "      <td>0.0</td>\n",
       "      <td>0.0</td>\n",
       "      <td>0.0</td>\n",
       "      <td>1.0</td>\n",
       "      <td>0.0</td>\n",
       "      <td>0.0</td>\n",
       "    </tr>\n",
       "    <tr>\n",
       "      <th>19918</th>\n",
       "      <td>0.0</td>\n",
       "      <td>0.0</td>\n",
       "      <td>0.0</td>\n",
       "      <td>0.0</td>\n",
       "      <td>0.0</td>\n",
       "      <td>0.0</td>\n",
       "      <td>1.0</td>\n",
       "      <td>0.0</td>\n",
       "      <td>0.0</td>\n",
       "    </tr>\n",
       "  </tbody>\n",
       "</table>\n",
       "<p>19919 rows × 9 columns</p>\n",
       "</div>"
      ],
      "text/plain": [
       "       Division_Agriculture, Forestry and Fishing  Division_Construction  \\\n",
       "0                                             0.0                    0.0   \n",
       "1                                             0.0                    0.0   \n",
       "2                                             0.0                    0.0   \n",
       "3                                             0.0                    0.0   \n",
       "4                                             0.0                    0.0   \n",
       "...                                           ...                    ...   \n",
       "19914                                         0.0                    0.0   \n",
       "19915                                         0.0                    0.0   \n",
       "19916                                         0.0                    0.0   \n",
       "19917                                         0.0                    0.0   \n",
       "19918                                         0.0                    0.0   \n",
       "\n",
       "       Division_Finance, Insurance and Real Estate  Division_Manufacturing  \\\n",
       "0                                              0.0                     0.0   \n",
       "1                                              0.0                     0.0   \n",
       "2                                              0.0                     0.0   \n",
       "3                                              0.0                     0.0   \n",
       "4                                              0.0                     0.0   \n",
       "...                                            ...                     ...   \n",
       "19914                                          0.0                     0.0   \n",
       "19915                                          0.0                     0.0   \n",
       "19916                                          0.0                     0.0   \n",
       "19917                                          0.0                     0.0   \n",
       "19918                                          0.0                     0.0   \n",
       "\n",
       "       Division_Mining  Division_Retail Trade  Division_Services  \\\n",
       "0                  0.0                    1.0                0.0   \n",
       "1                  0.0                    1.0                0.0   \n",
       "2                  0.0                    1.0                0.0   \n",
       "3                  0.0                    1.0                0.0   \n",
       "4                  0.0                    1.0                0.0   \n",
       "...                ...                    ...                ...   \n",
       "19914              0.0                    0.0                1.0   \n",
       "19915              0.0                    0.0                1.0   \n",
       "19916              0.0                    0.0                1.0   \n",
       "19917              0.0                    0.0                1.0   \n",
       "19918              0.0                    0.0                1.0   \n",
       "\n",
       "       Division_Transportation, Communications, Electric, Gas and Sanitary service  \\\n",
       "0                                                    0.0                             \n",
       "1                                                    0.0                             \n",
       "2                                                    0.0                             \n",
       "3                                                    0.0                             \n",
       "4                                                    0.0                             \n",
       "...                                                  ...                             \n",
       "19914                                                0.0                             \n",
       "19915                                                0.0                             \n",
       "19916                                                0.0                             \n",
       "19917                                                0.0                             \n",
       "19918                                                0.0                             \n",
       "\n",
       "       Division_Wholesale Trade  \n",
       "0                           0.0  \n",
       "1                           0.0  \n",
       "2                           0.0  \n",
       "3                           0.0  \n",
       "4                           0.0  \n",
       "...                         ...  \n",
       "19914                       0.0  \n",
       "19915                       0.0  \n",
       "19916                       0.0  \n",
       "19917                       0.0  \n",
       "19918                       0.0  \n",
       "\n",
       "[19919 rows x 9 columns]"
      ]
     },
     "execution_count": 90,
     "metadata": {},
     "output_type": "execute_result"
    }
   ],
   "source": [
    "# one hot encoding for the industry division\n",
    "\n",
    "div_code = model_ready[['Division']]\n",
    "\n",
    "one = OneHotEncoder(sparse=False)\n",
    "one.fit(div_code)\n",
    "cats = one.transform(div_code)\n",
    "\n",
    "columns = one.get_feature_names(['Division'])\n",
    "div_code_df = pd.DataFrame(cats, columns=columns, index=div_code.index)\n",
    "\n",
    "div_code_df"
   ]
  },
  {
   "cell_type": "code",
   "execution_count": 91,
   "id": "broad-mathematics",
   "metadata": {},
   "outputs": [
    {
     "data": {
      "text/plain": [
       "(19919, 73)"
      ]
     },
     "execution_count": 91,
     "metadata": {},
     "output_type": "execute_result"
    }
   ],
   "source": [
    "rfm_ready = pd.concat([model_ready, div_code_df], axis=1)\n",
    "rfm_ready.shape"
   ]
  },
  {
   "cell_type": "code",
   "execution_count": 92,
   "id": "suited-backup",
   "metadata": {},
   "outputs": [],
   "source": [
    "rfm_w_dev = rfm_ready.copy()"
   ]
  },
  {
   "cell_type": "code",
   "execution_count": 93,
   "id": "prescribed-protocol",
   "metadata": {},
   "outputs": [
    {
     "data": {
      "text/html": [
       "<div>\n",
       "<style scoped>\n",
       "    .dataframe tbody tr th:only-of-type {\n",
       "        vertical-align: middle;\n",
       "    }\n",
       "\n",
       "    .dataframe tbody tr th {\n",
       "        vertical-align: top;\n",
       "    }\n",
       "\n",
       "    .dataframe thead th {\n",
       "        text-align: right;\n",
       "    }\n",
       "</style>\n",
       "<table border=\"1\" class=\"dataframe\">\n",
       "  <thead>\n",
       "    <tr style=\"text-align: right;\">\n",
       "      <th></th>\n",
       "      <th>company_name</th>\n",
       "      <th>FULL_NAME</th>\n",
       "      <th>period_end_date</th>\n",
       "      <th>submission_number</th>\n",
       "      <th>central_index_key</th>\n",
       "      <th>ein</th>\n",
       "      <th>sic</th>\n",
       "      <th>fiscal_year_end</th>\n",
       "      <th>fiscal_year</th>\n",
       "      <th>form</th>\n",
       "      <th>...</th>\n",
       "      <th>EarningsPerShareDiluted_Dev_Division</th>\n",
       "      <th>Division_Agriculture, Forestry and Fishing</th>\n",
       "      <th>Division_Construction</th>\n",
       "      <th>Division_Finance, Insurance and Real Estate</th>\n",
       "      <th>Division_Manufacturing</th>\n",
       "      <th>Division_Mining</th>\n",
       "      <th>Division_Retail Trade</th>\n",
       "      <th>Division_Services</th>\n",
       "      <th>Division_Transportation, Communications, Electric, Gas and Sanitary service</th>\n",
       "      <th>Division_Wholesale Trade</th>\n",
       "    </tr>\n",
       "  </thead>\n",
       "  <tbody>\n",
       "    <tr>\n",
       "      <th>0</th>\n",
       "      <td>1 800 FLOWERS COM INC</td>\n",
       "      <td>NaN</td>\n",
       "      <td>2014-06-30</td>\n",
       "      <td>0001437749-17-015969</td>\n",
       "      <td>1084869</td>\n",
       "      <td>113117311</td>\n",
       "      <td>5990</td>\n",
       "      <td>630</td>\n",
       "      <td>2017</td>\n",
       "      <td>10-K</td>\n",
       "      <td>...</td>\n",
       "      <td>-0.346590</td>\n",
       "      <td>0.0</td>\n",
       "      <td>0.0</td>\n",
       "      <td>0.0</td>\n",
       "      <td>0.0</td>\n",
       "      <td>0.0</td>\n",
       "      <td>1.0</td>\n",
       "      <td>0.0</td>\n",
       "      <td>0.0</td>\n",
       "      <td>0.0</td>\n",
       "    </tr>\n",
       "    <tr>\n",
       "      <th>1</th>\n",
       "      <td>1 800 FLOWERS COM INC</td>\n",
       "      <td>NaN</td>\n",
       "      <td>2015-06-30</td>\n",
       "      <td>0001437749-18-017027</td>\n",
       "      <td>1084869</td>\n",
       "      <td>113117311</td>\n",
       "      <td>5990</td>\n",
       "      <td>630</td>\n",
       "      <td>2018</td>\n",
       "      <td>10-K</td>\n",
       "      <td>...</td>\n",
       "      <td>-0.331731</td>\n",
       "      <td>0.0</td>\n",
       "      <td>0.0</td>\n",
       "      <td>0.0</td>\n",
       "      <td>0.0</td>\n",
       "      <td>0.0</td>\n",
       "      <td>1.0</td>\n",
       "      <td>0.0</td>\n",
       "      <td>0.0</td>\n",
       "      <td>0.0</td>\n",
       "    </tr>\n",
       "    <tr>\n",
       "      <th>2</th>\n",
       "      <td>1 800 FLOWERS COM INC</td>\n",
       "      <td>NaN</td>\n",
       "      <td>2016-06-30</td>\n",
       "      <td>0001437749-19-018360</td>\n",
       "      <td>1084869</td>\n",
       "      <td>113117311</td>\n",
       "      <td>5990</td>\n",
       "      <td>630</td>\n",
       "      <td>2019</td>\n",
       "      <td>10-K</td>\n",
       "      <td>...</td>\n",
       "      <td>-0.278665</td>\n",
       "      <td>0.0</td>\n",
       "      <td>0.0</td>\n",
       "      <td>0.0</td>\n",
       "      <td>0.0</td>\n",
       "      <td>0.0</td>\n",
       "      <td>1.0</td>\n",
       "      <td>0.0</td>\n",
       "      <td>0.0</td>\n",
       "      <td>0.0</td>\n",
       "    </tr>\n",
       "    <tr>\n",
       "      <th>3</th>\n",
       "      <td>1 800 FLOWERS COM INC</td>\n",
       "      <td>NaN</td>\n",
       "      <td>2017-06-30</td>\n",
       "      <td>0001437749-19-018360</td>\n",
       "      <td>1084869</td>\n",
       "      <td>113117311</td>\n",
       "      <td>5990</td>\n",
       "      <td>630</td>\n",
       "      <td>2019</td>\n",
       "      <td>10-K</td>\n",
       "      <td>...</td>\n",
       "      <td>-0.257438</td>\n",
       "      <td>0.0</td>\n",
       "      <td>0.0</td>\n",
       "      <td>0.0</td>\n",
       "      <td>0.0</td>\n",
       "      <td>0.0</td>\n",
       "      <td>1.0</td>\n",
       "      <td>0.0</td>\n",
       "      <td>0.0</td>\n",
       "      <td>0.0</td>\n",
       "    </tr>\n",
       "    <tr>\n",
       "      <th>4</th>\n",
       "      <td>1 800 FLOWERS COM INC</td>\n",
       "      <td>NaN</td>\n",
       "      <td>2018-06-30</td>\n",
       "      <td>0001437749-19-018360</td>\n",
       "      <td>1084869</td>\n",
       "      <td>113117311</td>\n",
       "      <td>5990</td>\n",
       "      <td>630</td>\n",
       "      <td>2019</td>\n",
       "      <td>10-K</td>\n",
       "      <td>...</td>\n",
       "      <td>-0.265929</td>\n",
       "      <td>0.0</td>\n",
       "      <td>0.0</td>\n",
       "      <td>0.0</td>\n",
       "      <td>0.0</td>\n",
       "      <td>0.0</td>\n",
       "      <td>1.0</td>\n",
       "      <td>0.0</td>\n",
       "      <td>0.0</td>\n",
       "      <td>0.0</td>\n",
       "    </tr>\n",
       "  </tbody>\n",
       "</table>\n",
       "<p>5 rows × 73 columns</p>\n",
       "</div>"
      ],
      "text/plain": [
       "            company_name FULL_NAME period_end_date     submission_number  \\\n",
       "0  1 800 FLOWERS COM INC       NaN      2014-06-30  0001437749-17-015969   \n",
       "1  1 800 FLOWERS COM INC       NaN      2015-06-30  0001437749-18-017027   \n",
       "2  1 800 FLOWERS COM INC       NaN      2016-06-30  0001437749-19-018360   \n",
       "3  1 800 FLOWERS COM INC       NaN      2017-06-30  0001437749-19-018360   \n",
       "4  1 800 FLOWERS COM INC       NaN      2018-06-30  0001437749-19-018360   \n",
       "\n",
       "  central_index_key        ein   sic  fiscal_year_end  fiscal_year  form  ...  \\\n",
       "0           1084869  113117311  5990              630         2017  10-K  ...   \n",
       "1           1084869  113117311  5990              630         2018  10-K  ...   \n",
       "2           1084869  113117311  5990              630         2019  10-K  ...   \n",
       "3           1084869  113117311  5990              630         2019  10-K  ...   \n",
       "4           1084869  113117311  5990              630         2019  10-K  ...   \n",
       "\n",
       "  EarningsPerShareDiluted_Dev_Division  \\\n",
       "0                            -0.346590   \n",
       "1                            -0.331731   \n",
       "2                            -0.278665   \n",
       "3                            -0.257438   \n",
       "4                            -0.265929   \n",
       "\n",
       "  Division_Agriculture, Forestry and Fishing Division_Construction  \\\n",
       "0                                        0.0                   0.0   \n",
       "1                                        0.0                   0.0   \n",
       "2                                        0.0                   0.0   \n",
       "3                                        0.0                   0.0   \n",
       "4                                        0.0                   0.0   \n",
       "\n",
       "  Division_Finance, Insurance and Real Estate Division_Manufacturing  \\\n",
       "0                                         0.0                    0.0   \n",
       "1                                         0.0                    0.0   \n",
       "2                                         0.0                    0.0   \n",
       "3                                         0.0                    0.0   \n",
       "4                                         0.0                    0.0   \n",
       "\n",
       "   Division_Mining  Division_Retail Trade  Division_Services  \\\n",
       "0              0.0                    1.0                0.0   \n",
       "1              0.0                    1.0                0.0   \n",
       "2              0.0                    1.0                0.0   \n",
       "3              0.0                    1.0                0.0   \n",
       "4              0.0                    1.0                0.0   \n",
       "\n",
       "   Division_Transportation, Communications, Electric, Gas and Sanitary service  \\\n",
       "0                                                0.0                             \n",
       "1                                                0.0                             \n",
       "2                                                0.0                             \n",
       "3                                                0.0                             \n",
       "4                                                0.0                             \n",
       "\n",
       "   Division_Wholesale Trade  \n",
       "0                       0.0  \n",
       "1                       0.0  \n",
       "2                       0.0  \n",
       "3                       0.0  \n",
       "4                       0.0  \n",
       "\n",
       "[5 rows x 73 columns]"
      ]
     },
     "execution_count": 93,
     "metadata": {},
     "output_type": "execute_result"
    }
   ],
   "source": [
    "rfm_w_dev.head()"
   ]
  },
  {
   "cell_type": "code",
   "execution_count": 95,
   "id": "directed-incident",
   "metadata": {},
   "outputs": [],
   "source": [
    "#rfm_w_dev.columns"
   ]
  },
  {
   "cell_type": "code",
   "execution_count": null,
   "id": "harmful-eligibility",
   "metadata": {},
   "outputs": [],
   "source": [
    "## MAKE 3 training and validation sets\n",
    "## training 2014 and 2015 data, val on 2016\n",
    "## training 2015 and 2016 data, val on 2017\n",
    "## training 2016 and 2017 data, val on 2018\n"
   ]
  },
  {
   "cell_type": "code",
   "execution_count": 96,
   "id": "imported-remark",
   "metadata": {},
   "outputs": [
    {
     "name": "stdout",
     "output_type": "stream",
     "text": [
      "train_1 2014-01-31 00:00:00 2015-12-31 00:00:00\n",
      "val_1 2016-01-31 00:00:00 2016-12-31 00:00:00\n"
     ]
    }
   ],
   "source": [
    "train_1 = rfm_w_dev[rfm_w_dev['period_end_date'] < datetime.datetime(2016,1,1)]\n",
    "val_1 = rfm_w_dev[(rfm_w_dev['period_end_date'] > datetime.datetime(2015,12,31) ) & (rfm_w_dev['period_end_date'] < datetime.datetime(2017,1,1) ) ]\n",
    "                                                                                   \n",
    "print('train_1', min(train_1.period_end_date), max(train_1.period_end_date))     \n",
    "print('val_1',min(val_1.period_end_date), max(val_1.period_end_date))    "
   ]
  },
  {
   "cell_type": "code",
   "execution_count": 97,
   "id": "continental-belief",
   "metadata": {},
   "outputs": [
    {
     "name": "stdout",
     "output_type": "stream",
     "text": [
      "train_2 2015-01-31 00:00:00 2016-12-31 00:00:00\n",
      "val_2 2017-01-31 00:00:00 2017-12-31 00:00:00\n"
     ]
    }
   ],
   "source": [
    "train_2= rfm_w_dev[(rfm_w_dev['period_end_date'] > datetime.datetime(2014,12,31) ) & (rfm_w_dev['period_end_date'] < datetime.datetime(2017,1,1) )]\n",
    "val_2 = rfm_w_dev[(rfm_w_dev['period_end_date'] > datetime.datetime(2016,12,31) ) & (rfm_w_dev['period_end_date'] < datetime.datetime(2018,1,1) ) ]\n",
    "\n",
    "print('train_2', min(train_2.period_end_date), max(train_2.period_end_date))     \n",
    "print('val_2',min(val_2.period_end_date), max(val_2.period_end_date))   "
   ]
  },
  {
   "cell_type": "code",
   "execution_count": 98,
   "id": "white-purpose",
   "metadata": {},
   "outputs": [
    {
     "name": "stdout",
     "output_type": "stream",
     "text": [
      "train_3 2016-01-31 00:00:00 2017-12-31 00:00:00\n",
      "val_3 2018-01-31 00:00:00 2018-12-31 00:00:00\n"
     ]
    }
   ],
   "source": [
    "train_3= rfm_w_dev[(rfm_w_dev['period_end_date'] > datetime.datetime(2015,12,31) ) & (rfm_w_dev['period_end_date'] < datetime.datetime(2018,1,1) )]\n",
    "val_3 = rfm_w_dev[(rfm_w_dev['period_end_date'] > datetime.datetime(2017,12,31) ) & (rfm_w_dev['period_end_date'] < datetime.datetime(2019,1,1) )]\n",
    "\n",
    "print('train_3', min(train_3.period_end_date), max(train_3.period_end_date))     \n",
    "print('val_3',min(val_3.period_end_date), max(val_3.period_end_date))   "
   ]
  },
  {
   "cell_type": "code",
   "execution_count": 164,
   "id": "entire-martial",
   "metadata": {},
   "outputs": [],
   "source": [
    "feature_list = ['debt_ratio', 'debt_equity_ratio',\n",
    "       'current_ratio', 'leverage', 'return_on_equity', 'return_on_assets',\n",
    "       'EarningsPerShareDiluted', 'ratio_2', 'Assets_MM', 'AssetsCurrent_MM',\n",
    "       'Libilities_MM', 'LibilitiesCurrent_MM', 'NetIncomeLoss_MM',\n",
    "       'StockholdersEquity_MM', 'OperatingIncomeLoss_MM', \n",
    "       'Division_Agriculture, Forestry and Fishing', 'Division_Construction',          \n",
    "        'Division_Finance, Insurance and Real Estate', \n",
    "        'Division_Manufacturing', 'Division_Mining', 'Division_Retail Trade', \n",
    "        'Division_Services', 'Division_Wholesale Trade',\n",
    "        'Division_Transportation, Communications, Electric, Gas and Sanitary service', \n",
    "       'debt_ratio_Dev_Division',\n",
    "       'debt_equity_ratio_Dev_Division', 'current_ratio_Dev_Division',\n",
    "       'leverage_Dev_Division', 'return_on_equity_Dev_Division',\n",
    "       'return_on_assets_Dev_Division', 'ratio_2_Dev_Division',\n",
    "       'EarningsPerShareDiluted_Dev_Division']"
   ]
  },
  {
   "cell_type": "code",
   "execution_count": 127,
   "id": "developmental-mileage",
   "metadata": {},
   "outputs": [],
   "source": [
    "X_train1 = train_1[feature_list]\n",
    "y_train1 = train_1['target']"
   ]
  },
  {
   "cell_type": "code",
   "execution_count": 128,
   "id": "casual-intersection",
   "metadata": {},
   "outputs": [],
   "source": [
    "X_val1 = val_1[feature_list]\n",
    "y_val1 = val_1['target']"
   ]
  },
  {
   "cell_type": "code",
   "execution_count": 129,
   "id": "western-component",
   "metadata": {},
   "outputs": [],
   "source": [
    "X_train2 = train_2[feature_list]\n",
    "y_train2 = train_2['target']"
   ]
  },
  {
   "cell_type": "code",
   "execution_count": 130,
   "id": "economic-ground",
   "metadata": {},
   "outputs": [],
   "source": [
    "X_val2 = val_2[feature_list]\n",
    "y_val2 = val_2['target']"
   ]
  },
  {
   "cell_type": "code",
   "execution_count": 131,
   "id": "convertible-accordance",
   "metadata": {},
   "outputs": [],
   "source": [
    "X_train3 = train_3[feature_list]\n",
    "y_train3 = train_3['target']"
   ]
  },
  {
   "cell_type": "code",
   "execution_count": 132,
   "id": "lovely-restoration",
   "metadata": {},
   "outputs": [],
   "source": [
    "X_val3 = val_3[feature_list]\n",
    "y_val3 = val_3['target']"
   ]
  },
  {
   "cell_type": "code",
   "execution_count": 133,
   "id": "lyric-federation",
   "metadata": {},
   "outputs": [
    {
     "data": {
      "text/plain": [
       "array([[3869,   37],\n",
       "       [  28,   17]])"
      ]
     },
     "execution_count": 133,
     "metadata": {},
     "output_type": "execute_result"
    }
   ],
   "source": [
    "# 1\n",
    "# training 2014 and 2015 data, val on 2016\n",
    "\n",
    "#balance the training set classes\n",
    "X_smoted, y_smoted = SMOTE(random_state=47).fit_sample(X_train1, y_train1)\n",
    "\n",
    "\n",
    "#Random Forest\n",
    "randomforest = RandomForestClassifier(n_estimators=100)\n",
    "\n",
    "randomforest.fit(X_smoted, y_smoted)\n",
    "\n",
    "y_pred = randomforest.predict(X_val1)\n",
    "\n",
    "rf_confusion = confusion_matrix(y_val1, y_pred)\n",
    "\n",
    "rf_confusion"
   ]
  },
  {
   "cell_type": "code",
   "execution_count": 134,
   "id": "completed-business",
   "metadata": {},
   "outputs": [
    {
     "data": {
      "text/plain": [
       "array([[3833,   25],\n",
       "       [  35,    7]])"
      ]
     },
     "execution_count": 134,
     "metadata": {},
     "output_type": "execute_result"
    }
   ],
   "source": [
    "# 2\n",
    "# training 2015 and 2016 data, val on 2017\n",
    "\n",
    "#balance the training set classes\n",
    "X_smoted, y_smoted = SMOTE(random_state=47).fit_sample(X_train2, y_train2)\n",
    "\n",
    "\n",
    "#Random Forest\n",
    "randomforest = RandomForestClassifier(n_estimators=100)\n",
    "\n",
    "randomforest.fit(X_smoted, y_smoted)\n",
    "\n",
    "y_pred = randomforest.predict(X_val2)\n",
    "\n",
    "rf_confusion = confusion_matrix(y_val2, y_pred)\n",
    "\n",
    "rf_confusion"
   ]
  },
  {
   "cell_type": "code",
   "execution_count": 135,
   "id": "personal-orleans",
   "metadata": {},
   "outputs": [
    {
     "data": {
      "text/plain": [
       "array([[3619,   24],\n",
       "       [  46,    9]])"
      ]
     },
     "execution_count": 135,
     "metadata": {},
     "output_type": "execute_result"
    }
   ],
   "source": [
    "# 3\n",
    "# training 2016 and 2017 data, val on 2018\n",
    "\n",
    "#balance the training set classes\n",
    "X_smoted, y_smoted = SMOTE(random_state=47).fit_sample(X_train3, y_train3)\n",
    "\n",
    "\n",
    "#Random Forest\n",
    "randomforest = RandomForestClassifier(n_estimators=100)\n",
    "\n",
    "randomforest.fit(X_smoted, y_smoted)\n",
    "\n",
    "y_pred = randomforest.predict(X_val3)\n",
    "\n",
    "rf_confusion = confusion_matrix(y_val3, y_pred)\n",
    "\n",
    "rf_confusion"
   ]
  },
  {
   "cell_type": "code",
   "execution_count": null,
   "id": "chief-pasta",
   "metadata": {},
   "outputs": [],
   "source": [
    "#####################"
   ]
  },
  {
   "cell_type": "code",
   "execution_count": 160,
   "id": "handled-lecture",
   "metadata": {},
   "outputs": [
    {
     "data": {
      "text/html": [
       "<div>\n",
       "<style scoped>\n",
       "    .dataframe tbody tr th:only-of-type {\n",
       "        vertical-align: middle;\n",
       "    }\n",
       "\n",
       "    .dataframe tbody tr th {\n",
       "        vertical-align: top;\n",
       "    }\n",
       "\n",
       "    .dataframe thead th {\n",
       "        text-align: right;\n",
       "    }\n",
       "</style>\n",
       "<table border=\"1\" class=\"dataframe\">\n",
       "  <thead>\n",
       "    <tr style=\"text-align: right;\">\n",
       "      <th></th>\n",
       "      <th>company_name</th>\n",
       "      <th>FULL_NAME</th>\n",
       "      <th>period_end_date</th>\n",
       "      <th>submission_number</th>\n",
       "      <th>central_index_key</th>\n",
       "      <th>ein</th>\n",
       "      <th>sic</th>\n",
       "      <th>fiscal_year_end</th>\n",
       "      <th>fiscal_year</th>\n",
       "      <th>form</th>\n",
       "      <th>...</th>\n",
       "      <th>EarningsPerShareDiluted_Dev_Division</th>\n",
       "      <th>Division_Agriculture, Forestry and Fishing</th>\n",
       "      <th>Division_Construction</th>\n",
       "      <th>Division_Finance, Insurance and Real Estate</th>\n",
       "      <th>Division_Manufacturing</th>\n",
       "      <th>Division_Mining</th>\n",
       "      <th>Division_Retail Trade</th>\n",
       "      <th>Division_Services</th>\n",
       "      <th>Division_Transportation, Communications, Electric, Gas and Sanitary service</th>\n",
       "      <th>Division_Wholesale Trade</th>\n",
       "    </tr>\n",
       "  </thead>\n",
       "  <tbody>\n",
       "    <tr>\n",
       "      <th>0</th>\n",
       "      <td>1 800 FLOWERS COM INC</td>\n",
       "      <td>NaN</td>\n",
       "      <td>2019-06-30</td>\n",
       "      <td>0001437749-19-018360</td>\n",
       "      <td>1084869</td>\n",
       "      <td>113117311</td>\n",
       "      <td>5990</td>\n",
       "      <td>630.0</td>\n",
       "      <td>2019</td>\n",
       "      <td>10-K</td>\n",
       "      <td>...</td>\n",
       "      <td>-0.309841</td>\n",
       "      <td>0.0</td>\n",
       "      <td>0.0</td>\n",
       "      <td>0.0</td>\n",
       "      <td>0.0</td>\n",
       "      <td>0.0</td>\n",
       "      <td>1.0</td>\n",
       "      <td>0.0</td>\n",
       "      <td>0.0</td>\n",
       "      <td>0.0</td>\n",
       "    </tr>\n",
       "    <tr>\n",
       "      <th>1</th>\n",
       "      <td>10X GENOMICS, INC.</td>\n",
       "      <td>NaN</td>\n",
       "      <td>2019-12-31</td>\n",
       "      <td>0001193125-20-052640</td>\n",
       "      <td>1770787</td>\n",
       "      <td>455614458</td>\n",
       "      <td>3826</td>\n",
       "      <td>NaN</td>\n",
       "      <td>2019</td>\n",
       "      <td>10-K</td>\n",
       "      <td>...</td>\n",
       "      <td>-999999.000000</td>\n",
       "      <td>0.0</td>\n",
       "      <td>0.0</td>\n",
       "      <td>0.0</td>\n",
       "      <td>1.0</td>\n",
       "      <td>0.0</td>\n",
       "      <td>0.0</td>\n",
       "      <td>0.0</td>\n",
       "      <td>0.0</td>\n",
       "      <td>0.0</td>\n",
       "    </tr>\n",
       "    <tr>\n",
       "      <th>2</th>\n",
       "      <td>1347 PROPERTY INSURANCE HOLDINGS, INC.</td>\n",
       "      <td>NaN</td>\n",
       "      <td>2019-12-31</td>\n",
       "      <td>0001493152-20-005206</td>\n",
       "      <td>1591890</td>\n",
       "      <td>461119100</td>\n",
       "      <td>6331</td>\n",
       "      <td>NaN</td>\n",
       "      <td>2019</td>\n",
       "      <td>10-K</td>\n",
       "      <td>...</td>\n",
       "      <td>-999999.000000</td>\n",
       "      <td>0.0</td>\n",
       "      <td>0.0</td>\n",
       "      <td>1.0</td>\n",
       "      <td>0.0</td>\n",
       "      <td>0.0</td>\n",
       "      <td>0.0</td>\n",
       "      <td>0.0</td>\n",
       "      <td>0.0</td>\n",
       "      <td>0.0</td>\n",
       "    </tr>\n",
       "    <tr>\n",
       "      <th>3</th>\n",
       "      <td>1895 BANCORP OF WISCONSIN, INC.</td>\n",
       "      <td>NaN</td>\n",
       "      <td>2019-12-31</td>\n",
       "      <td>0001564590-20-014188</td>\n",
       "      <td>1751692</td>\n",
       "      <td>000000000</td>\n",
       "      <td>6036</td>\n",
       "      <td>NaN</td>\n",
       "      <td>2019</td>\n",
       "      <td>10-K</td>\n",
       "      <td>...</td>\n",
       "      <td>-0.521361</td>\n",
       "      <td>0.0</td>\n",
       "      <td>0.0</td>\n",
       "      <td>1.0</td>\n",
       "      <td>0.0</td>\n",
       "      <td>0.0</td>\n",
       "      <td>0.0</td>\n",
       "      <td>0.0</td>\n",
       "      <td>0.0</td>\n",
       "      <td>0.0</td>\n",
       "    </tr>\n",
       "    <tr>\n",
       "      <th>4</th>\n",
       "      <td>1LIFE HEALTHCARE INC</td>\n",
       "      <td>NaN</td>\n",
       "      <td>2019-12-31</td>\n",
       "      <td>0001564590-20-013666</td>\n",
       "      <td>1404123</td>\n",
       "      <td>760707204</td>\n",
       "      <td>8011</td>\n",
       "      <td>NaN</td>\n",
       "      <td>2019</td>\n",
       "      <td>10-K</td>\n",
       "      <td>...</td>\n",
       "      <td>-999999.000000</td>\n",
       "      <td>0.0</td>\n",
       "      <td>0.0</td>\n",
       "      <td>0.0</td>\n",
       "      <td>0.0</td>\n",
       "      <td>0.0</td>\n",
       "      <td>0.0</td>\n",
       "      <td>1.0</td>\n",
       "      <td>0.0</td>\n",
       "      <td>0.0</td>\n",
       "    </tr>\n",
       "  </tbody>\n",
       "</table>\n",
       "<p>5 rows × 69 columns</p>\n",
       "</div>"
      ],
      "text/plain": [
       "                             company_name FULL_NAME period_end_date  \\\n",
       "0                   1 800 FLOWERS COM INC       NaN      2019-06-30   \n",
       "1                      10X GENOMICS, INC.       NaN      2019-12-31   \n",
       "2  1347 PROPERTY INSURANCE HOLDINGS, INC.       NaN      2019-12-31   \n",
       "3         1895 BANCORP OF WISCONSIN, INC.       NaN      2019-12-31   \n",
       "4                    1LIFE HEALTHCARE INC       NaN      2019-12-31   \n",
       "\n",
       "      submission_number central_index_key        ein   sic  fiscal_year_end  \\\n",
       "0  0001437749-19-018360           1084869  113117311  5990            630.0   \n",
       "1  0001193125-20-052640           1770787  455614458  3826              NaN   \n",
       "2  0001493152-20-005206           1591890  461119100  6331              NaN   \n",
       "3  0001564590-20-014188           1751692  000000000  6036              NaN   \n",
       "4  0001564590-20-013666           1404123  760707204  8011              NaN   \n",
       "\n",
       "  fiscal_year  form  ... EarningsPerShareDiluted_Dev_Division  \\\n",
       "0        2019  10-K  ...                            -0.309841   \n",
       "1        2019  10-K  ...                       -999999.000000   \n",
       "2        2019  10-K  ...                       -999999.000000   \n",
       "3        2019  10-K  ...                            -0.521361   \n",
       "4        2019  10-K  ...                       -999999.000000   \n",
       "\n",
       "  Division_Agriculture, Forestry and Fishing Division_Construction  \\\n",
       "0                                        0.0                   0.0   \n",
       "1                                        0.0                   0.0   \n",
       "2                                        0.0                   0.0   \n",
       "3                                        0.0                   0.0   \n",
       "4                                        0.0                   0.0   \n",
       "\n",
       "  Division_Finance, Insurance and Real Estate Division_Manufacturing  \\\n",
       "0                                         0.0                    0.0   \n",
       "1                                         0.0                    1.0   \n",
       "2                                         1.0                    0.0   \n",
       "3                                         1.0                    0.0   \n",
       "4                                         0.0                    0.0   \n",
       "\n",
       "   Division_Mining  Division_Retail Trade  Division_Services  \\\n",
       "0              0.0                    1.0                0.0   \n",
       "1              0.0                    0.0                0.0   \n",
       "2              0.0                    0.0                0.0   \n",
       "3              0.0                    0.0                0.0   \n",
       "4              0.0                    0.0                1.0   \n",
       "\n",
       "   Division_Transportation, Communications, Electric, Gas and Sanitary service  \\\n",
       "0                                                0.0                             \n",
       "1                                                0.0                             \n",
       "2                                                0.0                             \n",
       "3                                                0.0                             \n",
       "4                                                0.0                             \n",
       "\n",
       "   Division_Wholesale Trade  \n",
       "0                       0.0  \n",
       "1                       0.0  \n",
       "2                       0.0  \n",
       "3                       0.0  \n",
       "4                       0.0  \n",
       "\n",
       "[5 rows x 69 columns]"
      ]
     },
     "execution_count": 160,
     "metadata": {},
     "output_type": "execute_result"
    }
   ],
   "source": [
    "with open('test_rfm_ready.pickle', 'rb') as read_file:\n",
    "    test_rfm_ready = pickle.load(read_file)\n",
    "    \n",
    "test_rfm_ready.head()"
   ]
  },
  {
   "cell_type": "code",
   "execution_count": 186,
   "id": "satisfied-column",
   "metadata": {},
   "outputs": [
    {
     "data": {
      "text/plain": [
       "RandomForestClassifier()"
      ]
     },
     "execution_count": 186,
     "metadata": {},
     "output_type": "execute_result"
    }
   ],
   "source": [
    "# FINAL MODEL  \n",
    "# Train on all 2014-2018\n",
    "# test against 2019 financial filings\n",
    "\n",
    "X_train = rfm_w_dev[feature_list]\n",
    "y_train = rfm_w_dev['target']\n",
    "\n",
    "#balance the training set classes\n",
    "X_smoted, y_smoted = SMOTE(random_state=47).fit_sample(X_train, y_train)\n",
    "\n",
    "#Random Forest\n",
    "randomforest = RandomForestClassifier(n_estimators=100)\n",
    "\n",
    "randomforest.fit(X_smoted, y_smoted)"
   ]
  },
  {
   "cell_type": "code",
   "execution_count": 187,
   "id": "about-yeast",
   "metadata": {},
   "outputs": [],
   "source": [
    "X_test = test_rfm_ready[feature_list]\n",
    "y_test = test_rfm_ready['target']"
   ]
  },
  {
   "cell_type": "code",
   "execution_count": 188,
   "id": "involved-prince",
   "metadata": {},
   "outputs": [
    {
     "data": {
      "text/plain": [
       "array([[3403,   36],\n",
       "       [  34,   14]])"
      ]
     },
     "execution_count": 188,
     "metadata": {},
     "output_type": "execute_result"
    }
   ],
   "source": [
    "y_pred = randomforest.predict(X_test)\n",
    "\n",
    "rf_confusion = confusion_matrix(y_test, y_pred)\n",
    "\n",
    "rf_confusion"
   ]
  },
  {
   "cell_type": "code",
   "execution_count": 189,
   "id": "delayed-topic",
   "metadata": {},
   "outputs": [],
   "source": [
    "test_rfm_ready['y_prediction'] = pd.Series(y_pred)"
   ]
  },
  {
   "cell_type": "code",
   "execution_count": 190,
   "id": "asian-england",
   "metadata": {},
   "outputs": [],
   "source": [
    "test_rfm_ready.to_excel('final_results_FINAL.xlsx', index=False)"
   ]
  },
  {
   "cell_type": "code",
   "execution_count": null,
   "id": "sufficient-charity",
   "metadata": {},
   "outputs": [],
   "source": []
  },
  {
   "cell_type": "code",
   "execution_count": 192,
   "id": "severe-shade",
   "metadata": {},
   "outputs": [
    {
     "data": {
      "text/plain": [
       "array([2.34108021e-02, 4.25709164e-02, 1.95991204e-02, 3.43039547e-02,\n",
       "       2.66541546e-02, 8.29072798e-02, 7.76581035e-02, 5.97060252e-03,\n",
       "       4.05241789e-02, 2.16988717e-02, 2.17526801e-02, 3.64511143e-02,\n",
       "       1.26426734e-01, 3.06172747e-02, 2.16392437e-02, 4.96413366e-05,\n",
       "       3.88711483e-04, 1.23083557e-02, 2.83599931e-02, 1.43218117e-01,\n",
       "       4.57791989e-03, 2.80745006e-02, 1.16178182e-03, 9.91572129e-03,\n",
       "       1.71347976e-02, 2.72187201e-02, 1.32629547e-02, 2.47632094e-02,\n",
       "       2.36067244e-02, 2.69046809e-02, 6.03603989e-03, 2.08331003e-02])"
      ]
     },
     "execution_count": 192,
     "metadata": {},
     "output_type": "execute_result"
    }
   ],
   "source": [
    "randomforest.feature_importances_"
   ]
  },
  {
   "cell_type": "code",
   "execution_count": 170,
   "id": "vietnamese-earthquake",
   "metadata": {},
   "outputs": [
    {
     "data": {
      "text/plain": [
       "32"
      ]
     },
     "execution_count": 170,
     "metadata": {},
     "output_type": "execute_result"
    }
   ],
   "source": [
    "len(randomforest.feature_importances_)"
   ]
  },
  {
   "cell_type": "code",
   "execution_count": 171,
   "id": "senior-circus",
   "metadata": {},
   "outputs": [
    {
     "data": {
      "text/plain": [
       "32"
      ]
     },
     "execution_count": 171,
     "metadata": {},
     "output_type": "execute_result"
    }
   ],
   "source": [
    "len(feature_list)"
   ]
  },
  {
   "cell_type": "code",
   "execution_count": 191,
   "id": "dutch-jenny",
   "metadata": {},
   "outputs": [
    {
     "data": {
      "text/plain": [
       "<BarContainer object of 32 artists>"
      ]
     },
     "execution_count": 191,
     "metadata": {},
     "output_type": "execute_result"
    },
    {
     "data": {
      "image/png": "[encoded data removed]",
      "text/plain": [
       "<Figure size 720x1080 with 1 Axes>"
      ]
     },
     "metadata": {
      "needs_background": "light"
     },
     "output_type": "display_data"
    }
   ],
   "source": [
    "feature_names = feature_list\n",
    "\n",
    "## last k-fold\n",
    "plt.rcParams[\"figure.figsize\"] = (10,15)\n",
    "plt.barh(feature_names, randomforest.feature_importances_)"
   ]
  },
  {
   "cell_type": "code",
   "execution_count": null,
   "id": "executive-baseline",
   "metadata": {},
   "outputs": [],
   "source": [
    "#Precision-Recall curves summarize the trade-off between the true positive rate and \n",
    "#the positive predictive value for a predictive model using different probability thresholds.\n",
    "\n",
    "#Precision-Recall curves appropriate for imbalanced classes\n"
   ]
  },
  {
   "cell_type": "code",
   "execution_count": 92,
   "id": "novel-teach",
   "metadata": {},
   "outputs": [
    {
     "data": {
      "image/png": "[encoded data removed]",
      "text/plain": [
       "<Figure size 400x400 with 1 Axes>"
      ]
     },
     "metadata": {
      "needs_background": "light"
     },
     "output_type": "display_data"
    }
   ],
   "source": [
    "# We can also use the probabilities to make a curve showing us how recall \n",
    "# and thresholds trade off \n",
    "\n",
    "precision_curve, recall_curve, threshold_curve = precision_recall_curve(y_val1, randomforest.predict_proba(X_val1)[:,1] )\n",
    "plt.rcParams[\"figure.figsize\"] = (5,5)\n",
    "plt.figure(dpi=80)\n",
    "\n",
    "plt.plot(threshold_curve, precision_curve[1:],label='precision')\n",
    "plt.plot(threshold_curve, recall_curve[1:],label='recall')\n",
    "plt.legend(loc='lower left')\n",
    "plt.xlabel('Threshold (above this probability, label as bankruptcy)');\n",
    "plt.title('Precision and Recall Curves');"
   ]
  },
  {
   "cell_type": "code",
   "execution_count": 93,
   "id": "abstract-studio",
   "metadata": {},
   "outputs": [
    {
     "data": {
      "image/png": "[encoded data removed]",
      "text/plain": [
       "<Figure size 400x400 with 1 Axes>"
      ]
     },
     "metadata": {
      "needs_background": "light"
     },
     "output_type": "display_data"
    }
   ],
   "source": [
    "plt.figure(dpi=80)\n",
    "plt.plot(recall_curve[1:], precision_curve[1:],label='precision')\n",
    "plt.xlabel(\"Recall\")\n",
    "plt.ylabel(\"Precision\")\n",
    "plt.title(\"Precision-Recall Curve\");"
   ]
  },
  {
   "cell_type": "code",
   "execution_count": 178,
   "id": "civic-louis",
   "metadata": {},
   "outputs": [],
   "source": [
    "## confusion matrix\n",
    "def make_confusion_matrix2(model):\n",
    "    # Predict class 1 if probability of being in class 1 is greater than threshold\n",
    "    # (model.predict(X_test) does this automatically with a threshold of 0.5)\n",
    "    #y_predict = (model.predict_proba(X_test)[:, 1] >= threshold)\n",
    "    \n",
    "    y_predict = model.predict(X_test)\n",
    "    prob_confusion = confusion_matrix(y_test, y_predict)\n",
    "    plt.figure(dpi=80)\n",
    "    sns.heatmap(prob_confusion, cmap=plt.cm.Blues, annot=True, square=True, fmt='d',\n",
    "           xticklabels=['No', 'Yes'],\n",
    "           yticklabels=['No', 'Yes']);\n",
    "    plt.xlabel('Predicted Bankruptcy')\n",
    "    \n",
    "    plt.ylabel('Actual Bankruptcy')"
   ]
  },
  {
   "cell_type": "code",
   "execution_count": 179,
   "id": "geological-alexandria",
   "metadata": {},
   "outputs": [
    {
     "data": {
      "image/png": "[encoded data removed]",
      "text/plain": [
       "<Figure size 400x400 with 2 Axes>"
      ]
     },
     "metadata": {
      "needs_background": "light"
     },
     "output_type": "display_data"
    }
   ],
   "source": [
    "\n",
    "plt.rcParams[\"figure.figsize\"] = (5,5)\n",
    "make_confusion_matrix2(randomforest)\n",
    "\n",
    "plt.savefig(\"cm_rfm.svg\")"
   ]
  },
  {
   "cell_type": "code",
   "execution_count": null,
   "id": "fitted-bookmark",
   "metadata": {},
   "outputs": [],
   "source": []
  }
 ],
 "metadata": {
  "kernelspec": {
   "display_name": "Python 3",
   "language": "python",
   "name": "python3"
  },
  "language_info": {
   "codemirror_mode": {
    "name": "ipython",
    "version": 3
   },
   "file_extension": ".py",
   "mimetype": "text/x-python",
   "name": "python",
   "nbconvert_exporter": "python",
   "pygments_lexer": "ipython3",
   "version": "3.8.6"
  }
 },
 "nbformat": 4,
 "nbformat_minor": 5
}
