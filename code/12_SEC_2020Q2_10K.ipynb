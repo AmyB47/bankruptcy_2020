{
 "cells": [
  {
   "cell_type": "code",
   "execution_count": null,
   "id": "complex-supply",
   "metadata": {},
   "outputs": [],
   "source": [
    "\"\"\"\n",
    "Annual 10-K filing for Q4 2019 are not in the Google Cloud Platform database\n",
    "\n",
    "Text files of data available by quarter from SEC website\n",
    "\n",
    "Many companies sent 2019 reports in Q2 2020 \n",
    "\n",
    "prepare Q2 2020 data and extract the 2019 period_end_date reports\n",
    "\"\"\""
   ]
  },
  {
   "cell_type": "code",
   "execution_count": 1,
   "id": "literary-clinton",
   "metadata": {},
   "outputs": [],
   "source": [
    "import pandas as pd\n",
    "import numpy as np\n",
    "import datetime as dt"
   ]
  },
  {
   "cell_type": "code",
   "execution_count": 2,
   "id": "strong-pontiac",
   "metadata": {},
   "outputs": [],
   "source": [
    "import pandas.io.sql as pd_sql\n",
    "\n",
    "from pandasql import sqldf\n",
    "# PandaSQL needs to be able to reference the global variables already defined\n",
    "pysqldf = lambda q: sqldf(q, globals())"
   ]
  },
  {
   "cell_type": "code",
   "execution_count": 3,
   "id": "liberal-replacement",
   "metadata": {},
   "outputs": [],
   "source": [
    "import psycopg2 as pg\n",
    "\n",
    "# Postgres info to connect\n",
    "\n",
    "connection_args = {\n",
    "    'host': 'localhost',  \n",
    "    'dbname': 'bankruptcy',  \n",
    "    'port': 5432          \n",
    "}\n",
    "\n",
    "connection = pg.connect(**connection_args)\n",
    "connection.autocommit = True   "
   ]
  },
  {
   "cell_type": "code",
   "execution_count": 4,
   "id": "floral-aluminum",
   "metadata": {},
   "outputs": [],
   "source": [
    "#The NUM data set contains numeric data, one row per data point in the financial statements.\n",
    "NUM_q = pd.read_csv('../data/2020q2/num.txt', delimiter='\\t' , \n",
    "                     parse_dates=['ddate'] )"
   ]
  },
  {
   "cell_type": "code",
   "execution_count": 5,
   "id": "academic-platform",
   "metadata": {},
   "outputs": [
    {
     "data": {
      "text/plain": [
       "(2197732, 9)"
      ]
     },
     "execution_count": 5,
     "metadata": {},
     "output_type": "execute_result"
    }
   ],
   "source": [
    "NUM_q.shape"
   ]
  },
  {
   "cell_type": "code",
   "execution_count": 6,
   "id": "structured-clear",
   "metadata": {},
   "outputs": [
    {
     "data": {
      "text/html": [
       "<div>\n",
       "<style scoped>\n",
       "    .dataframe tbody tr th:only-of-type {\n",
       "        vertical-align: middle;\n",
       "    }\n",
       "\n",
       "    .dataframe tbody tr th {\n",
       "        vertical-align: top;\n",
       "    }\n",
       "\n",
       "    .dataframe thead th {\n",
       "        text-align: right;\n",
       "    }\n",
       "</style>\n",
       "<table border=\"1\" class=\"dataframe\">\n",
       "  <thead>\n",
       "    <tr style=\"text-align: right;\">\n",
       "      <th></th>\n",
       "      <th>adsh</th>\n",
       "      <th>tag</th>\n",
       "      <th>version</th>\n",
       "      <th>coreg</th>\n",
       "      <th>ddate</th>\n",
       "      <th>qtrs</th>\n",
       "      <th>uom</th>\n",
       "      <th>value</th>\n",
       "      <th>footnote</th>\n",
       "    </tr>\n",
       "  </thead>\n",
       "  <tbody>\n",
       "    <tr>\n",
       "      <th>0</th>\n",
       "      <td>0001108827-20-000044</td>\n",
       "      <td>DeferredCompensationLiabilityClassifiedNoncurrent</td>\n",
       "      <td>us-gaap/2018</td>\n",
       "      <td>NaN</td>\n",
       "      <td>2019-12-31</td>\n",
       "      <td>0</td>\n",
       "      <td>USD</td>\n",
       "      <td>26800000.0</td>\n",
       "      <td>NaN</td>\n",
       "    </tr>\n",
       "    <tr>\n",
       "      <th>1</th>\n",
       "      <td>0001108827-20-000044</td>\n",
       "      <td>DeferredCompensationLiabilityClassifiedNoncurrent</td>\n",
       "      <td>us-gaap/2018</td>\n",
       "      <td>NaN</td>\n",
       "      <td>2020-03-31</td>\n",
       "      <td>0</td>\n",
       "      <td>USD</td>\n",
       "      <td>21000000.0</td>\n",
       "      <td>NaN</td>\n",
       "    </tr>\n",
       "    <tr>\n",
       "      <th>2</th>\n",
       "      <td>0001418135-20-000018</td>\n",
       "      <td>DeferredCompensationLiabilityClassifiedNoncurrent</td>\n",
       "      <td>us-gaap/2018</td>\n",
       "      <td>NaN</td>\n",
       "      <td>2020-03-31</td>\n",
       "      <td>0</td>\n",
       "      <td>USD</td>\n",
       "      <td>31000000.0</td>\n",
       "      <td>NaN</td>\n",
       "    </tr>\n",
       "    <tr>\n",
       "      <th>3</th>\n",
       "      <td>0001418135-20-000018</td>\n",
       "      <td>DeferredCompensationLiabilityClassifiedNoncurrent</td>\n",
       "      <td>us-gaap/2018</td>\n",
       "      <td>NaN</td>\n",
       "      <td>2019-12-31</td>\n",
       "      <td>0</td>\n",
       "      <td>USD</td>\n",
       "      <td>40000000.0</td>\n",
       "      <td>NaN</td>\n",
       "    </tr>\n",
       "    <tr>\n",
       "      <th>4</th>\n",
       "      <td>0001628280-20-006067</td>\n",
       "      <td>DeferredCompensationLiabilityClassifiedNoncurrent</td>\n",
       "      <td>us-gaap/2018</td>\n",
       "      <td>NaN</td>\n",
       "      <td>2020-03-31</td>\n",
       "      <td>0</td>\n",
       "      <td>USD</td>\n",
       "      <td>2830000.0</td>\n",
       "      <td>NaN</td>\n",
       "    </tr>\n",
       "  </tbody>\n",
       "</table>\n",
       "</div>"
      ],
      "text/plain": [
       "                   adsh                                                tag  \\\n",
       "0  0001108827-20-000044  DeferredCompensationLiabilityClassifiedNoncurrent   \n",
       "1  0001108827-20-000044  DeferredCompensationLiabilityClassifiedNoncurrent   \n",
       "2  0001418135-20-000018  DeferredCompensationLiabilityClassifiedNoncurrent   \n",
       "3  0001418135-20-000018  DeferredCompensationLiabilityClassifiedNoncurrent   \n",
       "4  0001628280-20-006067  DeferredCompensationLiabilityClassifiedNoncurrent   \n",
       "\n",
       "        version coreg      ddate  qtrs  uom       value footnote  \n",
       "0  us-gaap/2018   NaN 2019-12-31     0  USD  26800000.0      NaN  \n",
       "1  us-gaap/2018   NaN 2020-03-31     0  USD  21000000.0      NaN  \n",
       "2  us-gaap/2018   NaN 2020-03-31     0  USD  31000000.0      NaN  \n",
       "3  us-gaap/2018   NaN 2019-12-31     0  USD  40000000.0      NaN  \n",
       "4  us-gaap/2018   NaN 2020-03-31     0  USD   2830000.0      NaN  "
      ]
     },
     "execution_count": 6,
     "metadata": {},
     "output_type": "execute_result"
    }
   ],
   "source": [
    "NUM_q.head()"
   ]
  },
  {
   "cell_type": "code",
   "execution_count": 7,
   "id": "medium-election",
   "metadata": {},
   "outputs": [],
   "source": [
    "# detailed explaination of each field provided by SEC\n",
    "# update field names to match the GCP labels\n",
    "\n",
    "NUM_q.columns = ['adsh', 'measure_tag', 'version', 'coreg', \n",
    "                  'period_end_date', 'number_of_quarters','units', 'value','footnote']"
   ]
  },
  {
   "cell_type": "code",
   "execution_count": 8,
   "id": "broadband-tracker",
   "metadata": {},
   "outputs": [
    {
     "data": {
      "text/html": [
       "<div>\n",
       "<style scoped>\n",
       "    .dataframe tbody tr th:only-of-type {\n",
       "        vertical-align: middle;\n",
       "    }\n",
       "\n",
       "    .dataframe tbody tr th {\n",
       "        vertical-align: top;\n",
       "    }\n",
       "\n",
       "    .dataframe thead th {\n",
       "        text-align: right;\n",
       "    }\n",
       "</style>\n",
       "<table border=\"1\" class=\"dataframe\">\n",
       "  <thead>\n",
       "    <tr style=\"text-align: right;\">\n",
       "      <th></th>\n",
       "      <th>adsh</th>\n",
       "      <th>measure_tag</th>\n",
       "      <th>version</th>\n",
       "      <th>coreg</th>\n",
       "      <th>period_end_date</th>\n",
       "      <th>number_of_quarters</th>\n",
       "      <th>units</th>\n",
       "      <th>value</th>\n",
       "      <th>footnote</th>\n",
       "    </tr>\n",
       "  </thead>\n",
       "  <tbody>\n",
       "    <tr>\n",
       "      <th>0</th>\n",
       "      <td>0001108827-20-000044</td>\n",
       "      <td>DeferredCompensationLiabilityClassifiedNoncurrent</td>\n",
       "      <td>us-gaap/2018</td>\n",
       "      <td>NaN</td>\n",
       "      <td>2019-12-31</td>\n",
       "      <td>0</td>\n",
       "      <td>USD</td>\n",
       "      <td>26800000.0</td>\n",
       "      <td>NaN</td>\n",
       "    </tr>\n",
       "    <tr>\n",
       "      <th>1</th>\n",
       "      <td>0001108827-20-000044</td>\n",
       "      <td>DeferredCompensationLiabilityClassifiedNoncurrent</td>\n",
       "      <td>us-gaap/2018</td>\n",
       "      <td>NaN</td>\n",
       "      <td>2020-03-31</td>\n",
       "      <td>0</td>\n",
       "      <td>USD</td>\n",
       "      <td>21000000.0</td>\n",
       "      <td>NaN</td>\n",
       "    </tr>\n",
       "    <tr>\n",
       "      <th>2</th>\n",
       "      <td>0001418135-20-000018</td>\n",
       "      <td>DeferredCompensationLiabilityClassifiedNoncurrent</td>\n",
       "      <td>us-gaap/2018</td>\n",
       "      <td>NaN</td>\n",
       "      <td>2020-03-31</td>\n",
       "      <td>0</td>\n",
       "      <td>USD</td>\n",
       "      <td>31000000.0</td>\n",
       "      <td>NaN</td>\n",
       "    </tr>\n",
       "    <tr>\n",
       "      <th>3</th>\n",
       "      <td>0001418135-20-000018</td>\n",
       "      <td>DeferredCompensationLiabilityClassifiedNoncurrent</td>\n",
       "      <td>us-gaap/2018</td>\n",
       "      <td>NaN</td>\n",
       "      <td>2019-12-31</td>\n",
       "      <td>0</td>\n",
       "      <td>USD</td>\n",
       "      <td>40000000.0</td>\n",
       "      <td>NaN</td>\n",
       "    </tr>\n",
       "    <tr>\n",
       "      <th>4</th>\n",
       "      <td>0001628280-20-006067</td>\n",
       "      <td>DeferredCompensationLiabilityClassifiedNoncurrent</td>\n",
       "      <td>us-gaap/2018</td>\n",
       "      <td>NaN</td>\n",
       "      <td>2020-03-31</td>\n",
       "      <td>0</td>\n",
       "      <td>USD</td>\n",
       "      <td>2830000.0</td>\n",
       "      <td>NaN</td>\n",
       "    </tr>\n",
       "  </tbody>\n",
       "</table>\n",
       "</div>"
      ],
      "text/plain": [
       "                   adsh                                        measure_tag  \\\n",
       "0  0001108827-20-000044  DeferredCompensationLiabilityClassifiedNoncurrent   \n",
       "1  0001108827-20-000044  DeferredCompensationLiabilityClassifiedNoncurrent   \n",
       "2  0001418135-20-000018  DeferredCompensationLiabilityClassifiedNoncurrent   \n",
       "3  0001418135-20-000018  DeferredCompensationLiabilityClassifiedNoncurrent   \n",
       "4  0001628280-20-006067  DeferredCompensationLiabilityClassifiedNoncurrent   \n",
       "\n",
       "        version coreg period_end_date  number_of_quarters units       value  \\\n",
       "0  us-gaap/2018   NaN      2019-12-31                   0   USD  26800000.0   \n",
       "1  us-gaap/2018   NaN      2020-03-31                   0   USD  21000000.0   \n",
       "2  us-gaap/2018   NaN      2020-03-31                   0   USD  31000000.0   \n",
       "3  us-gaap/2018   NaN      2019-12-31                   0   USD  40000000.0   \n",
       "4  us-gaap/2018   NaN      2020-03-31                   0   USD   2830000.0   \n",
       "\n",
       "  footnote  \n",
       "0      NaN  \n",
       "1      NaN  \n",
       "2      NaN  \n",
       "3      NaN  \n",
       "4      NaN  "
      ]
     },
     "execution_count": 8,
     "metadata": {},
     "output_type": "execute_result"
    }
   ],
   "source": [
    "NUM_q.head()"
   ]
  },
  {
   "cell_type": "code",
   "execution_count": 9,
   "id": "prerequisite-optimization",
   "metadata": {},
   "outputs": [
    {
     "name": "stdout",
     "output_type": "stream",
     "text": [
      "<class 'pandas.core.frame.DataFrame'>\n",
      "RangeIndex: 2197732 entries, 0 to 2197731\n",
      "Data columns (total 9 columns):\n",
      " #   Column              Dtype         \n",
      "---  ------              -----         \n",
      " 0   adsh                object        \n",
      " 1   measure_tag         object        \n",
      " 2   version             object        \n",
      " 3   coreg               object        \n",
      " 4   period_end_date     datetime64[ns]\n",
      " 5   number_of_quarters  int64         \n",
      " 6   units               object        \n",
      " 7   value               float64       \n",
      " 8   footnote            object        \n",
      "dtypes: datetime64[ns](1), float64(1), int64(1), object(6)\n",
      "memory usage: 150.9+ MB\n"
     ]
    }
   ],
   "source": [
    "NUM_q.info()"
   ]
  },
  {
   "cell_type": "code",
   "execution_count": 10,
   "id": "minus-aside",
   "metadata": {},
   "outputs": [
    {
     "name": "stderr",
     "output_type": "stream",
     "text": [
      "/Users/amybutler/opt/anaconda3/envs/metis/lib/python3.8/site-packages/IPython/core/interactiveshell.py:3146: DtypeWarning: Columns (35) have mixed types.Specify dtype option on import or set low_memory=False.\n",
      "  has_raised = await self.run_ast_nodes(code_ast.body, cell_name,\n"
     ]
    }
   ],
   "source": [
    "#The SUB (submissions) data set contains summary information about an entire EDGAR submission. \n",
    "\n",
    "SUB_q = pd.read_csv('../data/2020q2/sub.txt', delimiter='\\t', \n",
    "                     parse_dates=['period'], \n",
    "                     dtype={'sic':  'str', 'ein':'str', 'cik':'str', 'fy':'str', 'fp':'str'})"
   ]
  },
  {
   "cell_type": "code",
   "execution_count": 11,
   "id": "comfortable-document",
   "metadata": {},
   "outputs": [
    {
     "data": {
      "text/plain": [
       "(16411, 36)"
      ]
     },
     "execution_count": 11,
     "metadata": {},
     "output_type": "execute_result"
    }
   ],
   "source": [
    "SUB_q.shape"
   ]
  },
  {
   "cell_type": "code",
   "execution_count": 12,
   "id": "super-appeal",
   "metadata": {},
   "outputs": [
    {
     "data": {
      "text/html": [
       "<div>\n",
       "<style scoped>\n",
       "    .dataframe tbody tr th:only-of-type {\n",
       "        vertical-align: middle;\n",
       "    }\n",
       "\n",
       "    .dataframe tbody tr th {\n",
       "        vertical-align: top;\n",
       "    }\n",
       "\n",
       "    .dataframe thead th {\n",
       "        text-align: right;\n",
       "    }\n",
       "</style>\n",
       "<table border=\"1\" class=\"dataframe\">\n",
       "  <thead>\n",
       "    <tr style=\"text-align: right;\">\n",
       "      <th></th>\n",
       "      <th>adsh</th>\n",
       "      <th>cik</th>\n",
       "      <th>name</th>\n",
       "      <th>sic</th>\n",
       "      <th>countryba</th>\n",
       "      <th>stprba</th>\n",
       "      <th>cityba</th>\n",
       "      <th>zipba</th>\n",
       "      <th>bas1</th>\n",
       "      <th>bas2</th>\n",
       "      <th>...</th>\n",
       "      <th>period</th>\n",
       "      <th>fy</th>\n",
       "      <th>fp</th>\n",
       "      <th>filed</th>\n",
       "      <th>accepted</th>\n",
       "      <th>prevrpt</th>\n",
       "      <th>detail</th>\n",
       "      <th>instance</th>\n",
       "      <th>nciks</th>\n",
       "      <th>aciks</th>\n",
       "    </tr>\n",
       "  </thead>\n",
       "  <tbody>\n",
       "    <tr>\n",
       "      <th>0</th>\n",
       "      <td>0000006201-20-000051</td>\n",
       "      <td>6201</td>\n",
       "      <td>AMERICAN AIRLINES GROUP INC.</td>\n",
       "      <td>4512</td>\n",
       "      <td>US</td>\n",
       "      <td>TX</td>\n",
       "      <td>FORT WORTH</td>\n",
       "      <td>76155</td>\n",
       "      <td>1 SKYVIEW DRIVE</td>\n",
       "      <td>NaN</td>\n",
       "      <td>...</td>\n",
       "      <td>2020-03-31</td>\n",
       "      <td>NaN</td>\n",
       "      <td>NaN</td>\n",
       "      <td>20200401</td>\n",
       "      <td>2020-04-01 16:15:00.0</td>\n",
       "      <td>0</td>\n",
       "      <td>0</td>\n",
       "      <td>a8k040120drawdownofrev_htm.xml</td>\n",
       "      <td>2</td>\n",
       "      <td>4515</td>\n",
       "    </tr>\n",
       "    <tr>\n",
       "      <th>1</th>\n",
       "      <td>0000018498-20-000016</td>\n",
       "      <td>18498</td>\n",
       "      <td>GENESCO INC</td>\n",
       "      <td>5661</td>\n",
       "      <td>US</td>\n",
       "      <td>TN</td>\n",
       "      <td>NASHVILLE</td>\n",
       "      <td>37217</td>\n",
       "      <td>GENESCO PK 1415 MURFREESBORO RD</td>\n",
       "      <td>NaN</td>\n",
       "      <td>...</td>\n",
       "      <td>2020-01-31</td>\n",
       "      <td>2019</td>\n",
       "      <td>FY</td>\n",
       "      <td>20200401</td>\n",
       "      <td>2020-04-01 15:29:00.0</td>\n",
       "      <td>0</td>\n",
       "      <td>1</td>\n",
       "      <td>gcofy202010-kq4_htm.xml</td>\n",
       "      <td>1</td>\n",
       "      <td>NaN</td>\n",
       "    </tr>\n",
       "    <tr>\n",
       "      <th>2</th>\n",
       "      <td>0000020286-20-000029</td>\n",
       "      <td>20286</td>\n",
       "      <td>CINCINNATI FINANCIAL CORP</td>\n",
       "      <td>6331</td>\n",
       "      <td>US</td>\n",
       "      <td>OH</td>\n",
       "      <td>FAIRFIELD</td>\n",
       "      <td>45014</td>\n",
       "      <td>6200 S GILMORE RD</td>\n",
       "      <td>NaN</td>\n",
       "      <td>...</td>\n",
       "      <td>2020-03-31</td>\n",
       "      <td>NaN</td>\n",
       "      <td>NaN</td>\n",
       "      <td>20200401</td>\n",
       "      <td>2020-04-01 09:54:00.0</td>\n",
       "      <td>0</td>\n",
       "      <td>0</td>\n",
       "      <td>locationchange8-k04x01_htm.xml</td>\n",
       "      <td>1</td>\n",
       "      <td>NaN</td>\n",
       "    </tr>\n",
       "    <tr>\n",
       "      <th>3</th>\n",
       "      <td>0000049196-20-000017</td>\n",
       "      <td>49196</td>\n",
       "      <td>HUNTINGTON BANCSHARES INC/MD</td>\n",
       "      <td>6021</td>\n",
       "      <td>US</td>\n",
       "      <td>OH</td>\n",
       "      <td>COLUMBUS</td>\n",
       "      <td>43287</td>\n",
       "      <td>HUNTINGTON CTR</td>\n",
       "      <td>41 S HIGH ST HC0917</td>\n",
       "      <td>...</td>\n",
       "      <td>2020-03-31</td>\n",
       "      <td>NaN</td>\n",
       "      <td>NaN</td>\n",
       "      <td>20200401</td>\n",
       "      <td>2020-04-01 16:53:00.0</td>\n",
       "      <td>0</td>\n",
       "      <td>0</td>\n",
       "      <td>hban-2020x04x01x8k_htm.xml</td>\n",
       "      <td>1</td>\n",
       "      <td>NaN</td>\n",
       "    </tr>\n",
       "    <tr>\n",
       "      <th>4</th>\n",
       "      <td>0000074145-20-000014</td>\n",
       "      <td>74145</td>\n",
       "      <td>OKLAHOMA GAS &amp; ELECTRIC CO</td>\n",
       "      <td>4911</td>\n",
       "      <td>US</td>\n",
       "      <td>OK</td>\n",
       "      <td>OKLAHOMA CITY</td>\n",
       "      <td>73101-0321</td>\n",
       "      <td>321 NORTH HARVEY</td>\n",
       "      <td>PO BOX 321</td>\n",
       "      <td>...</td>\n",
       "      <td>2020-03-31</td>\n",
       "      <td>NaN</td>\n",
       "      <td>NaN</td>\n",
       "      <td>20200401</td>\n",
       "      <td>2020-04-01 14:34:00.0</td>\n",
       "      <td>0</td>\n",
       "      <td>0</td>\n",
       "      <td>oge-20200401_htm.xml</td>\n",
       "      <td>1</td>\n",
       "      <td>NaN</td>\n",
       "    </tr>\n",
       "  </tbody>\n",
       "</table>\n",
       "<p>5 rows × 36 columns</p>\n",
       "</div>"
      ],
      "text/plain": [
       "                   adsh    cik                          name   sic countryba  \\\n",
       "0  0000006201-20-000051   6201  AMERICAN AIRLINES GROUP INC.  4512        US   \n",
       "1  0000018498-20-000016  18498                   GENESCO INC  5661        US   \n",
       "2  0000020286-20-000029  20286     CINCINNATI FINANCIAL CORP  6331        US   \n",
       "3  0000049196-20-000017  49196  HUNTINGTON BANCSHARES INC/MD  6021        US   \n",
       "4  0000074145-20-000014  74145    OKLAHOMA GAS & ELECTRIC CO  4911        US   \n",
       "\n",
       "  stprba         cityba       zipba                             bas1  \\\n",
       "0     TX     FORT WORTH       76155                  1 SKYVIEW DRIVE   \n",
       "1     TN      NASHVILLE       37217  GENESCO PK 1415 MURFREESBORO RD   \n",
       "2     OH      FAIRFIELD       45014                6200 S GILMORE RD   \n",
       "3     OH       COLUMBUS       43287                   HUNTINGTON CTR   \n",
       "4     OK  OKLAHOMA CITY  73101-0321                 321 NORTH HARVEY   \n",
       "\n",
       "                  bas2  ...     period    fy   fp     filed  \\\n",
       "0                  NaN  ... 2020-03-31   NaN  NaN  20200401   \n",
       "1                  NaN  ... 2020-01-31  2019   FY  20200401   \n",
       "2                  NaN  ... 2020-03-31   NaN  NaN  20200401   \n",
       "3  41 S HIGH ST HC0917  ... 2020-03-31   NaN  NaN  20200401   \n",
       "4           PO BOX 321  ... 2020-03-31   NaN  NaN  20200401   \n",
       "\n",
       "                accepted prevrpt detail                        instance nciks  \\\n",
       "0  2020-04-01 16:15:00.0       0      0  a8k040120drawdownofrev_htm.xml     2   \n",
       "1  2020-04-01 15:29:00.0       0      1         gcofy202010-kq4_htm.xml     1   \n",
       "2  2020-04-01 09:54:00.0       0      0  locationchange8-k04x01_htm.xml     1   \n",
       "3  2020-04-01 16:53:00.0       0      0      hban-2020x04x01x8k_htm.xml     1   \n",
       "4  2020-04-01 14:34:00.0       0      0            oge-20200401_htm.xml     1   \n",
       "\n",
       "  aciks  \n",
       "0  4515  \n",
       "1   NaN  \n",
       "2   NaN  \n",
       "3   NaN  \n",
       "4   NaN  \n",
       "\n",
       "[5 rows x 36 columns]"
      ]
     },
     "execution_count": 12,
     "metadata": {},
     "output_type": "execute_result"
    }
   ],
   "source": [
    "SUB_q.head()"
   ]
  },
  {
   "cell_type": "code",
   "execution_count": 13,
   "id": "bronze-harbor",
   "metadata": {},
   "outputs": [
    {
     "data": {
      "text/plain": [
       "array(['8-K', '10-K', '10-Q', '10-K/A', '20-F', 'F-4', '8-K12B', 'POS AM',\n",
       "       '8-K/A', 'S-1/A', '40-F/A', '20-F/A', '10-KT', '10-Q/A', 'S-4/A',\n",
       "       '6-K', 'S-1', '40-F', 'F-1', 'POS EX', 'S-3/A', 'S-4', '6-K/A',\n",
       "       'F-1/A', '10-KT/A', '10-12G', '8-K12B/A', 'S-11/A', '424B3'],\n",
       "      dtype=object)"
      ]
     },
     "execution_count": 13,
     "metadata": {},
     "output_type": "execute_result"
    }
   ],
   "source": [
    "# check forms included in this file\n",
    "# only keep the 10-K and 10-K/A\n",
    "\n",
    "SUB_q.form.unique()"
   ]
  },
  {
   "cell_type": "code",
   "execution_count": 14,
   "id": "answering-delivery",
   "metadata": {},
   "outputs": [
    {
     "data": {
      "text/plain": [
       "array(['US', 'CA', 'GR', 'CO', 'BM', 'IL', 'DE', 'GB', 'MC', 'CL', 'KY',\n",
       "       'FR', 'RS', 'IT', 'CN', 'SG', 'TR', 'MH', 'NL', 'IE', 'BR', 'DK',\n",
       "       'CY', 'LU', 'ZA', nan, 'MY', 'AN', 'PA', 'MX', 'CH', 'DO', 'HK',\n",
       "       'PE', 'AR', 'TW', 'JP', 'PH', 'SK', 'GE', 'IN', 'CZ', 'PR', 'RU',\n",
       "       'ID', 'AU', 'KR', 'AI', 'UY', 'BE', 'JO', 'NO', 'JE', 'TH', 'PT',\n",
       "       'EE', 'AE', 'VG', 'NZ', 'VI', 'SE', 'GU', 'BS', 'UA', 'MT', 'BG'],\n",
       "      dtype=object)"
      ]
     },
     "execution_count": 14,
     "metadata": {},
     "output_type": "execute_result"
    }
   ],
   "source": [
    "# check all US located companies\n",
    "# will drop non-US companies\n",
    "\n",
    "SUB_q.countryba.unique()"
   ]
  },
  {
   "cell_type": "code",
   "execution_count": null,
   "id": "blocked-worship",
   "metadata": {},
   "outputs": [],
   "source": [
    "#SUB_q.columns"
   ]
  },
  {
   "cell_type": "code",
   "execution_count": null,
   "id": "aggregate-spring",
   "metadata": {},
   "outputs": [],
   "source": [
    "#SUB_q.info()"
   ]
  },
  {
   "cell_type": "code",
   "execution_count": 15,
   "id": "improved-dallas",
   "metadata": {},
   "outputs": [],
   "source": [
    "# Will merge NUM and SUB files and then filter like how GCP queries were filtered\n",
    "# per details from SEC of how to merge these datasets on adsh\n",
    "\n",
    "all_q = pd.merge(NUM_q, SUB_q, how='left', on=['adsh'])"
   ]
  },
  {
   "cell_type": "code",
   "execution_count": 16,
   "id": "missing-generic",
   "metadata": {},
   "outputs": [
    {
     "data": {
      "text/plain": [
       "(2197732, 44)"
      ]
     },
     "execution_count": 16,
     "metadata": {},
     "output_type": "execute_result"
    }
   ],
   "source": [
    "all_q.shape"
   ]
  },
  {
   "cell_type": "code",
   "execution_count": null,
   "id": "outdoor-bernard",
   "metadata": {},
   "outputs": [],
   "source": [
    "#all_q.head()"
   ]
  },
  {
   "cell_type": "code",
   "execution_count": null,
   "id": "charming-flour",
   "metadata": {},
   "outputs": [],
   "source": [
    "#all_q.tail()"
   ]
  },
  {
   "cell_type": "code",
   "execution_count": null,
   "id": "checked-advancement",
   "metadata": {},
   "outputs": [],
   "source": [
    "#all_q.columns"
   ]
  },
  {
   "cell_type": "code",
   "execution_count": 18,
   "id": "compressed-horizon",
   "metadata": {},
   "outputs": [],
   "source": [
    "import pickle\n",
    "\n",
    "with open('Q2_2020.pickle', 'wb') as to_write:\n",
    "    pickle.dump(all_q, to_write)"
   ]
  },
  {
   "cell_type": "code",
   "execution_count": null,
   "id": "historic-shannon",
   "metadata": {},
   "outputs": [],
   "source": []
  },
  {
   "cell_type": "code",
   "execution_count": null,
   "id": "sorted-applicant",
   "metadata": {},
   "outputs": [],
   "source": []
  },
  {
   "cell_type": "code",
   "execution_count": null,
   "id": "instrumental-stage",
   "metadata": {},
   "outputs": [],
   "source": []
  },
  {
   "cell_type": "code",
   "execution_count": null,
   "id": "civic-lyric",
   "metadata": {},
   "outputs": [],
   "source": []
  },
  {
   "cell_type": "code",
   "execution_count": null,
   "id": "smooth-supervisor",
   "metadata": {},
   "outputs": [],
   "source": []
  },
  {
   "cell_type": "code",
   "execution_count": null,
   "id": "discrete-induction",
   "metadata": {},
   "outputs": [],
   "source": [
    "# apply filters to keep only 10-K reports from US companies\n",
    "f1_all_q1 = all_q1[all_q1['countryba'] == 'US']\n",
    "f1_all_q1.shape"
   ]
  },
  {
   "cell_type": "code",
   "execution_count": null,
   "id": "adapted-cycling",
   "metadata": {},
   "outputs": [],
   "source": [
    "f2_all_q1 = f1_all_q1[f1_all_q1['form'].isin(['10-K', '10-K/A'])]\n",
    "f2_all_q1.shape"
   ]
  },
  {
   "cell_type": "code",
   "execution_count": null,
   "id": "honey-sharp",
   "metadata": {},
   "outputs": [],
   "source": [
    "# fp is Fiscal Period Focus.  The 10-K is to have a fiscal period focus of FY\n",
    "f2_all_q1.fp.unique()"
   ]
  },
  {
   "cell_type": "code",
   "execution_count": null,
   "id": "exempt-collect",
   "metadata": {},
   "outputs": [],
   "source": [
    "# keep only the columns that match GCP fields\n",
    "# rename columns \n",
    "\n",
    "f3_all_q1 = f2_all_q1[['name', 'period', 'number_of_quarters', 'adsh', 'cik', 'ein', \n",
    "           'sic', 'fy', 'form', 'filed', 'measure_tag', 'value', 'units' ]]\n",
    "f3_all_q1.shape"
   ]
  },
  {
   "cell_type": "code",
   "execution_count": null,
   "id": "excessive-responsibility",
   "metadata": {},
   "outputs": [],
   "source": [
    "f4_all_q1 = f3_all_q1[f3_all_q1['period'] > dt.datetime(2018,12,31)]\n",
    "\n",
    "f4_all_q1.head()\n"
   ]
  },
  {
   "cell_type": "code",
   "execution_count": null,
   "id": "modular-kentucky",
   "metadata": {},
   "outputs": [],
   "source": [
    "f4_all_q1.shape"
   ]
  },
  {
   "cell_type": "code",
   "execution_count": null,
   "id": "individual-flour",
   "metadata": {},
   "outputs": [],
   "source": [
    "max(f4_all_q1.period)"
   ]
  },
  {
   "cell_type": "code",
   "execution_count": null,
   "id": "agricultural-minute",
   "metadata": {},
   "outputs": [],
   "source": [
    "f4_all_q1.period.value_counts()"
   ]
  },
  {
   "cell_type": "code",
   "execution_count": null,
   "id": "fantastic-workshop",
   "metadata": {},
   "outputs": [],
   "source": [
    "## This looks good, companies > $75 MM would be required to file their annual report\n",
    "## for FY ending 12/31/2019 within 90 days - by 3/31/2020"
   ]
  },
  {
   "cell_type": "code",
   "execution_count": null,
   "id": "prostate-candle",
   "metadata": {},
   "outputs": [],
   "source": [
    "# rename columns so will match GCP labeling\n",
    "\n",
    "f4_all_q1.columns = ['company_name', 'period_end_date', 'number_of_quarters',\n",
    "                    'submission_number', 'central_index_key', 'ein',\n",
    "                    'sic', 'fiscal_year', 'form', 'date_filed',\n",
    "                    'measure_tag', 'value', 'units']"
   ]
  },
  {
   "cell_type": "code",
   "execution_count": null,
   "id": "interior-translator",
   "metadata": {},
   "outputs": [],
   "source": [
    "f4_all_q1.head()"
   ]
  },
  {
   "cell_type": "code",
   "execution_count": null,
   "id": "numerical-lending",
   "metadata": {},
   "outputs": [],
   "source": [
    "f4_all_q1.company_name.nunique()"
   ]
  },
  {
   "cell_type": "code",
   "execution_count": null,
   "id": "fresh-prevention",
   "metadata": {},
   "outputs": [],
   "source": [
    "# filter to only measurements queried and downloaded from GCP\n",
    "\n",
    "query = \"\"\" \n",
    "SELECT *\n",
    "FROM f4_all_q1 as a \n",
    "where measure_tag in ('Assets',\n",
    "       'AssetsCurrent', 'CashAndCashEquivalentsAtCarryingValue',\n",
    "       'CashAndCashEquivalentsPeriodIncreaseDecrease', 'CommonStockValue',\n",
    "       'CostsAndExpenses', 'CurrentAsset', 'DeferredIncomeTaxExpenseBenefit',\n",
    "       'DeferredIncomeTaxLiabilities', 'DeferredIncomeTaxLiabilitiesNet',\n",
    "       'DeferredIncomeTaxesAndTaxCredits', 'Depreciation',\n",
    "       'EarningsPerShareBasic', 'EarningsPerShareDiluted', 'Goodwill',\n",
    "       'GrossProfit', 'IncreaseDecreaseInInventories', 'InterestExpense',\n",
    "       'InventoryNet', 'Liabilities', 'LiabilitiesAndStockholdersEquity',\n",
    "       'LiabilitiesCurrent', 'LongTermDebt', 'LongTermDebtCurrent',\n",
    "       'LongTermDebtMaturitiesRepaymentsOfPrincipalInNextTwelveMonths',\n",
    "       'LongTermDebtNoncurrent', 'NetCashProvidedByUsedInFinancingActivities',\n",
    "       'NetCashProvidedByUsedInInvestingActivities',\n",
    "       'NetCashProvidedByUsedInOperatingActivities', 'NetIncomeLoss',\n",
    "       'OperatingExpenses', 'OperatingIncomeLoss', 'ProfitLoss',\n",
    "       'RepaymentsOfLongTermDebt', 'Revenues', 'SalesRevenueGoodsNet',\n",
    "       'SalesRevenueNet', 'StockholdersEquity', 'TotalAsset',\n",
    "       'WorkingCapital')\n",
    "\"\"\"\n",
    "\n",
    "f5_all_q1 = pysqldf(query)\n",
    "f5_all_q1.head()\n",
    "\n"
   ]
  },
  {
   "cell_type": "code",
   "execution_count": null,
   "id": "adolescent-quebec",
   "metadata": {},
   "outputs": [],
   "source": [
    "f5_all_q1.shape"
   ]
  },
  {
   "cell_type": "code",
   "execution_count": null,
   "id": "written-tooth",
   "metadata": {},
   "outputs": [],
   "source": [
    "# check all units in USD\n",
    "f5_all_q1.units.unique()"
   ]
  },
  {
   "cell_type": "code",
   "execution_count": null,
   "id": "typical-murray",
   "metadata": {},
   "outputs": [],
   "source": [
    "# keep only USD,  as found in EDA, some non-US companies file the US form and no requirement they don't\n",
    "\n",
    "f6_all_q1 = f5_all_q1[f5_all_q1['units'] == 'USD']\n",
    "f6_all_q1.shape"
   ]
  },
  {
   "cell_type": "code",
   "execution_count": null,
   "id": "informal-union",
   "metadata": {},
   "outputs": [],
   "source": [
    "# df is tall on each measurement \n",
    "# pivot to wide\n",
    "\n",
    "\n",
    "wide_sec = f6_all_q1.pivot_table(index=['company_name','period_end_date', 'number_of_quarters',\n",
    "                                              'submission_number','central_index_key',\n",
    "                                             'ein', 'sic', 'fiscal_year', 'form',\n",
    "                                             'date_filed'],\n",
    "                        columns='measure_tag', values='value').reset_index()\n",
    "wide_sec.head()\n"
   ]
  },
  {
   "cell_type": "code",
   "execution_count": null,
   "id": "skilled-certification",
   "metadata": {},
   "outputs": [],
   "source": [
    "wide_sec.shape"
   ]
  },
  {
   "cell_type": "code",
   "execution_count": null,
   "id": "intelligent-burst",
   "metadata": {},
   "outputs": [],
   "source": [
    "wide_sec.company_name.nunique()"
   ]
  },
  {
   "cell_type": "code",
   "execution_count": null,
   "id": "married-provincial",
   "metadata": {},
   "outputs": [],
   "source": [
    "#### COMBINE THIS Q2 2020 submissions with the Q12020 submissions\n",
    "\n",
    "# pickle the model_data df\n",
    "import pickle\n",
    "\n",
    "with open('q2_2020.pickle', 'wb') as to_write:\n",
    "    pickle.dump(wide_sec, to_write)"
   ]
  },
  {
   "cell_type": "code",
   "execution_count": null,
   "id": "announced-mandate",
   "metadata": {},
   "outputs": [],
   "source": [
    "## LOOKING UP 2020 bankruptcies in 2019 sec data"
   ]
  },
  {
   "cell_type": "code",
   "execution_count": null,
   "id": "tracked-young",
   "metadata": {},
   "outputs": [],
   "source": [
    "all_q1[all_q1['name'] == 'ASCENA RETAIL GROUP, INC.']"
   ]
  },
  {
   "cell_type": "code",
   "execution_count": null,
   "id": "proof-medline",
   "metadata": {},
   "outputs": [],
   "source": [
    "wide_sec[wide_sec.company_name == 'CHAPARRAL ENERGY, INC']"
   ]
  },
  {
   "cell_type": "code",
   "execution_count": null,
   "id": "working-affiliation",
   "metadata": {},
   "outputs": [],
   "source": []
  },
  {
   "cell_type": "code",
   "execution_count": null,
   "id": "differential-gardening",
   "metadata": {},
   "outputs": [],
   "source": []
  },
  {
   "cell_type": "code",
   "execution_count": null,
   "id": "functioning-substitute",
   "metadata": {},
   "outputs": [],
   "source": []
  },
  {
   "cell_type": "code",
   "execution_count": null,
   "id": "conceptual-active",
   "metadata": {},
   "outputs": [],
   "source": [
    "##################"
   ]
  },
  {
   "cell_type": "code",
   "execution_count": null,
   "id": "according-namibia",
   "metadata": {},
   "outputs": [],
   "source": [
    "# combine these annual reports with GCP 2019 file download that contains 1/1/2019 - 9/30/2019 priod end dates"
   ]
  },
  {
   "cell_type": "code",
   "execution_count": null,
   "id": "intended-modeling",
   "metadata": {},
   "outputs": [],
   "source": [
    "\n",
    "query = \"\"\"\n",
    "SELECT *\n",
    "FROM sec_all_usd\n",
    "WHERE  period_end_date > '2018-12-31' \n",
    ";\n",
    "\"\"\"\n",
    "\n",
    "gcp_data = pd_sql.read_sql(query, connection)\n",
    "gcp_data.head()"
   ]
  },
  {
   "cell_type": "code",
   "execution_count": null,
   "id": "complete-agreement",
   "metadata": {},
   "outputs": [],
   "source": [
    "gcp_data.shape"
   ]
  },
  {
   "cell_type": "code",
   "execution_count": null,
   "id": "bridal-furniture",
   "metadata": {},
   "outputs": [],
   "source": [
    "wide_sec"
   ]
  },
  {
   "cell_type": "code",
   "execution_count": null,
   "id": "animal-spending",
   "metadata": {},
   "outputs": [],
   "source": [
    "gcp_data.company_name.nunique()"
   ]
  },
  {
   "cell_type": "code",
   "execution_count": null,
   "id": "thrown-april",
   "metadata": {},
   "outputs": [],
   "source": [
    "gcp_data.columns"
   ]
  },
  {
   "cell_type": "code",
   "execution_count": null,
   "id": "future-century",
   "metadata": {},
   "outputs": [],
   "source": [
    "# pivot wide\n",
    "\n",
    "\n",
    "wide_gcp = gcp_data.pivot_table(index=['company_name','period_end_date', 'number_of_quarters',\n",
    "                                              'submission_number','central_index_key',\n",
    "                                             'ein', 'sic', 'fiscal_year_end', 'fiscal_year', 'form',\n",
    "                                             'date_filed'],\n",
    "                        columns='measure_tag', values='value').reset_index()\n",
    "wide_gcp.head()"
   ]
  },
  {
   "cell_type": "code",
   "execution_count": null,
   "id": "genetic-brook",
   "metadata": {},
   "outputs": [],
   "source": [
    "wide_gcp.shape"
   ]
  },
  {
   "cell_type": "code",
   "execution_count": null,
   "id": "beginning-cooper",
   "metadata": {},
   "outputs": [],
   "source": [
    "# stack the 2 df with 2019 financial reports\n",
    "\n",
    "sec_2019 = pd.concat([wide_gcp, wide_sec], axis=0)\n",
    "sec_2019.shape"
   ]
  },
  {
   "cell_type": "code",
   "execution_count": null,
   "id": "thousand-twenty",
   "metadata": {},
   "outputs": [],
   "source": [
    "sec_2019[['company_name', 'period_end_date']].value_counts()"
   ]
  },
  {
   "cell_type": "code",
   "execution_count": null,
   "id": "expensive-pollution",
   "metadata": {},
   "outputs": [],
   "source": [
    "sec_2019[sec_2019['company_name'] == 'PLURALSIGHT, INC.']"
   ]
  },
  {
   "cell_type": "code",
   "execution_count": null,
   "id": "demanding-bangkok",
   "metadata": {},
   "outputs": [],
   "source": [
    "# like with handling 2014-2018 data, will keep where quarters zero or 4\n",
    "# then forward fill and back fill\n",
    "# will filter to have only one row for company and period_end_date\n"
   ]
  },
  {
   "cell_type": "code",
   "execution_count": null,
   "id": "material-brave",
   "metadata": {},
   "outputs": [],
   "source": [
    "# fill forward within groupby, then back fill within groupby\n",
    "\n",
    "# leave the NaN's to apply additional logics\n",
    "\n",
    "cols = ['Assets',\n",
    "       'AssetsCurrent', 'CashAndCashEquivalentsAtCarryingValue',\n",
    "       'CashAndCashEquivalentsPeriodIncreaseDecrease', 'CommonStockValue',\n",
    "       'CostsAndExpenses', 'CurrentAsset', 'DeferredIncomeTaxExpenseBenefit',\n",
    "       'DeferredIncomeTaxLiabilities', 'DeferredIncomeTaxLiabilitiesNet',\n",
    "       'DeferredIncomeTaxesAndTaxCredits', 'Depreciation',\n",
    "       'EarningsPerShareBasic', 'EarningsPerShareDiluted', 'Goodwill',\n",
    "       'GrossProfit', 'IncreaseDecreaseInInventories', 'InterestExpense',\n",
    "       'InventoryNet', 'Liabilities', 'LiabilitiesAndStockholdersEquity',\n",
    "       'LiabilitiesCurrent', 'LongTermDebt', 'LongTermDebtCurrent',\n",
    "       'LongTermDebtMaturitiesRepaymentsOfPrincipalInNextTwelveMonths',\n",
    "       'LongTermDebtNoncurrent', 'NetCashProvidedByUsedInFinancingActivities',\n",
    "       'NetCashProvidedByUsedInInvestingActivities',\n",
    "       'NetCashProvidedByUsedInOperatingActivities', 'NetIncomeLoss',\n",
    "       'OperatingExpenses', 'OperatingIncomeLoss', 'ProfitLoss',\n",
    "       'RepaymentsOfLongTermDebt', 'Revenues', 'SalesRevenueGoodsNet',\n",
    "       'SalesRevenueNet', 'StockholdersEquity', \n",
    "       'WorkingCapital']\n",
    "\n",
    "\n",
    "sec_2019.update(sec_2019.groupby(['company_name', 'period_end_date'])[cols].ffill())"
   ]
  },
  {
   "cell_type": "code",
   "execution_count": null,
   "id": "actual-vaccine",
   "metadata": {},
   "outputs": [],
   "source": [
    "\n",
    "sec_2019.update(sec_2019.groupby(['company_name', 'period_end_date'])[cols].bfill())"
   ]
  },
  {
   "cell_type": "code",
   "execution_count": null,
   "id": "metric-invasion",
   "metadata": {},
   "outputs": [],
   "source": [
    "# like done for 2014 - 2018\n",
    "# If assume companies that have some missing fields have balanced financials, can fill in the missing fields"
   ]
  },
  {
   "cell_type": "code",
   "execution_count": null,
   "id": "rural-protein",
   "metadata": {},
   "outputs": [],
   "source": [
    "f1_wide_sec = sec_2019.copy()"
   ]
  },
  {
   "cell_type": "code",
   "execution_count": null,
   "id": "brilliant-success",
   "metadata": {},
   "outputs": [],
   "source": [
    "# fill in StockholdersEquity \n",
    "\n",
    "f1_wide_sec['StockholdersEquity'].fillna(f1_wide_sec['LiabilitiesAndStockholdersEquity'] - f1_wide_sec['Liabilities'], inplace=True)"
   ]
  },
  {
   "cell_type": "code",
   "execution_count": null,
   "id": "fluid-inclusion",
   "metadata": {},
   "outputs": [],
   "source": [
    "f1_wide_sec['StockholdersEquity'].isna().value_counts()"
   ]
  },
  {
   "cell_type": "code",
   "execution_count": null,
   "id": "pressed-sandwich",
   "metadata": {},
   "outputs": [],
   "source": [
    "## fill in LiabilitiesAndStockholdersEquity\n",
    "\n",
    "f1_wide_sec['LiabilitiesAndStockholdersEquity'].fillna(f1_wide_sec['StockholdersEquity'] + f1_wide_sec['Liabilities'], inplace=True)"
   ]
  },
  {
   "cell_type": "code",
   "execution_count": null,
   "id": "funny-traveler",
   "metadata": {},
   "outputs": [],
   "source": [
    "f1_wide_sec['LiabilitiesAndStockholdersEquity'].isna().value_counts()"
   ]
  },
  {
   "cell_type": "code",
   "execution_count": null,
   "id": "northern-marketplace",
   "metadata": {},
   "outputs": [],
   "source": [
    "## fill in Liabilities\n",
    "\n",
    "f1_wide_sec['Liabilities'].fillna(f1_wide_sec['LiabilitiesAndStockholdersEquity'] - f1_wide_sec['StockholdersEquity'], inplace=True)"
   ]
  },
  {
   "cell_type": "code",
   "execution_count": null,
   "id": "floating-horizon",
   "metadata": {},
   "outputs": [],
   "source": [
    "f1_wide_sec['Liabilities'].isna().value_counts()"
   ]
  },
  {
   "cell_type": "code",
   "execution_count": null,
   "id": "organizational-genre",
   "metadata": {},
   "outputs": [],
   "source": [
    "# majority of companies use the AssetsCurrent field.  Few used CurrentAsset\n",
    "\n",
    "f1_wide_sec['AssetsCurrent'].fillna(f1_wide_sec['CurrentAsset'], inplace=True)"
   ]
  },
  {
   "cell_type": "code",
   "execution_count": null,
   "id": "million-extra",
   "metadata": {},
   "outputs": [],
   "source": [
    "f1_wide_sec['Assets'].isna().value_counts()"
   ]
  },
  {
   "cell_type": "code",
   "execution_count": null,
   "id": "manufactured-montreal",
   "metadata": {},
   "outputs": [],
   "source": [
    "## Different companies put Revenues in different fields\n",
    "\n",
    "f1_wide_sec['Revenue_any'] = f1_wide_sec['Revenues']\n",
    "\n",
    "f1_wide_sec['Revenue_any'].fillna(f1_wide_sec['SalesRevenueNet'], inplace=True)\n",
    "f1_wide_sec['Revenue_any'].fillna(f1_wide_sec['SalesRevenueGoodsNet'], inplace=True)"
   ]
  },
  {
   "cell_type": "code",
   "execution_count": null,
   "id": "protective-procurement",
   "metadata": {},
   "outputs": [],
   "source": [
    "f1_wide_sec.columns"
   ]
  },
  {
   "cell_type": "code",
   "execution_count": null,
   "id": "healthy-resort",
   "metadata": {},
   "outputs": [],
   "source": [
    "f1_wide_sec.head()"
   ]
  },
  {
   "cell_type": "code",
   "execution_count": null,
   "id": "psychological-field",
   "metadata": {},
   "outputs": [],
   "source": [
    "# sort df\n",
    "f1_wide_sec.sort_values(by=['company_name', 'period_end_date'], inplace=True)\n",
    "f1_wide_sec.head()\n",
    "\n",
    "#date_filed"
   ]
  },
  {
   "cell_type": "code",
   "execution_count": null,
   "id": "raising-frame",
   "metadata": {},
   "outputs": [],
   "source": [
    "# filter to where Assets >= 100MM\n",
    "# this is the threshold for the bankruptcy list from UCLA\n",
    "\n",
    "f2_wide_sec = f1_wide_sec[f1_wide_sec['Assets'] >= 1e8]\n",
    "f2_wide_sec.shape"
   ]
  },
  {
   "cell_type": "code",
   "execution_count": null,
   "id": "operating-pharmaceutical",
   "metadata": {},
   "outputs": [],
   "source": [
    "f2_wide_sec.info()"
   ]
  },
  {
   "cell_type": "code",
   "execution_count": null,
   "id": "tracked-photography",
   "metadata": {},
   "outputs": [],
   "source": [
    "# period_end_date back to a datetime\n",
    "\n",
    "f2_wide_sec['period_end_date']= pd.to_datetime(f2_wide_sec['period_end_date'])"
   ]
  },
  {
   "cell_type": "code",
   "execution_count": null,
   "id": "young-gross",
   "metadata": {},
   "outputs": [],
   "source": [
    "f3_wide_sec  = f2_wide_sec.groupby(['company_name', 'period_end_date']).tail(1)\n",
    "f3_wide_sec.shape"
   ]
  },
  {
   "cell_type": "code",
   "execution_count": null,
   "id": "frank-renewal",
   "metadata": {},
   "outputs": [],
   "source": [
    "f3_wide_sec['company_name'].value_counts()"
   ]
  },
  {
   "cell_type": "code",
   "execution_count": null,
   "id": "amber-chapel",
   "metadata": {},
   "outputs": [],
   "source": [
    "f3_wide_sec[f3_wide_sec['company_name'] == 'ULTA BEAUTY, INC.']"
   ]
  },
  {
   "cell_type": "code",
   "execution_count": null,
   "id": "honey-mechanics",
   "metadata": {},
   "outputs": [],
   "source": [
    "f3_wide_sec.period_end_date.value_counts()"
   ]
  },
  {
   "cell_type": "code",
   "execution_count": null,
   "id": "novel-massage",
   "metadata": {},
   "outputs": [],
   "source": [
    "f3_wide_sec.company_name.nunique()"
   ]
  },
  {
   "cell_type": "code",
   "execution_count": null,
   "id": "broke-america",
   "metadata": {},
   "outputs": [],
   "source": []
  }
 ],
 "metadata": {
  "kernelspec": {
   "display_name": "Python [conda env:metis] *",
   "language": "python",
   "name": "conda-env-metis-py"
  },
  "language_info": {
   "codemirror_mode": {
    "name": "ipython",
    "version": 3
   },
   "file_extension": ".py",
   "mimetype": "text/x-python",
   "name": "python",
   "nbconvert_exporter": "python",
   "pygments_lexer": "ipython3",
   "version": "3.8.6"
  }
 },
 "nbformat": 4,
 "nbformat_minor": 5
}
