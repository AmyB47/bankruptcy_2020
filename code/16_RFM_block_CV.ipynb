{
 "cells": [
  {
   "cell_type": "code",
   "execution_count": 1,
   "id": "legislative-windows",
   "metadata": {},
     },
     "execution_count": 1,
     "metadata": {},
     "output_type": "execute_result"
    }
   ],
   "source": [
    "\"\"\"\n",
    "\n",
    "Random Forest Model\n",
    "\n",
    "Block Cross-Validation / Walk Forward Validation \n",
    "\n",
    "\n",
    "\"\"\""
   ]
  },
  {
   "cell_type": "code",
   "execution_count": 44,
   "id": "romance-serbia",
   "metadata": {},
   "outputs": [],
   "source": [
    "import pandas as pd\n",
    "import numpy as np\n",
    "import datetime\n",
    "import pickle"
   ]
  },
  {
   "cell_type": "code",
   "execution_count": 45,
   "id": "fifth-lebanon",
   "metadata": {},
   "outputs": [],
   "source": [
    "from sklearn.model_selection import train_test_split, KFold\n",
    "from sklearn.preprocessing import OneHotEncoder\n",
    "from sklearn.ensemble import RandomForestClassifier\n",
    "from sklearn.metrics import confusion_matrix, roc_auc_score, roc_curve\n",
    "from sklearn.metrics import precision_score, recall_score, precision_recall_curve, f1_score, fbeta_score "
   ]
  },
  {
   "cell_type": "code",
   "execution_count": 46,
   "id": "textile-arthur",
   "metadata": {},
   "outputs": [],
   "source": [
    "import matplotlib.pyplot as plt\n",
    "import seaborn as sns"
   ]
  },
  {
   "cell_type": "code",
   "execution_count": 47,
   "id": "developing-establishment",
   "metadata": {},
   "outputs": [],
   "source": [
    "from imblearn.over_sampling import RandomOverSampler, SMOTE\n",
    "from collections import Counter"
   ]
  },
  {
   "cell_type": "code",
   "execution_count": 48,
   "id": "proof-badge",
   "metadata": {},
   "outputs": [],
   "source": [
    "from sklearn.metrics import plot_roc_curve, plot_precision_recall_curve"
   ]
  },
  {
   "cell_type": "code",
   "execution_count": 49,
   "id": "supreme-fleet",
   "metadata": {},
   "outputs": [
    {
     "data": {
      "text/html": [
       "<div>\n",
       "<style scoped>\n",
       "    .dataframe tbody tr th:only-of-type {\n",
       "        vertical-align: middle;\n",
       "    }\n",
       "\n",
       "    .dataframe tbody tr th {\n",
       "        vertical-align: top;\n",
       "    }\n",
       "\n",
       "    .dataframe thead th {\n",
       "        text-align: right;\n",
       "    }\n",
       "</style>\n",
       "<table border=\"1\" class=\"dataframe\">\n",
       "  <thead>\n",
       "    <tr style=\"text-align: right;\">\n",
       "      <th></th>\n",
       "      <th>company_name</th>\n",
       "      <th>FULL_NAME</th>\n",
       "      <th>period_end_date</th>\n",
       "      <th>submission_number</th>\n",
       "      <th>central_index_key</th>\n",
       "      <th>ein</th>\n",
       "      <th>sic</th>\n",
       "      <th>fiscal_year_end</th>\n",
       "      <th>fiscal_year</th>\n",
       "      <th>form</th>\n",
       "      <th>...</th>\n",
       "      <th>current_ratio</th>\n",
       "      <th>leverage</th>\n",
       "      <th>return_on_equity</th>\n",
       "      <th>return_on_assets</th>\n",
       "      <th>ratio_1</th>\n",
       "      <th>ratio_2</th>\n",
       "      <th>ratio_3</th>\n",
       "      <th>ratio_4</th>\n",
       "      <th>EarningsPerShareBasic</th>\n",
       "      <th>EarningsPerShareDiluted</th>\n",
       "    </tr>\n",
       "  </thead>\n",
       "  <tbody>\n",
       "    <tr>\n",
       "      <th>0</th>\n",
       "      <td>1 800 FLOWERS COM INC</td>\n",
       "      <td>NaN</td>\n",
       "      <td>2014-06-30</td>\n",
       "      <td>0001437749-17-015969</td>\n",
       "      <td>1084869</td>\n",
       "      <td>113117311</td>\n",
       "      <td>5990</td>\n",
       "      <td>630</td>\n",
       "      <td>2017</td>\n",
       "      <td>10-K</td>\n",
       "      <td>...</td>\n",
       "      <td>1.235657</td>\n",
       "      <td>1.460306</td>\n",
       "      <td>NaN</td>\n",
       "      <td>NaN</td>\n",
       "      <td>0.684788</td>\n",
       "      <td>1.179782</td>\n",
       "      <td>3.285030</td>\n",
       "      <td>4.099066</td>\n",
       "      <td>0.24</td>\n",
       "      <td>0.23</td>\n",
       "    </tr>\n",
       "    <tr>\n",
       "      <th>1</th>\n",
       "      <td>1 800 FLOWERS COM INC</td>\n",
       "      <td>NaN</td>\n",
       "      <td>2015-06-30</td>\n",
       "      <td>0001437749-18-017027</td>\n",
       "      <td>1084869</td>\n",
       "      <td>113117311</td>\n",
       "      <td>5990</td>\n",
       "      <td>630</td>\n",
       "      <td>2018</td>\n",
       "      <td>10-K</td>\n",
       "      <td>...</td>\n",
       "      <td>1.254743</td>\n",
       "      <td>2.384626</td>\n",
       "      <td>NaN</td>\n",
       "      <td>NaN</td>\n",
       "      <td>0.419353</td>\n",
       "      <td>0.980128</td>\n",
       "      <td>1.733067</td>\n",
       "      <td>1.792763</td>\n",
       "      <td>0.31</td>\n",
       "      <td>0.30</td>\n",
       "    </tr>\n",
       "    <tr>\n",
       "      <th>2</th>\n",
       "      <td>1 800 FLOWERS COM INC</td>\n",
       "      <td>NaN</td>\n",
       "      <td>2016-06-30</td>\n",
       "      <td>0001437749-19-018360</td>\n",
       "      <td>1084869</td>\n",
       "      <td>113117311</td>\n",
       "      <td>5990</td>\n",
       "      <td>630</td>\n",
       "      <td>2019</td>\n",
       "      <td>10-K</td>\n",
       "      <td>...</td>\n",
       "      <td>1.378931</td>\n",
       "      <td>2.073248</td>\n",
       "      <td>NaN</td>\n",
       "      <td>NaN</td>\n",
       "      <td>0.482335</td>\n",
       "      <td>1.028864</td>\n",
       "      <td>1.931751</td>\n",
       "      <td>2.104657</td>\n",
       "      <td>0.57</td>\n",
       "      <td>0.55</td>\n",
       "    </tr>\n",
       "    <tr>\n",
       "      <th>3</th>\n",
       "      <td>1 800 FLOWERS COM INC</td>\n",
       "      <td>NaN</td>\n",
       "      <td>2017-06-30</td>\n",
       "      <td>0001437749-19-018360</td>\n",
       "      <td>1084869</td>\n",
       "      <td>113117311</td>\n",
       "      <td>5990</td>\n",
       "      <td>630</td>\n",
       "      <td>2019</td>\n",
       "      <td>10-K</td>\n",
       "      <td>...</td>\n",
       "      <td>2.056337</td>\n",
       "      <td>1.957454</td>\n",
       "      <td>0.156042</td>\n",
       "      <td>0.079717</td>\n",
       "      <td>0.510868</td>\n",
       "      <td>0.941736</td>\n",
       "      <td>2.044436</td>\n",
       "      <td>2.043737</td>\n",
       "      <td>0.68</td>\n",
       "      <td>0.65</td>\n",
       "    </tr>\n",
       "    <tr>\n",
       "      <th>4</th>\n",
       "      <td>1 800 FLOWERS COM INC</td>\n",
       "      <td>NaN</td>\n",
       "      <td>2018-06-30</td>\n",
       "      <td>0001437749-19-018360</td>\n",
       "      <td>1084869</td>\n",
       "      <td>113117311</td>\n",
       "      <td>5990</td>\n",
       "      <td>630</td>\n",
       "      <td>2019</td>\n",
       "      <td>10-K</td>\n",
       "      <td>...</td>\n",
       "      <td>2.187686</td>\n",
       "      <td>1.812899</td>\n",
       "      <td>0.129535</td>\n",
       "      <td>0.071452</td>\n",
       "      <td>0.551603</td>\n",
       "      <td>0.856603</td>\n",
       "      <td>2.230166</td>\n",
       "      <td>2.031857</td>\n",
       "      <td>0.63</td>\n",
       "      <td>0.61</td>\n",
       "    </tr>\n",
       "  </tbody>\n",
       "</table>\n",
       "<p>5 rows × 52 columns</p>\n",
       "</div>"
      ],
      "text/plain": [
       "            company_name FULL_NAME period_end_date     submission_number  \\\n",
       "0  1 800 FLOWERS COM INC       NaN      2014-06-30  0001437749-17-015969   \n",
       "1  1 800 FLOWERS COM INC       NaN      2015-06-30  0001437749-18-017027   \n",
       "2  1 800 FLOWERS COM INC       NaN      2016-06-30  0001437749-19-018360   \n",
       "3  1 800 FLOWERS COM INC       NaN      2017-06-30  0001437749-19-018360   \n",
       "4  1 800 FLOWERS COM INC       NaN      2018-06-30  0001437749-19-018360   \n",
       "\n",
       "  central_index_key        ein   sic  fiscal_year_end  fiscal_year  form  ...  \\\n",
       "0           1084869  113117311  5990              630         2017  10-K  ...   \n",
       "1           1084869  113117311  5990              630         2018  10-K  ...   \n",
       "2           1084869  113117311  5990              630         2019  10-K  ...   \n",
       "3           1084869  113117311  5990              630         2019  10-K  ...   \n",
       "4           1084869  113117311  5990              630         2019  10-K  ...   \n",
       "\n",
       "  current_ratio  leverage return_on_equity return_on_assets   ratio_1  \\\n",
       "0      1.235657  1.460306              NaN              NaN  0.684788   \n",
       "1      1.254743  2.384626              NaN              NaN  0.419353   \n",
       "2      1.378931  2.073248              NaN              NaN  0.482335   \n",
       "3      2.056337  1.957454         0.156042         0.079717  0.510868   \n",
       "4      2.187686  1.812899         0.129535         0.071452  0.551603   \n",
       "\n",
       "    ratio_2   ratio_3   ratio_4  EarningsPerShareBasic  \\\n",
       "0  1.179782  3.285030  4.099066                   0.24   \n",
       "1  0.980128  1.733067  1.792763                   0.31   \n",
       "2  1.028864  1.931751  2.104657                   0.57   \n",
       "3  0.941736  2.044436  2.043737                   0.68   \n",
       "4  0.856603  2.230166  2.031857                   0.63   \n",
       "\n",
       "   EarningsPerShareDiluted  \n",
       "0                     0.23  \n",
       "1                     0.30  \n",
       "2                     0.55  \n",
       "3                     0.65  \n",
       "4                     0.61  \n",
       "\n",
       "[5 rows x 52 columns]"
      ]
     },
     "execution_count": 49,
     "metadata": {},
     "output_type": "execute_result"
    }
   ],
   "source": [
    "# the df with features and target\n",
    "\n",
    "with open('data_model_training.pickle', 'rb') as read_file:\n",
    "    model_data = pickle.load(read_file)\n",
    "    \n",
    "model_data.head()"
   ]
  },
  {
   "cell_type": "code",
   "execution_count": 50,
   "id": "foster-concern",
   "metadata": {},
   "outputs": [
    {
     "data": {
      "text/plain": [
       "(19919, 52)"
      ]
     },
     "execution_count": 50,
     "metadata": {},
     "output_type": "execute_result"
    }
   ],
   "source": [
    "model_data.shape"
   ]
  },
  {
   "cell_type": "code",
   "execution_count": 51,
   "id": "smooth-graham",
   "metadata": {},
   "outputs": [],
   "source": [
    "#model_data.columns"
   ]
  },
  {
   "cell_type": "code",
   "execution_count": 52,
   "id": "pediatric-occasions",
   "metadata": {},
   "outputs": [],
   "source": [
    "# fill infinity values with NaN\n",
    "\n",
    "model_data.replace([np.inf, -np.inf], np.nan, inplace=True)"
   ]
  },
  {
   "cell_type": "code",
   "execution_count": 53,
   "id": "finished-prayer",
   "metadata": {},
   "outputs": [],
   "source": [
    "## split into 3 parts to handle missing\n",
    "\n",
    "model_ready_1 = model_data[['company_name', 'FULL_NAME', 'period_end_date', 'submission_number',\n",
    "       'central_index_key', 'ein', 'sic', 'fiscal_year_end', 'fiscal_year',\n",
    "       'form', 'date_filed', 'Industry', 'div_code', 'Division',\n",
    "       'bankruptcy_date', 'days', 'target']]"
   ]
  },
  {
   "cell_type": "code",
   "execution_count": 54,
   "id": "golden-document",
   "metadata": {},
   "outputs": [],
   "source": [
    "## RF will not accept NaNs\n",
    "\n",
    "## change all NaN to zero where large values\n",
    "\n",
    "model_ready_2 = model_data[['Assets_MM', 'AssetsCurrent_MM',\n",
    "       'Libilities_MM', 'LibilitiesCurrent_MM', 'NetIncomeLoss_MM',\n",
    "       'StockholdersEquity_MM', 'OperatingIncomeLoss_MM', 'Revenues_MM',\n",
    "       'CashAndCashEquivalentsAtCarryingValue_MM', 'CommonStockValue_MM',\n",
    "       'Goodwill_MM', 'GrossProfit_MM', 'InterestExpense_MM', 'Revenue_any_MM',\n",
    "       'SalesRevenueGoodsNet_MM', 'SalesRevenueNet_MM',\n",
    "       'NetCashProvidedByUsedInFinancingActivities_MM',\n",
    "       'NetCashProvidedByUsedInInvestingActivities_MM',\n",
    "       'NetCashProvidedByUsedInOperatingActivities_MM',\n",
    "       'LongTermDebtMaturitiesRepaymentsOfPrincipalInNextTwelveMonths_MM',\n",
    "       'LongTermDebtNoncurrent_MM', 'LongTermDebt_MM',\n",
    "       'RepaymentsOfLongTermDebt_MM']].fillna(-999999)\n"
   ]
  },
  {
   "cell_type": "code",
   "execution_count": 55,
   "id": "lucky-organic",
   "metadata": {},
   "outputs": [
    {
     "data": {
      "text/plain": [
       "-999999.0"
      ]
     },
     "execution_count": 55,
     "metadata": {},
     "output_type": "execute_result"
    }
   ],
   "source": [
    "min(model_ready_2.OperatingIncomeLoss_MM)"
   ]
  },
  {
   "cell_type": "code",
   "execution_count": 56,
   "id": "forbidden-phone",
   "metadata": {},
   "outputs": [
    {
     "data": {
      "text/html": [
       "<div>\n",
       "<style scoped>\n",
       "    .dataframe tbody tr th:only-of-type {\n",
       "        vertical-align: middle;\n",
       "    }\n",
       "\n",
       "    .dataframe tbody tr th {\n",
       "        vertical-align: top;\n",
       "    }\n",
       "\n",
       "    .dataframe thead th {\n",
       "        text-align: right;\n",
       "    }\n",
       "</style>\n",
       "<table border=\"1\" class=\"dataframe\">\n",
       "  <thead>\n",
       "    <tr style=\"text-align: right;\">\n",
       "      <th></th>\n",
       "      <th>Assets_MM</th>\n",
       "      <th>AssetsCurrent_MM</th>\n",
       "      <th>Libilities_MM</th>\n",
       "      <th>LibilitiesCurrent_MM</th>\n",
       "      <th>NetIncomeLoss_MM</th>\n",
       "      <th>StockholdersEquity_MM</th>\n",
       "      <th>OperatingIncomeLoss_MM</th>\n",
       "      <th>Revenues_MM</th>\n",
       "      <th>CashAndCashEquivalentsAtCarryingValue_MM</th>\n",
       "      <th>CommonStockValue_MM</th>\n",
       "      <th>...</th>\n",
       "      <th>Revenue_any_MM</th>\n",
       "      <th>SalesRevenueGoodsNet_MM</th>\n",
       "      <th>SalesRevenueNet_MM</th>\n",
       "      <th>NetCashProvidedByUsedInFinancingActivities_MM</th>\n",
       "      <th>NetCashProvidedByUsedInInvestingActivities_MM</th>\n",
       "      <th>NetCashProvidedByUsedInOperatingActivities_MM</th>\n",
       "      <th>LongTermDebtMaturitiesRepaymentsOfPrincipalInNextTwelveMonths_MM</th>\n",
       "      <th>LongTermDebtNoncurrent_MM</th>\n",
       "      <th>LongTermDebt_MM</th>\n",
       "      <th>RepaymentsOfLongTermDebt_MM</th>\n",
       "    </tr>\n",
       "  </thead>\n",
       "  <tbody>\n",
       "    <tr>\n",
       "      <th>0</th>\n",
       "      <td>267.569</td>\n",
       "      <td>91.818</td>\n",
       "      <td>81.451</td>\n",
       "      <td>74.307</td>\n",
       "      <td>-999999.000</td>\n",
       "      <td>183.228</td>\n",
       "      <td>23.706</td>\n",
       "      <td>-999999.000</td>\n",
       "      <td>5.203</td>\n",
       "      <td>-999999.0</td>\n",
       "      <td>...</td>\n",
       "      <td>756.345</td>\n",
       "      <td>-999999.0</td>\n",
       "      <td>756.345</td>\n",
       "      <td>-6.002</td>\n",
       "      <td>-31.488</td>\n",
       "      <td>42.539</td>\n",
       "      <td>-999999.0</td>\n",
       "      <td>-999999.0</td>\n",
       "      <td>-999999.0</td>\n",
       "      <td>-999999.0</td>\n",
       "    </tr>\n",
       "    <tr>\n",
       "      <th>1</th>\n",
       "      <td>497.073</td>\n",
       "      <td>155.095</td>\n",
       "      <td>286.817</td>\n",
       "      <td>123.607</td>\n",
       "      <td>-999999.000</td>\n",
       "      <td>208.449</td>\n",
       "      <td>37.617</td>\n",
       "      <td>-999999.000</td>\n",
       "      <td>27.940</td>\n",
       "      <td>-999999.0</td>\n",
       "      <td>...</td>\n",
       "      <td>1121.506</td>\n",
       "      <td>-999999.0</td>\n",
       "      <td>1121.506</td>\n",
       "      <td>60.607</td>\n",
       "      <td>-163.603</td>\n",
       "      <td>125.733</td>\n",
       "      <td>-999999.0</td>\n",
       "      <td>-999999.0</td>\n",
       "      <td>-999999.0</td>\n",
       "      <td>-999999.0</td>\n",
       "    </tr>\n",
       "    <tr>\n",
       "      <th>2</th>\n",
       "      <td>502.941</td>\n",
       "      <td>166.659</td>\n",
       "      <td>260.355</td>\n",
       "      <td>120.861</td>\n",
       "      <td>-999999.000</td>\n",
       "      <td>242.586</td>\n",
       "      <td>43.282</td>\n",
       "      <td>1173.024</td>\n",
       "      <td>27.826</td>\n",
       "      <td>-999999.0</td>\n",
       "      <td>...</td>\n",
       "      <td>1173.024</td>\n",
       "      <td>-999999.0</td>\n",
       "      <td>1173.024</td>\n",
       "      <td>-23.849</td>\n",
       "      <td>-33.938</td>\n",
       "      <td>57.673</td>\n",
       "      <td>-999999.0</td>\n",
       "      <td>-999999.0</td>\n",
       "      <td>-999999.0</td>\n",
       "      <td>-999999.0</td>\n",
       "    </tr>\n",
       "    <tr>\n",
       "      <th>3</th>\n",
       "      <td>552.470</td>\n",
       "      <td>257.402</td>\n",
       "      <td>270.231</td>\n",
       "      <td>125.175</td>\n",
       "      <td>44.041</td>\n",
       "      <td>282.239</td>\n",
       "      <td>46.359</td>\n",
       "      <td>1193.625</td>\n",
       "      <td>149.732</td>\n",
       "      <td>-999999.0</td>\n",
       "      <td>...</td>\n",
       "      <td>1193.625</td>\n",
       "      <td>-999999.0</td>\n",
       "      <td>1193.625</td>\n",
       "      <td>-17.406</td>\n",
       "      <td>78.302</td>\n",
       "      <td>61.010</td>\n",
       "      <td>-999999.0</td>\n",
       "      <td>-999999.0</td>\n",
       "      <td>-999999.0</td>\n",
       "      <td>-999999.0</td>\n",
       "    </tr>\n",
       "    <tr>\n",
       "      <th>4</th>\n",
       "      <td>570.889</td>\n",
       "      <td>273.021</td>\n",
       "      <td>255.985</td>\n",
       "      <td>124.799</td>\n",
       "      <td>40.791</td>\n",
       "      <td>314.904</td>\n",
       "      <td>41.048</td>\n",
       "      <td>1151.921</td>\n",
       "      <td>147.240</td>\n",
       "      <td>-999999.0</td>\n",
       "      <td>...</td>\n",
       "      <td>1151.921</td>\n",
       "      <td>-999999.0</td>\n",
       "      <td>-999999.000</td>\n",
       "      <td>-19.027</td>\n",
       "      <td>-41.806</td>\n",
       "      <td>58.341</td>\n",
       "      <td>-999999.0</td>\n",
       "      <td>-999999.0</td>\n",
       "      <td>-999999.0</td>\n",
       "      <td>-999999.0</td>\n",
       "    </tr>\n",
       "  </tbody>\n",
       "</table>\n",
       "<p>5 rows × 23 columns</p>\n",
       "</div>"
      ],
      "text/plain": [
       "   Assets_MM  AssetsCurrent_MM  Libilities_MM  LibilitiesCurrent_MM  \\\n",
       "0    267.569            91.818         81.451                74.307   \n",
       "1    497.073           155.095        286.817               123.607   \n",
       "2    502.941           166.659        260.355               120.861   \n",
       "3    552.470           257.402        270.231               125.175   \n",
       "4    570.889           273.021        255.985               124.799   \n",
       "\n",
       "   NetIncomeLoss_MM  StockholdersEquity_MM  OperatingIncomeLoss_MM  \\\n",
       "0       -999999.000                183.228                  23.706   \n",
       "1       -999999.000                208.449                  37.617   \n",
       "2       -999999.000                242.586                  43.282   \n",
       "3            44.041                282.239                  46.359   \n",
       "4            40.791                314.904                  41.048   \n",
       "\n",
       "   Revenues_MM  CashAndCashEquivalentsAtCarryingValue_MM  CommonStockValue_MM  \\\n",
       "0  -999999.000                                     5.203            -999999.0   \n",
       "1  -999999.000                                    27.940            -999999.0   \n",
       "2     1173.024                                    27.826            -999999.0   \n",
       "3     1193.625                                   149.732            -999999.0   \n",
       "4     1151.921                                   147.240            -999999.0   \n",
       "\n",
       "   ...  Revenue_any_MM  SalesRevenueGoodsNet_MM  SalesRevenueNet_MM  \\\n",
       "0  ...         756.345                -999999.0             756.345   \n",
       "1  ...        1121.506                -999999.0            1121.506   \n",
       "2  ...        1173.024                -999999.0            1173.024   \n",
       "3  ...        1193.625                -999999.0            1193.625   \n",
       "4  ...        1151.921                -999999.0         -999999.000   \n",
       "\n",
       "   NetCashProvidedByUsedInFinancingActivities_MM  \\\n",
       "0                                         -6.002   \n",
       "1                                         60.607   \n",
       "2                                        -23.849   \n",
       "3                                        -17.406   \n",
       "4                                        -19.027   \n",
       "\n",
       "   NetCashProvidedByUsedInInvestingActivities_MM  \\\n",
       "0                                        -31.488   \n",
       "1                                       -163.603   \n",
       "2                                        -33.938   \n",
       "3                                         78.302   \n",
       "4                                        -41.806   \n",
       "\n",
       "   NetCashProvidedByUsedInOperatingActivities_MM  \\\n",
       "0                                         42.539   \n",
       "1                                        125.733   \n",
       "2                                         57.673   \n",
       "3                                         61.010   \n",
       "4                                         58.341   \n",
       "\n",
       "   LongTermDebtMaturitiesRepaymentsOfPrincipalInNextTwelveMonths_MM  \\\n",
       "0                                          -999999.0                  \n",
       "1                                          -999999.0                  \n",
       "2                                          -999999.0                  \n",
       "3                                          -999999.0                  \n",
       "4                                          -999999.0                  \n",
       "\n",
       "   LongTermDebtNoncurrent_MM  LongTermDebt_MM  RepaymentsOfLongTermDebt_MM  \n",
       "0                  -999999.0        -999999.0                    -999999.0  \n",
       "1                  -999999.0        -999999.0                    -999999.0  \n",
       "2                  -999999.0        -999999.0                    -999999.0  \n",
       "3                  -999999.0        -999999.0                    -999999.0  \n",
       "4                  -999999.0        -999999.0                    -999999.0  \n",
       "\n",
       "[5 rows x 23 columns]"
      ]
     },
     "execution_count": 56,
     "metadata": {},
     "output_type": "execute_result"
    }
   ],
   "source": [
    "model_ready_2.head()"
   ]
  },
  {
   "cell_type": "code",
   "execution_count": 57,
   "id": "second-groove",
   "metadata": {},
   "outputs": [],
   "source": [
    "## change to large extreme negative where ratios\n",
    "\n",
    "model_ready_3 = model_data[['debt_ratio', 'debt_equity_ratio',\n",
    "       'current_ratio', 'leverage', 'return_on_equity', 'return_on_assets',\n",
    "       'ratio_1', 'ratio_2', 'ratio_3', 'ratio_4', 'EarningsPerShareBasic',\n",
    "       'EarningsPerShareDiluted']].fillna(-999999)\n"
   ]
  },
  {
   "cell_type": "code",
   "execution_count": 58,
   "id": "proud-forum",
   "metadata": {},
   "outputs": [],
   "source": [
    "model_ready = pd.concat([model_ready_1, model_ready_2, model_ready_3], axis=1)"
   ]
  },
  {
   "cell_type": "code",
   "execution_count": 59,
   "id": "extended-combination",
   "metadata": {},
   "outputs": [
    {
     "data": {
      "text/plain": [
       "(19919, 52)"
      ]
     },
     "execution_count": 59,
     "metadata": {},
     "output_type": "execute_result"
    }
   ],
   "source": [
    "model_ready.shape"
   ]
  },
  {
   "cell_type": "code",
   "execution_count": 60,
   "id": "extended-opportunity",
   "metadata": {},
   "outputs": [
    {
     "data": {
      "text/plain": [
       "5373"
      ]
     },
     "execution_count": 60,
     "metadata": {},
     "output_type": "execute_result"
    }
   ],
   "source": [
    "model_ready.company_name.nunique()"
   ]
  },
  {
   "cell_type": "code",
   "execution_count": 61,
   "id": "cellular-wholesale",
   "metadata": {},
   "outputs": [
    {
     "data": {
      "text/html": [
       "<div>\n",
       "<style scoped>\n",
       "    .dataframe tbody tr th:only-of-type {\n",
       "        vertical-align: middle;\n",
       "    }\n",
       "\n",
       "    .dataframe tbody tr th {\n",
       "        vertical-align: top;\n",
       "    }\n",
       "\n",
       "    .dataframe thead th {\n",
       "        text-align: right;\n",
       "    }\n",
       "</style>\n",
       "<table border=\"1\" class=\"dataframe\">\n",
       "  <thead>\n",
       "    <tr style=\"text-align: right;\">\n",
       "      <th></th>\n",
       "      <th>Division_Agriculture, Forestry and Fishing</th>\n",
       "      <th>Division_Construction</th>\n",
       "      <th>Division_Finance, Insurance and Real Estate</th>\n",
       "      <th>Division_Manufacturing</th>\n",
       "      <th>Division_Mining</th>\n",
       "      <th>Division_Retail Trade</th>\n",
       "      <th>Division_Services</th>\n",
       "      <th>Division_Transportation, Communications, Electric, Gas and Sanitary service</th>\n",
       "      <th>Division_Wholesale Trade</th>\n",
       "    </tr>\n",
       "  </thead>\n",
       "  <tbody>\n",
       "    <tr>\n",
       "      <th>0</th>\n",
       "      <td>0.0</td>\n",
       "      <td>0.0</td>\n",
       "      <td>0.0</td>\n",
       "      <td>0.0</td>\n",
       "      <td>0.0</td>\n",
       "      <td>1.0</td>\n",
       "      <td>0.0</td>\n",
       "      <td>0.0</td>\n",
       "      <td>0.0</td>\n",
       "    </tr>\n",
       "    <tr>\n",
       "      <th>1</th>\n",
       "      <td>0.0</td>\n",
       "      <td>0.0</td>\n",
       "      <td>0.0</td>\n",
       "      <td>0.0</td>\n",
       "      <td>0.0</td>\n",
       "      <td>1.0</td>\n",
       "      <td>0.0</td>\n",
       "      <td>0.0</td>\n",
       "      <td>0.0</td>\n",
       "    </tr>\n",
       "    <tr>\n",
       "      <th>2</th>\n",
       "      <td>0.0</td>\n",
       "      <td>0.0</td>\n",
       "      <td>0.0</td>\n",
       "      <td>0.0</td>\n",
       "      <td>0.0</td>\n",
       "      <td>1.0</td>\n",
       "      <td>0.0</td>\n",
       "      <td>0.0</td>\n",
       "      <td>0.0</td>\n",
       "    </tr>\n",
       "    <tr>\n",
       "      <th>3</th>\n",
       "      <td>0.0</td>\n",
       "      <td>0.0</td>\n",
       "      <td>0.0</td>\n",
       "      <td>0.0</td>\n",
       "      <td>0.0</td>\n",
       "      <td>1.0</td>\n",
       "      <td>0.0</td>\n",
       "      <td>0.0</td>\n",
       "      <td>0.0</td>\n",
       "    </tr>\n",
       "    <tr>\n",
       "      <th>4</th>\n",
       "      <td>0.0</td>\n",
       "      <td>0.0</td>\n",
       "      <td>0.0</td>\n",
       "      <td>0.0</td>\n",
       "      <td>0.0</td>\n",
       "      <td>1.0</td>\n",
       "      <td>0.0</td>\n",
       "      <td>0.0</td>\n",
       "      <td>0.0</td>\n",
       "    </tr>\n",
       "    <tr>\n",
       "      <th>...</th>\n",
       "      <td>...</td>\n",
       "      <td>...</td>\n",
       "      <td>...</td>\n",
       "      <td>...</td>\n",
       "      <td>...</td>\n",
       "      <td>...</td>\n",
       "      <td>...</td>\n",
       "      <td>...</td>\n",
       "      <td>...</td>\n",
       "    </tr>\n",
       "    <tr>\n",
       "      <th>19914</th>\n",
       "      <td>0.0</td>\n",
       "      <td>0.0</td>\n",
       "      <td>0.0</td>\n",
       "      <td>0.0</td>\n",
       "      <td>0.0</td>\n",
       "      <td>0.0</td>\n",
       "      <td>1.0</td>\n",
       "      <td>0.0</td>\n",
       "      <td>0.0</td>\n",
       "    </tr>\n",
       "    <tr>\n",
       "      <th>19915</th>\n",
       "      <td>0.0</td>\n",
       "      <td>0.0</td>\n",
       "      <td>0.0</td>\n",
       "      <td>0.0</td>\n",
       "      <td>0.0</td>\n",
       "      <td>0.0</td>\n",
       "      <td>1.0</td>\n",
       "      <td>0.0</td>\n",
       "      <td>0.0</td>\n",
       "    </tr>\n",
       "    <tr>\n",
       "      <th>19916</th>\n",
       "      <td>0.0</td>\n",
       "      <td>0.0</td>\n",
       "      <td>0.0</td>\n",
       "      <td>0.0</td>\n",
       "      <td>0.0</td>\n",
       "      <td>0.0</td>\n",
       "      <td>1.0</td>\n",
       "      <td>0.0</td>\n",
       "      <td>0.0</td>\n",
       "    </tr>\n",
       "    <tr>\n",
       "      <th>19917</th>\n",
       "      <td>0.0</td>\n",
       "      <td>0.0</td>\n",
       "      <td>0.0</td>\n",
       "      <td>0.0</td>\n",
       "      <td>0.0</td>\n",
       "      <td>0.0</td>\n",
       "      <td>1.0</td>\n",
       "      <td>0.0</td>\n",
       "      <td>0.0</td>\n",
       "    </tr>\n",
       "    <tr>\n",
       "      <th>19918</th>\n",
       "      <td>0.0</td>\n",
       "      <td>0.0</td>\n",
       "      <td>0.0</td>\n",
       "      <td>0.0</td>\n",
       "      <td>0.0</td>\n",
       "      <td>0.0</td>\n",
       "      <td>1.0</td>\n",
       "      <td>0.0</td>\n",
       "      <td>0.0</td>\n",
       "    </tr>\n",
       "  </tbody>\n",
       "</table>\n",
       "<p>19919 rows × 9 columns</p>\n",
       "</div>"
      ],
      "text/plain": [
       "       Division_Agriculture, Forestry and Fishing  Division_Construction  \\\n",
       "0                                             0.0                    0.0   \n",
       "1                                             0.0                    0.0   \n",
       "2                                             0.0                    0.0   \n",
       "3                                             0.0                    0.0   \n",
       "4                                             0.0                    0.0   \n",
       "...                                           ...                    ...   \n",
       "19914                                         0.0                    0.0   \n",
       "19915                                         0.0                    0.0   \n",
       "19916                                         0.0                    0.0   \n",
       "19917                                         0.0                    0.0   \n",
       "19918                                         0.0                    0.0   \n",
       "\n",
       "       Division_Finance, Insurance and Real Estate  Division_Manufacturing  \\\n",
       "0                                              0.0                     0.0   \n",
       "1                                              0.0                     0.0   \n",
       "2                                              0.0                     0.0   \n",
       "3                                              0.0                     0.0   \n",
       "4                                              0.0                     0.0   \n",
       "...                                            ...                     ...   \n",
       "19914                                          0.0                     0.0   \n",
       "19915                                          0.0                     0.0   \n",
       "19916                                          0.0                     0.0   \n",
       "19917                                          0.0                     0.0   \n",
       "19918                                          0.0                     0.0   \n",
       "\n",
       "       Division_Mining  Division_Retail Trade  Division_Services  \\\n",
       "0                  0.0                    1.0                0.0   \n",
       "1                  0.0                    1.0                0.0   \n",
       "2                  0.0                    1.0                0.0   \n",
       "3                  0.0                    1.0                0.0   \n",
       "4                  0.0                    1.0                0.0   \n",
       "...                ...                    ...                ...   \n",
       "19914              0.0                    0.0                1.0   \n",
       "19915              0.0                    0.0                1.0   \n",
       "19916              0.0                    0.0                1.0   \n",
       "19917              0.0                    0.0                1.0   \n",
       "19918              0.0                    0.0                1.0   \n",
       "\n",
       "       Division_Transportation, Communications, Electric, Gas and Sanitary service  \\\n",
       "0                                                    0.0                             \n",
       "1                                                    0.0                             \n",
       "2                                                    0.0                             \n",
       "3                                                    0.0                             \n",
       "4                                                    0.0                             \n",
       "...                                                  ...                             \n",
       "19914                                                0.0                             \n",
       "19915                                                0.0                             \n",
       "19916                                                0.0                             \n",
       "19917                                                0.0                             \n",
       "19918                                                0.0                             \n",
       "\n",
       "       Division_Wholesale Trade  \n",
       "0                           0.0  \n",
       "1                           0.0  \n",
       "2                           0.0  \n",
       "3                           0.0  \n",
       "4                           0.0  \n",
       "...                         ...  \n",
       "19914                       0.0  \n",
       "19915                       0.0  \n",
       "19916                       0.0  \n",
       "19917                       0.0  \n",
       "19918                       0.0  \n",
       "\n",
       "[19919 rows x 9 columns]"
      ]
     },
     "execution_count": 61,
     "metadata": {},
     "output_type": "execute_result"
    }
   ],
   "source": [
    "# one hot encoding for the industry division\n",
    "\n",
    "div_code = model_ready[['Division']]\n",
    "\n",
    "one = OneHotEncoder(sparse=False)\n",
    "one.fit(div_code)\n",
    "cats = one.transform(div_code)\n",
    "\n",
    "columns = one.get_feature_names(['Division'])\n",
    "div_code_df = pd.DataFrame(cats, columns=columns, index=div_code.index)\n",
    "\n",
    "div_code_df"
   ]
  },
  {
   "cell_type": "code",
   "execution_count": 62,
   "id": "broad-mathematics",
   "metadata": {},
   "outputs": [
    {
     "data": {
      "text/plain": [
       "(19919, 61)"
      ]
     },
     "execution_count": 62,
     "metadata": {},
     "output_type": "execute_result"
    }
   ],
   "source": [
    "rfm_ready = pd.concat([model_ready, div_code_df], axis=1)\n",
    "rfm_ready.shape"
   ]
  },
  {
   "cell_type": "code",
   "execution_count": 63,
   "id": "descending-brief",
   "metadata": {},
   "outputs": [],
   "source": [
    "## deviation features\n",
    "\n",
    "def add_deviation_feature(X, feature, category):\n",
    "    \n",
    "    # temp groupby object\n",
    "    category_gb = X.groupby(category)[feature]\n",
    "    \n",
    "    # create columns of category means and standard deviations\n",
    "    category_mean = category_gb.transform(lambda x: x.mean())\n",
    "    category_std = category_gb.transform(lambda x: x.std())\n",
    "    \n",
    "    # compute stds from category mean for each feature value,\n",
    "    # add to X as new feature\n",
    "    deviation_feature = (X[feature] - category_mean) / category_std \n",
    "    X[feature + '_Dev_' + category] = deviation_feature  \n"
   ]
  },
  {
   "cell_type": "code",
   "execution_count": 64,
   "id": "suited-backup",
   "metadata": {},
   "outputs": [],
   "source": [
    "rfm_w_dev = rfm_ready.copy()"
   ]
  },
  {
   "cell_type": "code",
   "execution_count": 65,
   "id": "scientific-dallas",
   "metadata": {},
   "outputs": [],
   "source": [
    "\n",
    "add_deviation_feature(rfm_w_dev, 'debt_ratio', 'Division')\n",
    "add_deviation_feature(rfm_w_dev, 'debt_equity_ratio', 'Division')\n",
    "add_deviation_feature(rfm_w_dev, 'current_ratio', 'Division')\n",
    "add_deviation_feature(rfm_w_dev, 'leverage', 'Division')\n",
    "add_deviation_feature(rfm_w_dev, 'return_on_equity', 'Division')\n",
    "add_deviation_feature(rfm_w_dev, 'return_on_assets', 'Division')\n",
    "add_deviation_feature(rfm_w_dev, 'ratio_1', 'Division')\n",
    "add_deviation_feature(rfm_w_dev, 'ratio_2', 'Division')\n",
    "add_deviation_feature(rfm_w_dev, 'ratio_3', 'Division')\n",
    "add_deviation_feature(rfm_w_dev, 'ratio_4', 'Division')\n",
    "add_deviation_feature(rfm_w_dev, 'EarningsPerShareBasic', 'Division')\n",
    "add_deviation_feature(rfm_w_dev, 'EarningsPerShareDiluted', 'Division')\n"
   ]
  },
  {
   "cell_type": "code",
   "execution_count": 66,
   "id": "prescribed-protocol",
   "metadata": {},
   "outputs": [
    {
     "data": {
      "text/html": [
       "<div>\n",
       "<style scoped>\n",
       "    .dataframe tbody tr th:only-of-type {\n",
       "        vertical-align: middle;\n",
       "    }\n",
       "\n",
       "    .dataframe tbody tr th {\n",
       "        vertical-align: top;\n",
       "    }\n",
       "\n",
       "    .dataframe thead th {\n",
       "        text-align: right;\n",
       "    }\n",
       "</style>\n",
       "<table border=\"1\" class=\"dataframe\">\n",
       "  <thead>\n",
       "    <tr style=\"text-align: right;\">\n",
       "      <th></th>\n",
       "      <th>company_name</th>\n",
       "      <th>FULL_NAME</th>\n",
       "      <th>period_end_date</th>\n",
       "      <th>submission_number</th>\n",
       "      <th>central_index_key</th>\n",
       "      <th>ein</th>\n",
       "      <th>sic</th>\n",
       "      <th>fiscal_year_end</th>\n",
       "      <th>fiscal_year</th>\n",
       "      <th>form</th>\n",
       "      <th>...</th>\n",
       "      <th>current_ratio_Dev_Division</th>\n",
       "      <th>leverage_Dev_Division</th>\n",
       "      <th>return_on_equity_Dev_Division</th>\n",
       "      <th>return_on_assets_Dev_Division</th>\n",
       "      <th>ratio_1_Dev_Division</th>\n",
       "      <th>ratio_2_Dev_Division</th>\n",
       "      <th>ratio_3_Dev_Division</th>\n",
       "      <th>ratio_4_Dev_Division</th>\n",
       "      <th>EarningsPerShareBasic_Dev_Division</th>\n",
       "      <th>EarningsPerShareDiluted_Dev_Division</th>\n",
       "    </tr>\n",
       "  </thead>\n",
       "  <tbody>\n",
       "    <tr>\n",
       "      <th>0</th>\n",
       "      <td>1 800 FLOWERS COM INC</td>\n",
       "      <td>NaN</td>\n",
       "      <td>2014-06-30</td>\n",
       "      <td>0001437749-17-015969</td>\n",
       "      <td>1084869</td>\n",
       "      <td>113117311</td>\n",
       "      <td>5990</td>\n",
       "      <td>630</td>\n",
       "      <td>2017</td>\n",
       "      <td>10-K</td>\n",
       "      <td>...</td>\n",
       "      <td>0.108022</td>\n",
       "      <td>0.181646</td>\n",
       "      <td>-2.880696</td>\n",
       "      <td>-3.432926</td>\n",
       "      <td>0.181656</td>\n",
       "      <td>0.741941</td>\n",
       "      <td>0.186811</td>\n",
       "      <td>1.310837</td>\n",
       "      <td>0.443194</td>\n",
       "      <td>0.441760</td>\n",
       "    </tr>\n",
       "    <tr>\n",
       "      <th>1</th>\n",
       "      <td>1 800 FLOWERS COM INC</td>\n",
       "      <td>NaN</td>\n",
       "      <td>2015-06-30</td>\n",
       "      <td>0001437749-18-017027</td>\n",
       "      <td>1084869</td>\n",
       "      <td>113117311</td>\n",
       "      <td>5990</td>\n",
       "      <td>630</td>\n",
       "      <td>2018</td>\n",
       "      <td>10-K</td>\n",
       "      <td>...</td>\n",
       "      <td>0.108022</td>\n",
       "      <td>0.181652</td>\n",
       "      <td>-2.880696</td>\n",
       "      <td>-3.432926</td>\n",
       "      <td>0.181654</td>\n",
       "      <td>0.741941</td>\n",
       "      <td>0.186802</td>\n",
       "      <td>1.310833</td>\n",
       "      <td>0.443194</td>\n",
       "      <td>0.441760</td>\n",
       "    </tr>\n",
       "    <tr>\n",
       "      <th>2</th>\n",
       "      <td>1 800 FLOWERS COM INC</td>\n",
       "      <td>NaN</td>\n",
       "      <td>2016-06-30</td>\n",
       "      <td>0001437749-19-018360</td>\n",
       "      <td>1084869</td>\n",
       "      <td>113117311</td>\n",
       "      <td>5990</td>\n",
       "      <td>630</td>\n",
       "      <td>2019</td>\n",
       "      <td>10-K</td>\n",
       "      <td>...</td>\n",
       "      <td>0.108024</td>\n",
       "      <td>0.181650</td>\n",
       "      <td>-2.880696</td>\n",
       "      <td>-3.432926</td>\n",
       "      <td>0.181655</td>\n",
       "      <td>0.741941</td>\n",
       "      <td>0.186804</td>\n",
       "      <td>1.310833</td>\n",
       "      <td>0.443195</td>\n",
       "      <td>0.441761</td>\n",
       "    </tr>\n",
       "    <tr>\n",
       "      <th>3</th>\n",
       "      <td>1 800 FLOWERS COM INC</td>\n",
       "      <td>NaN</td>\n",
       "      <td>2017-06-30</td>\n",
       "      <td>0001437749-19-018360</td>\n",
       "      <td>1084869</td>\n",
       "      <td>113117311</td>\n",
       "      <td>5990</td>\n",
       "      <td>630</td>\n",
       "      <td>2019</td>\n",
       "      <td>10-K</td>\n",
       "      <td>...</td>\n",
       "      <td>0.108030</td>\n",
       "      <td>0.181649</td>\n",
       "      <td>0.346829</td>\n",
       "      <td>0.291038</td>\n",
       "      <td>0.181655</td>\n",
       "      <td>0.741941</td>\n",
       "      <td>0.186804</td>\n",
       "      <td>1.310833</td>\n",
       "      <td>0.443195</td>\n",
       "      <td>0.441761</td>\n",
       "    </tr>\n",
       "    <tr>\n",
       "      <th>4</th>\n",
       "      <td>1 800 FLOWERS COM INC</td>\n",
       "      <td>NaN</td>\n",
       "      <td>2018-06-30</td>\n",
       "      <td>0001437749-19-018360</td>\n",
       "      <td>1084869</td>\n",
       "      <td>113117311</td>\n",
       "      <td>5990</td>\n",
       "      <td>630</td>\n",
       "      <td>2019</td>\n",
       "      <td>10-K</td>\n",
       "      <td>...</td>\n",
       "      <td>0.108031</td>\n",
       "      <td>0.181648</td>\n",
       "      <td>0.346829</td>\n",
       "      <td>0.291038</td>\n",
       "      <td>0.181655</td>\n",
       "      <td>0.741940</td>\n",
       "      <td>0.186805</td>\n",
       "      <td>1.310833</td>\n",
       "      <td>0.443195</td>\n",
       "      <td>0.441761</td>\n",
       "    </tr>\n",
       "  </tbody>\n",
       "</table>\n",
       "<p>5 rows × 73 columns</p>\n",
       "</div>"
      ],
      "text/plain": [
       "            company_name FULL_NAME period_end_date     submission_number  \\\n",
       "0  1 800 FLOWERS COM INC       NaN      2014-06-30  0001437749-17-015969   \n",
       "1  1 800 FLOWERS COM INC       NaN      2015-06-30  0001437749-18-017027   \n",
       "2  1 800 FLOWERS COM INC       NaN      2016-06-30  0001437749-19-018360   \n",
       "3  1 800 FLOWERS COM INC       NaN      2017-06-30  0001437749-19-018360   \n",
       "4  1 800 FLOWERS COM INC       NaN      2018-06-30  0001437749-19-018360   \n",
       "\n",
       "  central_index_key        ein   sic  fiscal_year_end  fiscal_year  form  ...  \\\n",
       "0           1084869  113117311  5990              630         2017  10-K  ...   \n",
       "1           1084869  113117311  5990              630         2018  10-K  ...   \n",
       "2           1084869  113117311  5990              630         2019  10-K  ...   \n",
       "3           1084869  113117311  5990              630         2019  10-K  ...   \n",
       "4           1084869  113117311  5990              630         2019  10-K  ...   \n",
       "\n",
       "  current_ratio_Dev_Division leverage_Dev_Division  \\\n",
       "0                   0.108022              0.181646   \n",
       "1                   0.108022              0.181652   \n",
       "2                   0.108024              0.181650   \n",
       "3                   0.108030              0.181649   \n",
       "4                   0.108031              0.181648   \n",
       "\n",
       "  return_on_equity_Dev_Division return_on_assets_Dev_Division  \\\n",
       "0                     -2.880696                     -3.432926   \n",
       "1                     -2.880696                     -3.432926   \n",
       "2                     -2.880696                     -3.432926   \n",
       "3                      0.346829                      0.291038   \n",
       "4                      0.346829                      0.291038   \n",
       "\n",
       "  ratio_1_Dev_Division  ratio_2_Dev_Division  ratio_3_Dev_Division  \\\n",
       "0             0.181656              0.741941              0.186811   \n",
       "1             0.181654              0.741941              0.186802   \n",
       "2             0.181655              0.741941              0.186804   \n",
       "3             0.181655              0.741941              0.186804   \n",
       "4             0.181655              0.741940              0.186805   \n",
       "\n",
       "   ratio_4_Dev_Division  EarningsPerShareBasic_Dev_Division  \\\n",
       "0              1.310837                            0.443194   \n",
       "1              1.310833                            0.443194   \n",
       "2              1.310833                            0.443195   \n",
       "3              1.310833                            0.443195   \n",
       "4              1.310833                            0.443195   \n",
       "\n",
       "   EarningsPerShareDiluted_Dev_Division  \n",
       "0                              0.441760  \n",
       "1                              0.441760  \n",
       "2                              0.441761  \n",
       "3                              0.441761  \n",
       "4                              0.441761  \n",
       "\n",
       "[5 rows x 73 columns]"
      ]
     },
     "execution_count": 66,
     "metadata": {},
     "output_type": "execute_result"
    }
   ],
   "source": [
    "rfm_w_dev.head()"
   ]
  },
  {
   "cell_type": "code",
   "execution_count": 32,
   "id": "directed-incident",
   "metadata": {},
   "outputs": [],
   "source": [
    "#rfm_w_dev.columns"
   ]
  },
  {
   "cell_type": "code",
   "execution_count": null,
   "id": "dental-community",
   "metadata": {},
   "outputs": [],
   "source": [
    "## MAKE 3 training and validation sets\n",
    "## training 2014 and 2015 data, val on 2016\n",
    "## training 2015 and 2016 data, val on 2017\n",
    "## training 2016 and 2017 data, val on 2018\n"
   ]
  },
  {
   "cell_type": "code",
   "execution_count": 67,
   "id": "opponent-giant",
   "metadata": {},
   "outputs": [
    {
     "name": "stdout",
     "output_type": "stream",
     "text": [
      "train_1 2014-01-31 00:00:00 2015-12-31 00:00:00\n",
      "val_1 2016-01-31 00:00:00 2016-12-31 00:00:00\n"
     ]
    }
   ],
   "source": [
    "train_1 = rfm_w_dev[rfm_w_dev['period_end_date'] < datetime.datetime(2016,1,1)]\n",
    "val_1 = rfm_w_dev[(rfm_w_dev['period_end_date'] > datetime.datetime(2015,12,31) ) & (rfm_w_dev['period_end_date'] < datetime.datetime(2017,1,1) ) ]\n",
    "                                                                                   \n",
    "print('train_1', min(train_1.period_end_date), max(train_1.period_end_date))     \n",
    "print('val_1',min(val_1.period_end_date), max(val_1.period_end_date))    "
   ]
  },
  {
   "cell_type": "code",
   "execution_count": 68,
   "id": "considerable-toyota",
   "metadata": {},
   "outputs": [
    {
     "name": "stdout",
     "output_type": "stream",
     "text": [
      "train_2 2015-01-31 00:00:00 2016-12-31 00:00:00\n",
      "val_2 2017-01-31 00:00:00 2017-12-31 00:00:00\n"
     ]
    }
   ],
   "source": [
    "train_2= rfm_w_dev[(rfm_w_dev['period_end_date'] > datetime.datetime(2014,12,31) ) & (rfm_w_dev['period_end_date'] < datetime.datetime(2017,1,1) )]\n",
    "val_2 = rfm_w_dev[(rfm_w_dev['period_end_date'] > datetime.datetime(2016,12,31) ) & (rfm_w_dev['period_end_date'] < datetime.datetime(2018,1,1) ) ]\n",
    "\n",
    "print('train_2', min(train_2.period_end_date), max(train_2.period_end_date))     \n",
    "print('val_2',min(val_2.period_end_date), max(val_2.period_end_date))   "
   ]
  },
  {
   "cell_type": "code",
   "execution_count": 69,
   "id": "separate-appreciation",
   "metadata": {},
   "outputs": [
    {
     "name": "stdout",
     "output_type": "stream",
     "text": [
      "train_3 2016-01-31 00:00:00 2017-12-31 00:00:00\n",
      "val_3 2018-01-31 00:00:00 2018-12-31 00:00:00\n"
     ]
    }
   ],
   "source": [
    "train_3= rfm_w_dev[(rfm_w_dev['period_end_date'] > datetime.datetime(2015,12,31) ) & (rfm_w_dev['period_end_date'] < datetime.datetime(2018,1,1) )]\n",
    "val_3 = rfm_w_dev[(rfm_w_dev['period_end_date'] > datetime.datetime(2017,12,31) ) & (rfm_w_dev['period_end_date'] < datetime.datetime(2019,1,1) )]\n",
    "\n",
    "print('train_3', min(train_3.period_end_date), max(train_3.period_end_date))     \n",
    "print('val_3',min(val_3.period_end_date), max(val_3.period_end_date))   "
   ]
  },
  {
   "cell_type": "code",
   "execution_count": 70,
   "id": "double-census",
   "metadata": {},
   "outputs": [],
   "source": [
    "feature_list = ['debt_ratio', 'debt_equity_ratio',\n",
    "       'current_ratio', 'leverage', 'return_on_equity', 'return_on_assets',\n",
    "       'EarningsPerShareDiluted', 'ratio_2', 'Assets_MM', 'AssetsCurrent_MM',\n",
    "       'Libilities_MM', 'LibilitiesCurrent_MM', 'NetIncomeLoss_MM',\n",
    "       'StockholdersEquity_MM', 'OperatingIncomeLoss_MM', \n",
    "       'Division_Agriculture, Forestry and Fishing', 'Division_Construction',          \n",
    "        'Division_Finance, Insurance and Real Estate', \n",
    "        'Division_Manufacturing', 'Division_Mining', 'Division_Retail Trade', \n",
    "        'Division_Services', 'Division_Wholesale Trade',\n",
    "        'Division_Transportation, Communications, Electric, Gas and Sanitary service', \n",
    "       'debt_ratio_Dev_Division',\n",
    "       'debt_equity_ratio_Dev_Division', 'current_ratio_Dev_Division',\n",
    "       'leverage_Dev_Division', 'return_on_equity_Dev_Division',\n",
    "       'return_on_assets_Dev_Division', 'ratio_2_Dev_Division',\n",
    "       'EarningsPerShareDiluted_Dev_Division']"
   ]
  },
  {
   "cell_type": "code",
   "execution_count": 71,
   "id": "developmental-mileage",
   "metadata": {},
   "outputs": [],
   "source": [
    "X_train1 = train_1[feature_list]\n",
    "y_train1 = train_1['target']"
   ]
  },
  {
   "cell_type": "code",
   "execution_count": 72,
   "id": "headed-official",
   "metadata": {},
   "outputs": [],
   "source": [
    "X_val1 = val_1[feature_list]\n",
    "y_val1 = val_1['target']"
   ]
  },
  {
   "cell_type": "code",
   "execution_count": 74,
   "id": "sonic-church",
   "metadata": {},
   "outputs": [],
   "source": [
    "X_train2 = train_2[feature_list]\n",
    "y_train2 = train_2['target']"
   ]
  },
  {
   "cell_type": "code",
   "execution_count": 75,
   "id": "prescribed-uganda",
   "metadata": {},
   "outputs": [],
   "source": [
    "X_val2 = val_2[feature_list]\n",
    "y_val2 = val_2['target']"
   ]
  },
  {
   "cell_type": "code",
   "execution_count": 76,
   "id": "legendary-cookbook",
   "metadata": {},
   "outputs": [],
   "source": [
    "X_train3 = train_3[feature_list]\n",
    "y_train3 = train_3['target']"
   ]
  },
  {
   "cell_type": "code",
   "execution_count": 77,
   "id": "recent-vancouver",
   "metadata": {},
   "outputs": [],
   "source": [
    "X_val3 = val_3[feature_list]\n",
    "y_val3 = val_3['target']"
   ]
  },
  {
   "cell_type": "code",
   "execution_count": 79,
   "id": "middle-millennium",
   "metadata": {},
   "outputs": [
    {
     "data": {
      "text/plain": [
       "array([[3878,   28],\n",
       "       [  31,   14]])"
      ]
     },
     "execution_count": 79,
     "metadata": {},
     "output_type": "execute_result"
    }
   ],
   "source": [
    "# 1\n",
    "# training 2014 and 2015 data, val on 2016\n",
    "\n",
    "#balance the training set classes\n",
    "X_smoted, y_smoted = SMOTE(random_state=47).fit_sample(X_train1, y_train1)\n",
    "\n",
    "\n",
    "#Random Forest\n",
    "randomforest = RandomForestClassifier(n_estimators=100)\n",
    "\n",
    "randomforest.fit(X_smoted, y_smoted)\n",
    "\n",
    "y_pred = randomforest.predict(X_val1)\n",
    "\n",
    "rf_confusion = confusion_matrix(y_val1, y_pred)\n",
    "\n",
    "rf_confusion"
   ]
  },
  {
   "cell_type": "code",
   "execution_count": 80,
   "id": "reverse-medline",
   "metadata": {},
   "outputs": [
    {
     "data": {
      "text/plain": [
       "array([[3843,   15],\n",
       "       [  33,    9]])"
      ]
     },
     "execution_count": 80,
     "metadata": {},
     "output_type": "execute_result"
    }
   ],
   "source": [
    "# 2\n",
    "# training 2015 and 2016 data, val on 2017\n",
    "\n",
    "#balance the training set classes\n",
    "X_smoted, y_smoted = SMOTE(random_state=47).fit_sample(X_train2, y_train2)\n",
    "\n",
    "\n",
    "#Random Forest\n",
    "randomforest = RandomForestClassifier(n_estimators=100)\n",
    "\n",
    "randomforest.fit(X_smoted, y_smoted)\n",
    "\n",
    "y_pred = randomforest.predict(X_val2)\n",
    "\n",
    "rf_confusion = confusion_matrix(y_val2, y_pred)\n",
    "\n",
    "rf_confusion"
   ]
  },
  {
   "cell_type": "code",
   "execution_count": 81,
   "id": "nearby-jersey",
   "metadata": {},
   "outputs": [
    {
     "data": {
      "text/plain": [
       "array([[3624,   19],\n",
       "       [  43,   12]])"
      ]
     },
     "execution_count": 81,
     "metadata": {},
     "output_type": "execute_result"
    }
   ],
   "source": [
    "# 3\n",
    "# training 2016 and 2017 data, val on 2018\n",
    "\n",
    "#balance the training set classes\n",
    "X_smoted, y_smoted = SMOTE(random_state=47).fit_sample(X_train3, y_train3)\n",
    "\n",
    "\n",
    "#Random Forest\n",
    "randomforest = RandomForestClassifier(n_estimators=100)\n",
    "\n",
    "randomforest.fit(X_smoted, y_smoted)\n",
    "\n",
    "y_pred = randomforest.predict(X_val3)\n",
    "\n",
    "rf_confusion = confusion_matrix(y_val3, y_pred)\n",
    "\n",
    "rf_confusion"
   ]
  },
  {
   "cell_type": "code",
   "execution_count": null,
   "id": "severe-flexibility",
   "metadata": {},
   "outputs": [],
   "source": []
  },
  {
   "cell_type": "code",
   "execution_count": null,
   "id": "enclosed-watch",
   "metadata": {},
   "outputs": [],
   "source": []
  },
  {
   "cell_type": "code",
   "execution_count": null,
   "id": "colonial-sector",
   "metadata": {},
   "outputs": [],
   "source": []
  },
  {
   "cell_type": "code",
   "execution_count": null,
   "id": "authentic-deadline",
   "metadata": {},
   "outputs": [],
   "source": []
  },
  {
   "cell_type": "code",
   "execution_count": 82,
   "id": "vietnamese-earthquake",
   "metadata": {},
   "outputs": [
    {
     "data": {
      "text/plain": [
       "32"
      ]
     },
     "execution_count": 82,
     "metadata": {},
     "output_type": "execute_result"
    }
   ],
   "source": [
    "len(randomforest.feature_importances_)"
   ]
  },
  {
   "cell_type": "code",
   "execution_count": 83,
   "id": "senior-circus",
   "metadata": {},
   "outputs": [
    {
     "data": {
      "text/plain": [
       "32"
      ]
     },
     "execution_count": 83,
     "metadata": {},
     "output_type": "execute_result"
    }
   ],
   "source": [
    "len(X_features.columns)"
   ]
  },
  {
   "cell_type": "code",
   "execution_count": 85,
   "id": "dutch-jenny",
   "metadata": {},
   "outputs": [
    {
     "data": {
      "text/plain": [
       "<BarContainer object of 32 artists>"
      ]
     },
     "execution_count": 85,
     "metadata": {},
     "output_type": "execute_result"
    },
    {
     "data": {
      "image/png": "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\n",
      "text/plain": [
       "<Figure size 720x1080 with 1 Axes>"
      ]
     },
     "metadata": {
      "needs_background": "light"
     },
     "output_type": "display_data"
    }
   ],
   "source": [
    "feature_names = X_features.columns\n",
    "\n",
    "## last k-fold\n",
    "plt.rcParams[\"figure.figsize\"] = (10,15)\n",
    "plt.barh(feature_names, randomforest.feature_importances_)"
   ]
  },
  {
   "cell_type": "code",
   "execution_count": null,
   "id": "executive-baseline",
   "metadata": {},
   "outputs": [],
   "source": [
    "#Precision-Recall curves summarize the trade-off between the true positive rate and \n",
    "#the positive predictive value for a predictive model using different probability thresholds.\n",
    "\n",
    "#Precision-Recall curves appropriate for imbalanced classes\n"
   ]
  },
  {
   "cell_type": "code",
   "execution_count": 92,
   "id": "novel-teach",
   "metadata": {},
   "outputs": [
    {
     "data": {
      "image/png": "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\n",
      "text/plain": [
       "<Figure size 400x400 with 1 Axes>"
      ]
     },
     "metadata": {
      "needs_background": "light"
     },
     "output_type": "display_data"
    }
   ],
   "source": [
    "# We can also use the probabilities to make a curve showing us how recall \n",
    "# and thresholds trade off \n",
    "\n",
    "precision_curve, recall_curve, threshold_curve = precision_recall_curve(y_val1, randomforest.predict_proba(X_val1)[:,1] )\n",
    "plt.rcParams[\"figure.figsize\"] = (5,5)\n",
    "plt.figure(dpi=80)\n",
    "\n",
    "plt.plot(threshold_curve, precision_curve[1:],label='precision')\n",
    "plt.plot(threshold_curve, recall_curve[1:],label='recall')\n",
    "plt.legend(loc='lower left')\n",
    "plt.xlabel('Threshold (above this probability, label as bankruptcy)');\n",
    "plt.title('Precision and Recall Curves');"
   ]
  },
  {
   "cell_type": "code",
   "execution_count": 93,
   "id": "abstract-studio",
   "metadata": {},
   "outputs": [
    {
     "data": {
      "image/png": "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\n",
      "text/plain": [
       "<Figure size 400x400 with 1 Axes>"
      ]
     },
     "metadata": {
      "needs_background": "light"
     },
     "output_type": "display_data"
    }
   ],
   "source": [
    "plt.figure(dpi=80)\n",
    "plt.plot(recall_curve[1:], precision_curve[1:],label='precision')\n",
    "plt.xlabel(\"Recall\")\n",
    "plt.ylabel(\"Precision\")\n",
    "plt.title(\"Precision-Recall Curve\");"
   ]
  },
  {
   "cell_type": "code",
   "execution_count": 98,
   "id": "accomplished-cycling",
   "metadata": {},
   "outputs": [],
   "source": [
    "## confusion matrix\n",
    "def make_confusion_matrix(model, threshold=0.5):\n",
    "    # Predict class 1 if probability of being in class 1 is greater than threshold\n",
    "    # (model.predict(X_test) does this automatically with a threshold of 0.5)\n",
    "    y_predict = (model.predict_proba(X_val1)[:, 1] >= threshold)\n",
    "    prob_confusion = confusion_matrix(y_val1, y_predict)\n",
    "    plt.figure(dpi=80)\n",
    "    sns.heatmap(prob_confusion, cmap=plt.cm.Blues, annot=True, square=True, fmt='d',\n",
    "           xticklabels=['No', 'Yes'],\n",
    "           yticklabels=['No', 'Yes']);\n",
    "    plt.xlabel('Predicted Bankruptcy')\n",
    "    plt.ylabel('Actual Bankruptcy')"
   ]
  },
  {
   "cell_type": "code",
   "execution_count": 99,
   "id": "younger-forth",
   "metadata": {},
   "outputs": [
    {
     "data": {
      "image/png": "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\n",
      "text/plain": [
       "<Figure size 400x400 with 2 Axes>"
      ]
     },
     "metadata": {
      "needs_background": "light"
     },
     "output_type": "display_data"
    }
   ],
   "source": [
    "# last validation set in K-fold CV\n",
    "make_confusion_matrix(randomforest)"
   ]
  },
  {
   "cell_type": "code",
   "execution_count": null,
   "id": "civic-louis",
   "metadata": {},
   "outputs": [],
   "source": []
  }
 ],
 "metadata": {
  "kernelspec": {
   "display_name": "Python 3",
   "language": "python",
   "name": "python3"
  },
  "language_info": {
   "codemirror_mode": {
    "name": "ipython",
    "version": 3
   },
   "file_extension": ".py",
   "mimetype": "text/x-python",
   "name": "python",
   "nbconvert_exporter": "python",
   "pygments_lexer": "ipython3",
   "version": "3.8.6"
  }
 },
 "nbformat": 4,
 "nbformat_minor": 5
}
