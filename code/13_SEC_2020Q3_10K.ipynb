{
 "cells": [
  {
   "cell_type": "code",
   "execution_count": null,
   "id": "complex-supply",
   "metadata": {},
   "outputs": [],
   "source": [
    "\"\"\"\n",
    "Annual 10-K filing for Q4 2019 are not in the Google Cloud Platform database\n",
    "\n",
    "Text files of data available by quarter from SEC website\n",
    "\n",
    "A few companies sent 2019 reports in Q3 2020 \n",
    "\n",
    "prepare Q3 2020 data and extract the 2019 period_end_date reports\n",
    "\"\"\""
   ]
  },
  {
   "cell_type": "code",
   "execution_count": 1,
   "id": "literary-clinton",
   "metadata": {},
   "outputs": [],
   "source": [
    "import pandas as pd\n",
    "import numpy as np\n",
    "import datetime as dt"
   ]
  },
  {
   "cell_type": "code",
   "execution_count": 2,
   "id": "floral-aluminum",
   "metadata": {},
   "outputs": [],
   "source": [
    "#The NUM data set contains numeric data, one row per data point in the financial statements.\n",
    "NUM_q = pd.read_csv('../data/2020q3/num.txt', delimiter='\\t' , \n",
    "                     parse_dates=['ddate'] )"
   ]
  },
  {
   "cell_type": "code",
   "execution_count": 3,
   "id": "academic-platform",
   "metadata": {},
   "outputs": [
    {
     "data": {
      "text/plain": [
       "(2351640, 9)"
      ]
     },
     "execution_count": 3,
     "metadata": {},
     "output_type": "execute_result"
    }
   ],
   "source": [
    "NUM_q.shape"
   ]
  },
  {
   "cell_type": "code",
   "execution_count": 4,
   "id": "structured-clear",
   "metadata": {},
   "outputs": [
    {
     "data": {
      "text/html": [
       "<div>\n",
       "<style scoped>\n",
       "    .dataframe tbody tr th:only-of-type {\n",
       "        vertical-align: middle;\n",
       "    }\n",
       "\n",
       "    .dataframe tbody tr th {\n",
       "        vertical-align: top;\n",
       "    }\n",
       "\n",
       "    .dataframe thead th {\n",
       "        text-align: right;\n",
       "    }\n",
       "</style>\n",
       "<table border=\"1\" class=\"dataframe\">\n",
       "  <thead>\n",
       "    <tr style=\"text-align: right;\">\n",
       "      <th></th>\n",
       "      <th>adsh</th>\n",
       "      <th>tag</th>\n",
       "      <th>version</th>\n",
       "      <th>coreg</th>\n",
       "      <th>ddate</th>\n",
       "      <th>qtrs</th>\n",
       "      <th>uom</th>\n",
       "      <th>value</th>\n",
       "      <th>footnote</th>\n",
       "    </tr>\n",
       "  </thead>\n",
       "  <tbody>\n",
       "    <tr>\n",
       "      <th>0</th>\n",
       "      <td>0001661920-20-000055</td>\n",
       "      <td>EntityCommonStockSharesOutstanding</td>\n",
       "      <td>dei/2018</td>\n",
       "      <td>NaN</td>\n",
       "      <td>2020-06-30</td>\n",
       "      <td>0</td>\n",
       "      <td>shares</td>\n",
       "      <td>2.494489e+07</td>\n",
       "      <td>NaN</td>\n",
       "    </tr>\n",
       "    <tr>\n",
       "      <th>1</th>\n",
       "      <td>0001469709-20-000039</td>\n",
       "      <td>EntityCommonStockSharesOutstanding</td>\n",
       "      <td>dei/2018</td>\n",
       "      <td>NaN</td>\n",
       "      <td>2020-06-30</td>\n",
       "      <td>0</td>\n",
       "      <td>shares</td>\n",
       "      <td>3.109520e+09</td>\n",
       "      <td>NaN</td>\n",
       "    </tr>\n",
       "    <tr>\n",
       "      <th>2</th>\n",
       "      <td>0001437557-20-000069</td>\n",
       "      <td>EntityCommonStockSharesOutstanding</td>\n",
       "      <td>dei/2018</td>\n",
       "      <td>NaN</td>\n",
       "      <td>2020-06-30</td>\n",
       "      <td>0</td>\n",
       "      <td>shares</td>\n",
       "      <td>9.512243e+07</td>\n",
       "      <td>NaN</td>\n",
       "    </tr>\n",
       "    <tr>\n",
       "      <th>3</th>\n",
       "      <td>0001628280-20-010192</td>\n",
       "      <td>EntityCommonStockSharesOutstanding</td>\n",
       "      <td>dei/2018</td>\n",
       "      <td>NaN</td>\n",
       "      <td>2020-06-30</td>\n",
       "      <td>0</td>\n",
       "      <td>shares</td>\n",
       "      <td>1.032925e+08</td>\n",
       "      <td>NaN</td>\n",
       "    </tr>\n",
       "    <tr>\n",
       "      <th>4</th>\n",
       "      <td>0001469709-20-000042</td>\n",
       "      <td>EntityCommonStockSharesOutstanding</td>\n",
       "      <td>dei/2018</td>\n",
       "      <td>NaN</td>\n",
       "      <td>2020-06-30</td>\n",
       "      <td>0</td>\n",
       "      <td>shares</td>\n",
       "      <td>2.901311e+06</td>\n",
       "      <td>NaN</td>\n",
       "    </tr>\n",
       "  </tbody>\n",
       "</table>\n",
       "</div>"
      ],
      "text/plain": [
       "                   adsh                                 tag   version coreg  \\\n",
       "0  0001661920-20-000055  EntityCommonStockSharesOutstanding  dei/2018   NaN   \n",
       "1  0001469709-20-000039  EntityCommonStockSharesOutstanding  dei/2018   NaN   \n",
       "2  0001437557-20-000069  EntityCommonStockSharesOutstanding  dei/2018   NaN   \n",
       "3  0001628280-20-010192  EntityCommonStockSharesOutstanding  dei/2018   NaN   \n",
       "4  0001469709-20-000042  EntityCommonStockSharesOutstanding  dei/2018   NaN   \n",
       "\n",
       "       ddate  qtrs     uom         value footnote  \n",
       "0 2020-06-30     0  shares  2.494489e+07      NaN  \n",
       "1 2020-06-30     0  shares  3.109520e+09      NaN  \n",
       "2 2020-06-30     0  shares  9.512243e+07      NaN  \n",
       "3 2020-06-30     0  shares  1.032925e+08      NaN  \n",
       "4 2020-06-30     0  shares  2.901311e+06      NaN  "
      ]
     },
     "execution_count": 4,
     "metadata": {},
     "output_type": "execute_result"
    }
   ],
   "source": [
    "NUM_q.head()"
   ]
  },
  {
   "cell_type": "code",
   "execution_count": 5,
   "id": "medium-election",
   "metadata": {},
   "outputs": [],
   "source": [
    "# detailed explaination of each field provided by SEC\n",
    "# update field names to match the GCP labels\n",
    "\n",
    "NUM_q.columns = ['adsh', 'measure_tag', 'version', 'coreg', \n",
    "                  'period_end_date', 'number_of_quarters','units', 'value','footnote']"
   ]
  },
  {
   "cell_type": "code",
   "execution_count": 6,
   "id": "broadband-tracker",
   "metadata": {},
   "outputs": [
    {
     "data": {
      "text/html": [
       "<div>\n",
       "<style scoped>\n",
       "    .dataframe tbody tr th:only-of-type {\n",
       "        vertical-align: middle;\n",
       "    }\n",
       "\n",
       "    .dataframe tbody tr th {\n",
       "        vertical-align: top;\n",
       "    }\n",
       "\n",
       "    .dataframe thead th {\n",
       "        text-align: right;\n",
       "    }\n",
       "</style>\n",
       "<table border=\"1\" class=\"dataframe\">\n",
       "  <thead>\n",
       "    <tr style=\"text-align: right;\">\n",
       "      <th></th>\n",
       "      <th>adsh</th>\n",
       "      <th>measure_tag</th>\n",
       "      <th>version</th>\n",
       "      <th>coreg</th>\n",
       "      <th>period_end_date</th>\n",
       "      <th>number_of_quarters</th>\n",
       "      <th>units</th>\n",
       "      <th>value</th>\n",
       "      <th>footnote</th>\n",
       "    </tr>\n",
       "  </thead>\n",
       "  <tbody>\n",
       "    <tr>\n",
       "      <th>0</th>\n",
       "      <td>0001661920-20-000055</td>\n",
       "      <td>EntityCommonStockSharesOutstanding</td>\n",
       "      <td>dei/2018</td>\n",
       "      <td>NaN</td>\n",
       "      <td>2020-06-30</td>\n",
       "      <td>0</td>\n",
       "      <td>shares</td>\n",
       "      <td>2.494489e+07</td>\n",
       "      <td>NaN</td>\n",
       "    </tr>\n",
       "    <tr>\n",
       "      <th>1</th>\n",
       "      <td>0001469709-20-000039</td>\n",
       "      <td>EntityCommonStockSharesOutstanding</td>\n",
       "      <td>dei/2018</td>\n",
       "      <td>NaN</td>\n",
       "      <td>2020-06-30</td>\n",
       "      <td>0</td>\n",
       "      <td>shares</td>\n",
       "      <td>3.109520e+09</td>\n",
       "      <td>NaN</td>\n",
       "    </tr>\n",
       "    <tr>\n",
       "      <th>2</th>\n",
       "      <td>0001437557-20-000069</td>\n",
       "      <td>EntityCommonStockSharesOutstanding</td>\n",
       "      <td>dei/2018</td>\n",
       "      <td>NaN</td>\n",
       "      <td>2020-06-30</td>\n",
       "      <td>0</td>\n",
       "      <td>shares</td>\n",
       "      <td>9.512243e+07</td>\n",
       "      <td>NaN</td>\n",
       "    </tr>\n",
       "    <tr>\n",
       "      <th>3</th>\n",
       "      <td>0001628280-20-010192</td>\n",
       "      <td>EntityCommonStockSharesOutstanding</td>\n",
       "      <td>dei/2018</td>\n",
       "      <td>NaN</td>\n",
       "      <td>2020-06-30</td>\n",
       "      <td>0</td>\n",
       "      <td>shares</td>\n",
       "      <td>1.032925e+08</td>\n",
       "      <td>NaN</td>\n",
       "    </tr>\n",
       "    <tr>\n",
       "      <th>4</th>\n",
       "      <td>0001469709-20-000042</td>\n",
       "      <td>EntityCommonStockSharesOutstanding</td>\n",
       "      <td>dei/2018</td>\n",
       "      <td>NaN</td>\n",
       "      <td>2020-06-30</td>\n",
       "      <td>0</td>\n",
       "      <td>shares</td>\n",
       "      <td>2.901311e+06</td>\n",
       "      <td>NaN</td>\n",
       "    </tr>\n",
       "  </tbody>\n",
       "</table>\n",
       "</div>"
      ],
      "text/plain": [
       "                   adsh                         measure_tag   version coreg  \\\n",
       "0  0001661920-20-000055  EntityCommonStockSharesOutstanding  dei/2018   NaN   \n",
       "1  0001469709-20-000039  EntityCommonStockSharesOutstanding  dei/2018   NaN   \n",
       "2  0001437557-20-000069  EntityCommonStockSharesOutstanding  dei/2018   NaN   \n",
       "3  0001628280-20-010192  EntityCommonStockSharesOutstanding  dei/2018   NaN   \n",
       "4  0001469709-20-000042  EntityCommonStockSharesOutstanding  dei/2018   NaN   \n",
       "\n",
       "  period_end_date  number_of_quarters   units         value footnote  \n",
       "0      2020-06-30                   0  shares  2.494489e+07      NaN  \n",
       "1      2020-06-30                   0  shares  3.109520e+09      NaN  \n",
       "2      2020-06-30                   0  shares  9.512243e+07      NaN  \n",
       "3      2020-06-30                   0  shares  1.032925e+08      NaN  \n",
       "4      2020-06-30                   0  shares  2.901311e+06      NaN  "
      ]
     },
     "execution_count": 6,
     "metadata": {},
     "output_type": "execute_result"
    }
   ],
   "source": [
    "NUM_q.head()"
   ]
  },
  {
   "cell_type": "code",
   "execution_count": 7,
   "id": "prerequisite-optimization",
   "metadata": {},
   "outputs": [
    {
     "name": "stdout",
     "output_type": "stream",
     "text": [
      "<class 'pandas.core.frame.DataFrame'>\n",
      "RangeIndex: 2351640 entries, 0 to 2351639\n",
      "Data columns (total 9 columns):\n",
      " #   Column              Dtype         \n",
      "---  ------              -----         \n",
      " 0   adsh                object        \n",
      " 1   measure_tag         object        \n",
      " 2   version             object        \n",
      " 3   coreg               object        \n",
      " 4   period_end_date     datetime64[ns]\n",
      " 5   number_of_quarters  int64         \n",
      " 6   units               object        \n",
      " 7   value               float64       \n",
      " 8   footnote            object        \n",
      "dtypes: datetime64[ns](1), float64(1), int64(1), object(6)\n",
      "memory usage: 161.5+ MB\n"
     ]
    }
   ],
   "source": [
    "NUM_q.info()"
   ]
  },
  {
   "cell_type": "code",
   "execution_count": 8,
   "id": "minus-aside",
   "metadata": {},
   "outputs": [],
   "source": [
    "#The SUB (submissions) data set contains summary information about an entire EDGAR submission. \n",
    "\n",
    "SUB_q = pd.read_csv('../data/2020q3/sub.txt', delimiter='\\t', \n",
    "                     parse_dates=['period'], \n",
    "                     dtype={'sic':  'str', 'ein':'str', 'cik':'str', 'fy':'str', 'fp':'str'})"
   ]
  },
  {
   "cell_type": "code",
   "execution_count": 9,
   "id": "comfortable-document",
   "metadata": {},
   "outputs": [
    {
     "data": {
      "text/plain": [
       "(14832, 36)"
      ]
     },
     "execution_count": 9,
     "metadata": {},
     "output_type": "execute_result"
    }
   ],
   "source": [
    "SUB_q.shape"
   ]
  },
  {
   "cell_type": "code",
   "execution_count": 10,
   "id": "super-appeal",
   "metadata": {},
   "outputs": [
    {
     "data": {
      "text/html": [
       "<div>\n",
       "<style scoped>\n",
       "    .dataframe tbody tr th:only-of-type {\n",
       "        vertical-align: middle;\n",
       "    }\n",
       "\n",
       "    .dataframe tbody tr th {\n",
       "        vertical-align: top;\n",
       "    }\n",
       "\n",
       "    .dataframe thead th {\n",
       "        text-align: right;\n",
       "    }\n",
       "</style>\n",
       "<table border=\"1\" class=\"dataframe\">\n",
       "  <thead>\n",
       "    <tr style=\"text-align: right;\">\n",
       "      <th></th>\n",
       "      <th>adsh</th>\n",
       "      <th>cik</th>\n",
       "      <th>name</th>\n",
       "      <th>sic</th>\n",
       "      <th>countryba</th>\n",
       "      <th>stprba</th>\n",
       "      <th>cityba</th>\n",
       "      <th>zipba</th>\n",
       "      <th>bas1</th>\n",
       "      <th>bas2</th>\n",
       "      <th>...</th>\n",
       "      <th>period</th>\n",
       "      <th>fy</th>\n",
       "      <th>fp</th>\n",
       "      <th>filed</th>\n",
       "      <th>accepted</th>\n",
       "      <th>prevrpt</th>\n",
       "      <th>detail</th>\n",
       "      <th>instance</th>\n",
       "      <th>nciks</th>\n",
       "      <th>aciks</th>\n",
       "    </tr>\n",
       "  </thead>\n",
       "  <tbody>\n",
       "    <tr>\n",
       "      <th>0</th>\n",
       "      <td>0000006955-20-000039</td>\n",
       "      <td>6955</td>\n",
       "      <td>ENERPAC TOOL GROUP CORP</td>\n",
       "      <td>3590</td>\n",
       "      <td>US</td>\n",
       "      <td>WI</td>\n",
       "      <td>MENOMONEE FALLS</td>\n",
       "      <td>53051</td>\n",
       "      <td>ATTN:  BRYAN JOHNSON</td>\n",
       "      <td>N86 W12500 WESTBROOK CROSSING</td>\n",
       "      <td>...</td>\n",
       "      <td>2020-05-31</td>\n",
       "      <td>2020</td>\n",
       "      <td>Q3</td>\n",
       "      <td>20200701</td>\n",
       "      <td>2020-07-01 14:13:00.0</td>\n",
       "      <td>0</td>\n",
       "      <td>1</td>\n",
       "      <td>epac10q5312020_htm.xml</td>\n",
       "      <td>1</td>\n",
       "      <td>NaN</td>\n",
       "    </tr>\n",
       "    <tr>\n",
       "      <th>1</th>\n",
       "      <td>0000014846-20-000022</td>\n",
       "      <td>14846</td>\n",
       "      <td>BRT APARTMENTS CORP.</td>\n",
       "      <td>6798</td>\n",
       "      <td>US</td>\n",
       "      <td>NY</td>\n",
       "      <td>GREAT NECK</td>\n",
       "      <td>11021-3190</td>\n",
       "      <td>60 CUTTER MILL RD</td>\n",
       "      <td>SUITE 303</td>\n",
       "      <td>...</td>\n",
       "      <td>2020-06-30</td>\n",
       "      <td>NaN</td>\n",
       "      <td>NaN</td>\n",
       "      <td>20200701</td>\n",
       "      <td>2020-07-01 16:12:00.0</td>\n",
       "      <td>0</td>\n",
       "      <td>0</td>\n",
       "      <td>brt-20200630_htm.xml</td>\n",
       "      <td>1</td>\n",
       "      <td>NaN</td>\n",
       "    </tr>\n",
       "    <tr>\n",
       "      <th>2</th>\n",
       "      <td>0000016918-20-000171</td>\n",
       "      <td>16918</td>\n",
       "      <td>CONSTELLATION BRANDS, INC.</td>\n",
       "      <td>2080</td>\n",
       "      <td>US</td>\n",
       "      <td>NY</td>\n",
       "      <td>VICTOR</td>\n",
       "      <td>14564</td>\n",
       "      <td>207 HIGH POINT DRIVE</td>\n",
       "      <td>BUILDING 100</td>\n",
       "      <td>...</td>\n",
       "      <td>2020-06-30</td>\n",
       "      <td>NaN</td>\n",
       "      <td>NaN</td>\n",
       "      <td>20200701</td>\n",
       "      <td>2020-07-01 08:12:00.0</td>\n",
       "      <td>0</td>\n",
       "      <td>0</td>\n",
       "      <td>stz-20200630_htm.xml</td>\n",
       "      <td>1</td>\n",
       "      <td>NaN</td>\n",
       "    </tr>\n",
       "    <tr>\n",
       "      <th>3</th>\n",
       "      <td>0000016918-20-000173</td>\n",
       "      <td>16918</td>\n",
       "      <td>CONSTELLATION BRANDS, INC.</td>\n",
       "      <td>2080</td>\n",
       "      <td>US</td>\n",
       "      <td>NY</td>\n",
       "      <td>VICTOR</td>\n",
       "      <td>14564</td>\n",
       "      <td>207 HIGH POINT DRIVE</td>\n",
       "      <td>BUILDING 100</td>\n",
       "      <td>...</td>\n",
       "      <td>2020-05-31</td>\n",
       "      <td>2021</td>\n",
       "      <td>Q1</td>\n",
       "      <td>20200701</td>\n",
       "      <td>2020-07-01 13:59:00.0</td>\n",
       "      <td>0</td>\n",
       "      <td>1</td>\n",
       "      <td>stz-20200531_htm.xml</td>\n",
       "      <td>1</td>\n",
       "      <td>NaN</td>\n",
       "    </tr>\n",
       "    <tr>\n",
       "      <th>4</th>\n",
       "      <td>0000027879-20-000012</td>\n",
       "      <td>27879</td>\n",
       "      <td>DELMARVA POWER &amp; LIGHT CO /DE/</td>\n",
       "      <td>4931</td>\n",
       "      <td>US</td>\n",
       "      <td>DE</td>\n",
       "      <td>WILMINGTON</td>\n",
       "      <td>19899</td>\n",
       "      <td>800 KING ST</td>\n",
       "      <td>PO BOX 231</td>\n",
       "      <td>...</td>\n",
       "      <td>2020-06-30</td>\n",
       "      <td>NaN</td>\n",
       "      <td>NaN</td>\n",
       "      <td>20200701</td>\n",
       "      <td>2020-07-01 15:33:00.0</td>\n",
       "      <td>0</td>\n",
       "      <td>0</td>\n",
       "      <td>exc-20200701_htm.xml</td>\n",
       "      <td>1</td>\n",
       "      <td>NaN</td>\n",
       "    </tr>\n",
       "  </tbody>\n",
       "</table>\n",
       "<p>5 rows × 36 columns</p>\n",
       "</div>"
      ],
      "text/plain": [
       "                   adsh    cik                            name   sic  \\\n",
       "0  0000006955-20-000039   6955         ENERPAC TOOL GROUP CORP  3590   \n",
       "1  0000014846-20-000022  14846            BRT APARTMENTS CORP.  6798   \n",
       "2  0000016918-20-000171  16918      CONSTELLATION BRANDS, INC.  2080   \n",
       "3  0000016918-20-000173  16918      CONSTELLATION BRANDS, INC.  2080   \n",
       "4  0000027879-20-000012  27879  DELMARVA POWER & LIGHT CO /DE/  4931   \n",
       "\n",
       "  countryba stprba           cityba       zipba                  bas1  \\\n",
       "0        US     WI  MENOMONEE FALLS       53051  ATTN:  BRYAN JOHNSON   \n",
       "1        US     NY       GREAT NECK  11021-3190     60 CUTTER MILL RD   \n",
       "2        US     NY           VICTOR       14564  207 HIGH POINT DRIVE   \n",
       "3        US     NY           VICTOR       14564  207 HIGH POINT DRIVE   \n",
       "4        US     DE       WILMINGTON       19899           800 KING ST   \n",
       "\n",
       "                            bas2  ...     period    fy   fp     filed  \\\n",
       "0  N86 W12500 WESTBROOK CROSSING  ... 2020-05-31  2020   Q3  20200701   \n",
       "1                      SUITE 303  ... 2020-06-30   NaN  NaN  20200701   \n",
       "2                   BUILDING 100  ... 2020-06-30   NaN  NaN  20200701   \n",
       "3                   BUILDING 100  ... 2020-05-31  2021   Q1  20200701   \n",
       "4                     PO BOX 231  ... 2020-06-30   NaN  NaN  20200701   \n",
       "\n",
       "                accepted prevrpt detail                instance nciks aciks  \n",
       "0  2020-07-01 14:13:00.0       0      1  epac10q5312020_htm.xml     1   NaN  \n",
       "1  2020-07-01 16:12:00.0       0      0    brt-20200630_htm.xml     1   NaN  \n",
       "2  2020-07-01 08:12:00.0       0      0    stz-20200630_htm.xml     1   NaN  \n",
       "3  2020-07-01 13:59:00.0       0      1    stz-20200531_htm.xml     1   NaN  \n",
       "4  2020-07-01 15:33:00.0       0      0    exc-20200701_htm.xml     1   NaN  \n",
       "\n",
       "[5 rows x 36 columns]"
      ]
     },
     "execution_count": 10,
     "metadata": {},
     "output_type": "execute_result"
    }
   ],
   "source": [
    "SUB_q.head()"
   ]
  },
  {
   "cell_type": "code",
   "execution_count": null,
   "id": "bronze-harbor",
   "metadata": {},
   "outputs": [],
   "source": [
    "# check forms included in this file\n",
    "# only keep the 10-K and 10-K/A\n",
    "\n",
    "SUB_q.form.unique()"
   ]
  },
  {
   "cell_type": "code",
   "execution_count": null,
   "id": "answering-delivery",
   "metadata": {},
   "outputs": [],
   "source": [
    "# check all US located companies\n",
    "# will drop non-US companies\n",
    "\n",
    "SUB_q.countryba.unique()"
   ]
  },
  {
   "cell_type": "code",
   "execution_count": null,
   "id": "blocked-worship",
   "metadata": {},
   "outputs": [],
   "source": [
    "#SUB_q.columns"
   ]
  },
  {
   "cell_type": "code",
   "execution_count": null,
   "id": "aggregate-spring",
   "metadata": {},
   "outputs": [],
   "source": [
    "#SUB_q.info()"
   ]
  },
  {
   "cell_type": "code",
   "execution_count": 11,
   "id": "improved-dallas",
   "metadata": {},
   "outputs": [],
   "source": [
    "# Will merge NUM and SUB files and then filter like how GCP queries were filtered\n",
    "# per details from SEC of how to merge these datasets on adsh\n",
    "\n",
    "all_q = pd.merge(NUM_q, SUB_q, how='left', on=['adsh'])"
   ]
  },
  {
   "cell_type": "code",
   "execution_count": 12,
   "id": "missing-generic",
   "metadata": {},
   "outputs": [
    {
     "data": {
      "text/plain": [
       "(2351640, 44)"
      ]
     },
     "execution_count": 12,
     "metadata": {},
     "output_type": "execute_result"
    }
   ],
   "source": [
    "all_q.shape"
   ]
  },
  {
   "cell_type": "code",
   "execution_count": null,
   "id": "outdoor-bernard",
   "metadata": {},
   "outputs": [],
   "source": [
    "#all_q.head()"
   ]
  },
  {
   "cell_type": "code",
   "execution_count": null,
   "id": "charming-flour",
   "metadata": {},
   "outputs": [],
   "source": [
    "#all_q.tail()"
   ]
  },
  {
   "cell_type": "code",
   "execution_count": 13,
   "id": "defined-plastic",
   "metadata": {},
   "outputs": [],
   "source": [
    "# pickle out wide Q3 2020 submissions\n",
    "\n",
    "import pickle\n",
    "\n",
    "with open('Q3_2020.pickle', 'wb') as to_write:\n",
    "    pickle.dump(all_q, to_write)"
   ]
  },
  {
   "cell_type": "code",
   "execution_count": null,
   "id": "recorded-chance",
   "metadata": {},
   "outputs": [],
   "source": []
  }
 ],
 "metadata": {
  "kernelspec": {
   "display_name": "Python [conda env:metis] *",
   "language": "python",
   "name": "conda-env-metis-py"
  },
  "language_info": {
   "codemirror_mode": {
    "name": "ipython",
    "version": 3
   },
   "file_extension": ".py",
   "mimetype": "text/x-python",
   "name": "python",
   "nbconvert_exporter": "python",
   "pygments_lexer": "ipython3",
   "version": "3.8.6"
  }
 },
 "nbformat": 4,
 "nbformat_minor": 5
}
