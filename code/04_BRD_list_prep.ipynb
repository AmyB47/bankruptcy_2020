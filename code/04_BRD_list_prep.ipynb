{
 "cells": [
  {
   "cell_type": "code",
   "execution_count": null,
   "id": "behavioral-analyst",
   "metadata": {},
   "outputs": [],
   "source": [
    "\"\"\"\n",
    "filter BRD list to date_filed between 1/1/2014 - 12/31/2020\n",
    "\n",
    "Found many EIN missing from SEC data, so prepared list of bankruptcies\n",
    "to have the same name as in the company_name field of SEC data\n",
    "\n",
    "Add labeling of target field (bankruptcy w/in 1 year of annual report = 1 else 0)\n",
    "\n",
    "\n",
    "\"\"\""
   ]
  },
  {
   "cell_type": "code",
   "execution_count": 1,
   "id": "delayed-march",
   "metadata": {},
   "outputs": [],
   "source": [
    "import psycopg2 as pg\n",
    "import pandas as pd\n",
    "import pandas.io.sql as pd_sql\n",
    "import numpy as np\n",
    "import datetime"
   ]
  },
  {
   "cell_type": "code",
   "execution_count": 2,
   "id": "polar-whole",
   "metadata": {},
   "outputs": [],
   "source": [
    "from pandasql import sqldf\n",
    "\n",
    "# PandaSQL needs to be able to reference the global variables already defined (namely, `df`)\n",
    "pysqldf = lambda q: sqldf(q, globals())"
   ]
  },
  {
   "cell_type": "code",
   "execution_count": 3,
   "id": "pretty-serbia",
   "metadata": {},
   "outputs": [],
   "source": [
    "# Postgres info to connect\n",
    "\n",
    "connection_args = {\n",
    "    'host': 'localhost',  \n",
    "    'dbname': 'bankruptcy',  \n",
    "    'port': 5432          \n",
    "}\n",
    "\n",
    "connection = pg.connect(**connection_args)\n",
    "connection.autocommit = True   "
   ]
  },
  {
   "cell_type": "code",
   "execution_count": 4,
   "id": "original-component",
   "metadata": {},
   "outputs": [
    {
     "data": {
      "text/html": [
       "<div>\n",
       "<style scoped>\n",
       "    .dataframe tbody tr th:only-of-type {\n",
       "        vertical-align: middle;\n",
       "    }\n",
       "\n",
       "    .dataframe tbody tr th {\n",
       "        vertical-align: top;\n",
       "    }\n",
       "\n",
       "    .dataframe thead th {\n",
       "        text-align: right;\n",
       "    }\n",
       "</style>\n",
       "<table border=\"1\" class=\"dataframe\">\n",
       "  <thead>\n",
       "    <tr style=\"text-align: right;\">\n",
       "      <th></th>\n",
       "      <th>debtor_name</th>\n",
       "      <th>date_filed</th>\n",
       "      <th>chapter_filing</th>\n",
       "    </tr>\n",
       "  </thead>\n",
       "  <tbody>\n",
       "    <tr>\n",
       "      <th>0</th>\n",
       "      <td>First Mariner Bancorp</td>\n",
       "      <td>2014-02-10</td>\n",
       "      <td>Chapter 11</td>\n",
       "    </tr>\n",
       "    <tr>\n",
       "      <th>1</th>\n",
       "      <td>Dolan Company</td>\n",
       "      <td>2014-03-23</td>\n",
       "      <td>Chapter 11</td>\n",
       "    </tr>\n",
       "    <tr>\n",
       "      <th>2</th>\n",
       "      <td>Global Geophysical Services, Inc.</td>\n",
       "      <td>2014-03-25</td>\n",
       "      <td>Chapter 11</td>\n",
       "    </tr>\n",
       "    <tr>\n",
       "      <th>3</th>\n",
       "      <td>USEC Inc.</td>\n",
       "      <td>2014-03-05</td>\n",
       "      <td>Chapter 11</td>\n",
       "    </tr>\n",
       "    <tr>\n",
       "      <th>4</th>\n",
       "      <td>Coldwater Creek Inc.</td>\n",
       "      <td>2014-04-11</td>\n",
       "      <td>Chapter 11</td>\n",
       "    </tr>\n",
       "  </tbody>\n",
       "</table>\n",
       "</div>"
      ],
      "text/plain": [
       "                         debtor_name date_filed chapter_filing\n",
       "0              First Mariner Bancorp 2014-02-10     Chapter 11\n",
       "1                      Dolan Company 2014-03-23     Chapter 11\n",
       "2  Global Geophysical Services, Inc. 2014-03-25     Chapter 11\n",
       "3                          USEC Inc. 2014-03-05     Chapter 11\n",
       "4               Coldwater Creek Inc. 2014-04-11     Chapter 11"
      ]
     },
     "execution_count": 4,
     "metadata": {},
     "output_type": "execute_result"
    }
   ],
   "source": [
    "query = \"\"\"\n",
    "SELECT debtor_name, date_filed, chapter_filing \n",
    "FROM ucla_brd_list \n",
    "WHERE (date_filed >= '2015-01-01') and (date_filed  <= '2020-12-31')\n",
    ";\"\"\"\n",
    "\n",
    "brd_query =  pd_sql.read_sql(query, connection)\n",
    "\n",
    "brd_query.head()"
   ]
  },
  {
   "cell_type": "code",
   "execution_count": 5,
   "id": "active-hours",
   "metadata": {},
   "outputs": [
    {
     "data": {
      "text/plain": [
       "(215, 3)"
      ]
     },
     "execution_count": 5,
     "metadata": {},
     "output_type": "execute_result"
    }
   ],
   "source": [
    "brd_2014.shape"
   ]
  },
  {
   "cell_type": "code",
   "execution_count": 6,
   "id": "defined-frederick",
   "metadata": {},
   "outputs": [
    {
     "data": {
      "text/html": [
       "<div>\n",
       "<style scoped>\n",
       "    .dataframe tbody tr th:only-of-type {\n",
       "        vertical-align: middle;\n",
       "    }\n",
       "\n",
       "    .dataframe tbody tr th {\n",
       "        vertical-align: top;\n",
       "    }\n",
       "\n",
       "    .dataframe thead th {\n",
       "        text-align: right;\n",
       "    }\n",
       "</style>\n",
       "<table border=\"1\" class=\"dataframe\">\n",
       "  <thead>\n",
       "    <tr style=\"text-align: right;\">\n",
       "      <th></th>\n",
       "      <th>company_name</th>\n",
       "      <th>ein</th>\n",
       "    </tr>\n",
       "  </thead>\n",
       "  <tbody>\n",
       "    <tr>\n",
       "      <th>0</th>\n",
       "      <td>NORTHSTAR ELECTRONICS INC</td>\n",
       "      <td>330803434</td>\n",
       "    </tr>\n",
       "    <tr>\n",
       "      <th>1</th>\n",
       "      <td>MISTER GOODY, INC.</td>\n",
       "      <td>275414480</td>\n",
       "    </tr>\n",
       "    <tr>\n",
       "      <th>2</th>\n",
       "      <td>LEVELBLOX, INC.</td>\n",
       "      <td>263748249</td>\n",
       "    </tr>\n",
       "    <tr>\n",
       "      <th>3</th>\n",
       "      <td>THT HEAT TRANSFER TECHNOLOGY, INC.</td>\n",
       "      <td>205463509</td>\n",
       "    </tr>\n",
       "    <tr>\n",
       "      <th>4</th>\n",
       "      <td>NUO THERAPEUTICS, INC.</td>\n",
       "      <td>233011702</td>\n",
       "    </tr>\n",
       "  </tbody>\n",
       "</table>\n",
       "</div>"
      ],
      "text/plain": [
       "                         company_name        ein\n",
       "0           NORTHSTAR ELECTRONICS INC  330803434\n",
       "1                  MISTER GOODY, INC.  275414480\n",
       "2                     LEVELBLOX, INC.  263748249\n",
       "3  THT HEAT TRANSFER TECHNOLOGY, INC.  205463509\n",
       "4              NUO THERAPEUTICS, INC.  233011702"
      ]
     },
     "execution_count": 6,
     "metadata": {},
     "output_type": "execute_result"
    }
   ],
   "source": [
    "query_sec = \"\"\"\n",
    "SELECT distinct company_name, ein\n",
    "FROM sec_all_usd\n",
    "\"\"\"\n",
    "companies = pd_sql.read_sql(query_sec, connection)\n",
    "\n",
    "companies.head()"
   ]
  },
  {
   "cell_type": "code",
   "execution_count": 7,
   "id": "according-riding",
   "metadata": {},
   "outputs": [
    {
     "data": {
      "text/html": [
       "<div>\n",
       "<style scoped>\n",
       "    .dataframe tbody tr th:only-of-type {\n",
       "        vertical-align: middle;\n",
       "    }\n",
       "\n",
       "    .dataframe tbody tr th {\n",
       "        vertical-align: top;\n",
       "    }\n",
       "\n",
       "    .dataframe thead th {\n",
       "        text-align: right;\n",
       "    }\n",
       "</style>\n",
       "<table border=\"1\" class=\"dataframe\">\n",
       "  <thead>\n",
       "    <tr style=\"text-align: right;\">\n",
       "      <th></th>\n",
       "      <th>submission_number</th>\n",
       "      <th>company_name</th>\n",
       "      <th>measure_tag</th>\n",
       "      <th>period_end_date</th>\n",
       "      <th>value</th>\n",
       "      <th>units</th>\n",
       "      <th>number_of_quarters</th>\n",
       "      <th>version</th>\n",
       "      <th>central_index_key</th>\n",
       "      <th>ein</th>\n",
       "      <th>sic</th>\n",
       "      <th>fiscal_year_end</th>\n",
       "      <th>form</th>\n",
       "      <th>fiscal_year</th>\n",
       "      <th>fiscal_period_focus</th>\n",
       "      <th>date_filed</th>\n",
       "      <th>date_accepted</th>\n",
       "    </tr>\n",
       "  </thead>\n",
       "  <tbody>\n",
       "    <tr>\n",
       "      <th>0</th>\n",
       "      <td>0001065059-14-000016</td>\n",
       "      <td>USEC INC</td>\n",
       "      <td>Assets</td>\n",
       "      <td>2011-12-31</td>\n",
       "      <td>3.549300e+09</td>\n",
       "      <td>USD</td>\n",
       "      <td>0</td>\n",
       "      <td>us-gaap/2013</td>\n",
       "      <td>1065059</td>\n",
       "      <td>522107911</td>\n",
       "      <td>1400</td>\n",
       "      <td>1231</td>\n",
       "      <td>10-K</td>\n",
       "      <td>2013</td>\n",
       "      <td>FY</td>\n",
       "      <td>2014-03-31</td>\n",
       "      <td>2014-03-31 12:18:00 UTC</td>\n",
       "    </tr>\n",
       "    <tr>\n",
       "      <th>1</th>\n",
       "      <td>0001065059-14-000016</td>\n",
       "      <td>USEC INC</td>\n",
       "      <td>DeferredIncomeTaxesAndTaxCredits</td>\n",
       "      <td>2012-12-31</td>\n",
       "      <td>0.000000e+00</td>\n",
       "      <td>USD</td>\n",
       "      <td>4</td>\n",
       "      <td>us-gaap/2013</td>\n",
       "      <td>1065059</td>\n",
       "      <td>522107911</td>\n",
       "      <td>1400</td>\n",
       "      <td>1231</td>\n",
       "      <td>10-K</td>\n",
       "      <td>2013</td>\n",
       "      <td>FY</td>\n",
       "      <td>2014-03-31</td>\n",
       "      <td>2014-03-31 12:18:00 UTC</td>\n",
       "    </tr>\n",
       "    <tr>\n",
       "      <th>2</th>\n",
       "      <td>0001065059-14-000016</td>\n",
       "      <td>USEC INC</td>\n",
       "      <td>DeferredIncomeTaxesAndTaxCredits</td>\n",
       "      <td>2013-12-31</td>\n",
       "      <td>0.000000e+00</td>\n",
       "      <td>USD</td>\n",
       "      <td>4</td>\n",
       "      <td>us-gaap/2013</td>\n",
       "      <td>1065059</td>\n",
       "      <td>522107911</td>\n",
       "      <td>1400</td>\n",
       "      <td>1231</td>\n",
       "      <td>10-K</td>\n",
       "      <td>2013</td>\n",
       "      <td>FY</td>\n",
       "      <td>2014-03-31</td>\n",
       "      <td>2014-03-31 12:18:00 UTC</td>\n",
       "    </tr>\n",
       "    <tr>\n",
       "      <th>3</th>\n",
       "      <td>0001065059-14-000016</td>\n",
       "      <td>USEC INC</td>\n",
       "      <td>Depreciation</td>\n",
       "      <td>2011-12-31</td>\n",
       "      <td>4.270000e+07</td>\n",
       "      <td>USD</td>\n",
       "      <td>4</td>\n",
       "      <td>us-gaap/2013</td>\n",
       "      <td>1065059</td>\n",
       "      <td>522107911</td>\n",
       "      <td>1400</td>\n",
       "      <td>1231</td>\n",
       "      <td>10-K</td>\n",
       "      <td>2013</td>\n",
       "      <td>FY</td>\n",
       "      <td>2014-03-31</td>\n",
       "      <td>2014-03-31 12:18:00 UTC</td>\n",
       "    </tr>\n",
       "    <tr>\n",
       "      <th>4</th>\n",
       "      <td>0001065059-14-000016</td>\n",
       "      <td>USEC INC</td>\n",
       "      <td>Depreciation</td>\n",
       "      <td>2012-12-31</td>\n",
       "      <td>2.700000e+07</td>\n",
       "      <td>USD</td>\n",
       "      <td>4</td>\n",
       "      <td>us-gaap/2013</td>\n",
       "      <td>1065059</td>\n",
       "      <td>522107911</td>\n",
       "      <td>1400</td>\n",
       "      <td>1231</td>\n",
       "      <td>10-K</td>\n",
       "      <td>2013</td>\n",
       "      <td>FY</td>\n",
       "      <td>2014-03-31</td>\n",
       "      <td>2014-03-31 12:18:00 UTC</td>\n",
       "    </tr>\n",
       "  </tbody>\n",
       "</table>\n",
       "</div>"
      ],
      "text/plain": [
       "      submission_number company_name                       measure_tag  \\\n",
       "0  0001065059-14-000016     USEC INC                            Assets   \n",
       "1  0001065059-14-000016     USEC INC  DeferredIncomeTaxesAndTaxCredits   \n",
       "2  0001065059-14-000016     USEC INC  DeferredIncomeTaxesAndTaxCredits   \n",
       "3  0001065059-14-000016     USEC INC                      Depreciation   \n",
       "4  0001065059-14-000016     USEC INC                      Depreciation   \n",
       "\n",
       "  period_end_date         value units  number_of_quarters       version  \\\n",
       "0      2011-12-31  3.549300e+09   USD                   0  us-gaap/2013   \n",
       "1      2012-12-31  0.000000e+00   USD                   4  us-gaap/2013   \n",
       "2      2013-12-31  0.000000e+00   USD                   4  us-gaap/2013   \n",
       "3      2011-12-31  4.270000e+07   USD                   4  us-gaap/2013   \n",
       "4      2012-12-31  2.700000e+07   USD                   4  us-gaap/2013   \n",
       "\n",
       "  central_index_key        ein   sic  fiscal_year_end  form  fiscal_year  \\\n",
       "0           1065059  522107911  1400             1231  10-K         2013   \n",
       "1           1065059  522107911  1400             1231  10-K         2013   \n",
       "2           1065059  522107911  1400             1231  10-K         2013   \n",
       "3           1065059  522107911  1400             1231  10-K         2013   \n",
       "4           1065059  522107911  1400             1231  10-K         2013   \n",
       "\n",
       "  fiscal_period_focus date_filed            date_accepted  \n",
       "0                  FY 2014-03-31  2014-03-31 12:18:00 UTC  \n",
       "1                  FY 2014-03-31  2014-03-31 12:18:00 UTC  \n",
       "2                  FY 2014-03-31  2014-03-31 12:18:00 UTC  \n",
       "3                  FY 2014-03-31  2014-03-31 12:18:00 UTC  \n",
       "4                  FY 2014-03-31  2014-03-31 12:18:00 UTC  "
      ]
     },
     "execution_count": 7,
     "metadata": {},
     "output_type": "execute_result"
    }
   ],
   "source": [
    "query_one = \"\"\"\n",
    "SELECT *\n",
    "FROM sec_all_usd\n",
    "WHERE company_name = 'USEC INC';\n",
    "\"\"\"\n",
    "\n",
    "one_query = pd_sql.read_sql(query_one, connection)\n",
    "\n",
    "one_query.head()"
   ]
  },
  {
   "cell_type": "code",
   "execution_count": 8,
   "id": "humanitarian-danish",
   "metadata": {},
   "outputs": [
    {
     "data": {
      "text/html": [
       "<div>\n",
       "<style scoped>\n",
       "    .dataframe tbody tr th:only-of-type {\n",
       "        vertical-align: middle;\n",
       "    }\n",
       "\n",
       "    .dataframe tbody tr th {\n",
       "        vertical-align: top;\n",
       "    }\n",
       "\n",
       "    .dataframe thead th {\n",
       "        text-align: right;\n",
       "    }\n",
       "</style>\n",
       "<table border=\"1\" class=\"dataframe\">\n",
       "  <thead>\n",
       "    <tr style=\"text-align: right;\">\n",
       "      <th></th>\n",
       "      <th>debtor_name</th>\n",
       "      <th>date_filed</th>\n",
       "      <th>chapter_filing</th>\n",
       "      <th>ein</th>\n",
       "    </tr>\n",
       "  </thead>\n",
       "  <tbody>\n",
       "    <tr>\n",
       "      <th>0</th>\n",
       "      <td>Cal Dive International, Inc.</td>\n",
       "      <td>2015-03-03</td>\n",
       "      <td>Chapter 11</td>\n",
       "      <td>611500501</td>\n",
       "    </tr>\n",
       "    <tr>\n",
       "      <th>1</th>\n",
       "      <td>EV Energy Partners, L.P.</td>\n",
       "      <td>2018-04-02</td>\n",
       "      <td>Chapter 11</td>\n",
       "      <td>None</td>\n",
       "    </tr>\n",
       "    <tr>\n",
       "      <th>2</th>\n",
       "      <td>SquareTwo Financial Corporation</td>\n",
       "      <td>2017-03-19</td>\n",
       "      <td>Chapter 11</td>\n",
       "      <td>None</td>\n",
       "    </tr>\n",
       "    <tr>\n",
       "      <th>3</th>\n",
       "      <td>Patriot Coal Corporation (2015)</td>\n",
       "      <td>2015-05-12</td>\n",
       "      <td>Chapter 11</td>\n",
       "      <td>None</td>\n",
       "    </tr>\n",
       "    <tr>\n",
       "      <th>4</th>\n",
       "      <td>RCS Capital Corporation</td>\n",
       "      <td>2016-01-31</td>\n",
       "      <td>Chapter 11</td>\n",
       "      <td>None</td>\n",
       "    </tr>\n",
       "  </tbody>\n",
       "</table>\n",
       "</div>"
      ],
      "text/plain": [
       "                       debtor_name date_filed chapter_filing        ein\n",
       "0     Cal Dive International, Inc. 2015-03-03     Chapter 11  611500501\n",
       "1         EV Energy Partners, L.P. 2018-04-02     Chapter 11       None\n",
       "2  SquareTwo Financial Corporation 2017-03-19     Chapter 11       None\n",
       "3  Patriot Coal Corporation (2015) 2015-05-12     Chapter 11       None\n",
       "4          RCS Capital Corporation 2016-01-31     Chapter 11       None"
      ]
     },
     "execution_count": 8,
     "metadata": {},
     "output_type": "execute_result"
    }
   ],
   "source": [
    "## first try join after uppercase debtor_name in brd list\n",
    "\n",
    "join_try1 = \"\"\"\n",
    "SELECT distinct a.debtor_name, a.date_filed, a.chapter_filing, b.ein\n",
    "FROM ucla_brd_list as A\n",
    "    LEFT JOIN sec_all_usd as B\n",
    "ON UPPER(A.debtor_name) = UPPER(B.company_name)\n",
    "WHERE a.date_filed >= '2014-01-01'\n",
    ";\"\"\"\n",
    "\n",
    "t1_join = pd_sql.read_sql(join_try1, connection)\n",
    "t1_join.head()"
   ]
  },
  {
   "cell_type": "code",
   "execution_count": 9,
   "id": "unnecessary-shock",
   "metadata": {},
   "outputs": [
    {
     "data": {
      "text/plain": [
       "(231, 4)"
      ]
     },
     "execution_count": 9,
     "metadata": {},
     "output_type": "execute_result"
    }
   ],
   "source": [
    "t1_join.shape"
   ]
  },
  {
   "cell_type": "code",
   "execution_count": 10,
   "id": "short-pontiac",
   "metadata": {},
   "outputs": [
    {
     "data": {
      "text/plain": [
       "debtor_name       78\n",
       "date_filed        78\n",
       "chapter_filing    78\n",
       "ein               78\n",
       "dtype: int64"
      ]
     },
     "execution_count": 10,
     "metadata": {},
     "output_type": "execute_result"
    }
   ],
   "source": [
    "t1_join[t1_join['ein'].notna()].count()"
   ]
  },
  {
   "cell_type": "code",
   "execution_count": 11,
   "id": "organized-seating",
   "metadata": {},
   "outputs": [
    {
     "data": {
      "text/plain": [
       "debtor_name       153\n",
       "date_filed        153\n",
       "chapter_filing    153\n",
       "ein                 0\n",
       "dtype: int64"
      ]
     },
     "execution_count": 11,
     "metadata": {},
     "output_type": "execute_result"
    }
   ],
   "source": [
    "t1_join[t1_join['ein'].isna()].count()"
   ]
  },
  {
   "cell_type": "code",
   "execution_count": 12,
   "id": "union-format",
   "metadata": {},
   "outputs": [],
   "source": [
    "## export t1_join and look up eins\n",
    "\n",
    "t1_join.to_excel('debtor_list_ein_review.xlsx', index=False)"
   ]
  },
  {
   "cell_type": "code",
   "execution_count": 13,
   "id": "robust-statistics",
   "metadata": {},
   "outputs": [
    {
     "data": {
      "text/html": [
       "<div>\n",
       "<style scoped>\n",
       "    .dataframe tbody tr th:only-of-type {\n",
       "        vertical-align: middle;\n",
       "    }\n",
       "\n",
       "    .dataframe tbody tr th {\n",
       "        vertical-align: top;\n",
       "    }\n",
       "\n",
       "    .dataframe thead th {\n",
       "        text-align: right;\n",
       "    }\n",
       "</style>\n",
       "<table border=\"1\" class=\"dataframe\">\n",
       "  <thead>\n",
       "    <tr style=\"text-align: right;\">\n",
       "      <th></th>\n",
       "      <th>ein</th>\n",
       "      <th>company_name</th>\n",
       "    </tr>\n",
       "  </thead>\n",
       "  <tbody>\n",
       "    <tr>\n",
       "      <th>0</th>\n",
       "      <td>454440364</td>\n",
       "      <td>MELINTA THERAPEUTICS, INC. /NEW/</td>\n",
       "    </tr>\n",
       "  </tbody>\n",
       "</table>\n",
       "</div>"
      ],
      "text/plain": [
       "         ein                      company_name\n",
       "0  454440364  MELINTA THERAPEUTICS, INC. /NEW/"
      ]
     },
     "execution_count": 13,
     "metadata": {},
     "output_type": "execute_result"
    }
   ],
   "source": [
    "# Query db table to find EINS \n",
    "# This query was run mulitple times to fill in missing EINS\n",
    "# where not name match exactly between the two data sources\n",
    "\n",
    "query_co = \"\"\"\n",
    "SELECT distinct ein, company_name\n",
    "FROM sec_all_usd\n",
    "WHERE lower(company_name) LIKE '%melinta%'\n",
    ";\n",
    "\"\"\"\n",
    "\n",
    "find_ein = pd_sql.read_sql(query_co, connection)\n",
    "\n",
    "find_ein"
   ]
  },
  {
   "cell_type": "code",
   "execution_count": null,
   "id": "focal-arabic",
   "metadata": {},
   "outputs": [],
   "source": []
  }
 ],
 "metadata": {
  "kernelspec": {
   "display_name": "Python [conda env:metis] *",
   "language": "python",
   "name": "conda-env-metis-py"
  },
  "language_info": {
   "codemirror_mode": {
    "name": "ipython",
    "version": 3
   },
   "file_extension": ".py",
   "mimetype": "text/x-python",
   "name": "python",
   "nbconvert_exporter": "python",
   "pygments_lexer": "ipython3",
   "version": "3.8.6"
  }
 },
 "nbformat": 4,
 "nbformat_minor": 5
}
